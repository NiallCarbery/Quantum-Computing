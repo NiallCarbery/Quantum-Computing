{
  "cells": [
    {
      "cell_type": "markdown",
      "metadata": {
        "id": "BEJU1uAzK1U4"
      },
      "source": [
        "# Variational Circuits in Qiskit\n",
        "\n",
        "This notebook is an introduction to how to create variational circuits in Qiskit and how we can connnect it to a classical optimizer to prepare a target state vector. This is based on the variational method in quantum mechanics for finding an upper bound on the minimum eigenvalue, however here will just be measuring state fidelity.\n",
        "\n",
        "Further information can be found at the following links:\n",
        "\n",
        "\n",
        "*   https://qiskit.org/documentation/stubs/qiskit.algorithms.VQE.html\n",
        "*   https://qiskit.org/ecosystem/ibm-runtime/tutorials/vqe_with_estimator.html\n",
        "*   https://qiskit.org/documentation/stubs/qiskit.circuit.library.EfficientSU2.html\n",
        "*   https://qiskit.org/documentation/stubs/qiskit.circuit.library.TwoLocal.html#qiskit.circuit.library.TwoLocal\n",
        "\n",
        "We will consider two methods for creating our variational form, one manually and one using a built-in Qiskit library.\n",
        "\n",
        "Once you've identified an appropriate variational form you then need to optimize its parameters. A whole host of optimizers are available through Qiskit here (https://qiskit.org/documentation/stubs/qiskit.algorithms.optimizers.html). We note some below:\n",
        "\n",
        "*   We focus on COBYLA in this notebook, this is a non-gradient based classical optimiser and suitable for noiseless objective functions.\n",
        "*   Gradient-descent is typically not recommened for variational problems, this optimization strategy often gets stuck at poor local optima and is relatively expensive in terms of the number of circuit evaluations performed.  \n",
        "*   SPSA is more appropriate for noisy objective functions\n"
      ]
    },
    {
      "cell_type": "markdown",
      "metadata": {
        "id": "jtyMsMzXZ90z"
      },
      "source": [
        "\n",
        "1.   **Example with 3 Qubits and repeated variational form to find circuit that creates target state vector**"
      ]
    },
    {
      "cell_type": "code",
      "execution_count": 7,
      "metadata": {
        "id": "Dr2xnXDaXVcJ"
      },
      "outputs": [],
      "source": [
        "# Library Imports\n",
        "import numpy as np\n",
        "\n",
        "from qiskit import QuantumCircuit, ClassicalRegister, QuantumRegister, Aer, transpile, assemble\n",
        "from qiskit.quantum_info import Statevector\n",
        "from qiskit.algorithms.optimizers import COBYLA, GradientDescent\n",
        "from qiskit.quantum_info import state_fidelity\n",
        "from qiskit.circuit.library import EfficientSU2\n"
      ]
    },
    {
      "cell_type": "markdown",
      "metadata": {
        "id": "rCH85k9dMp5x"
      },
      "source": [
        "Create a random 3 Qubit state vector that we want to prepare. Choosing the seed to start with will always choose the same random state vector."
      ]
    },
    {
      "cell_type": "code",
      "execution_count": 8,
      "metadata": {
        "id": "FfWU058laaC7"
      },
      "outputs": [
        {
          "data": {
            "text/latex": [
              "$$0.2154510757 |000\\rangle+0.2040653501 |001\\rangle+0.5019232165 |010\\rangle+0.0566593494 |011\\rangle+0.4553356481 |100\\rangle+0.4586849893 |101\\rangle+0.1405533203 |110\\rangle+0.4683196152 |111\\rangle$$"
            ],
            "text/plain": [
              "<IPython.core.display.Latex object>"
            ]
          },
          "execution_count": 8,
          "metadata": {},
          "output_type": "execute_result"
        }
      ],
      "source": [
        "num_qbits = 3\n",
        "\n",
        "# Create random probability vector\n",
        "np.random.seed(999999)\n",
        "target_dist = np.random.rand(2**num_qbits)\n",
        "# Now convert the random vector into a valid state vector\n",
        "target_state = target_dist/np.sqrt(sum(np.abs(target_dist)**2))\n",
        "#target_state = (1/(2*np.sqrt(2)))*np.array([1, 1, 1, 1, 1, 1, 1, 1])\n",
        "Statevector(target_state).draw('latex')\n"
      ]
    },
    {
      "cell_type": "markdown",
      "metadata": {
        "id": "Aj_6BbIZNOpn"
      },
      "source": [
        "First we show a manual method for creating our variational circuit given a set of parameters. Ensure you follow how parameters are mapped to a given quantum gate.\n"
      ]
    },
    {
      "cell_type": "code",
      "execution_count": 9,
      "metadata": {
        "id": "d3EzMq37ciPZ"
      },
      "outputs": [],
      "source": [
        "# Create Single 3 Qubit variational form given a QuantumCircuit\n",
        "def add_var_form(qc, current_rep, params):\n",
        "  num_qubits = len(qc.qubits)\n",
        "  for current_qubit_index in range(num_qubits):\n",
        "    qc.rx(params[2*(current_qubit_index) + 6*current_rep], current_qubit_index)\n",
        "    qc.rz(params[2*(current_qubit_index) + 6*current_rep + 1], current_qubit_index)\n",
        "  for current_qubit_index in range(num_qubits):\n",
        "    if(current_qubit_index + 1 < num_qubits):\n",
        "      qc.cx(current_qubit_index, current_qubit_index + 1)\n",
        "\n",
        "# Create the entire variational form circuit with repetitions\n",
        "## Returns a quantumcircuit\n",
        "## params[rep][0-5 for each single qubit gate]\n",
        "def create_var_form_circuit(num_qubits, num_cbits, num_reps, params):\n",
        "  qc = QuantumCircuit(num_qubits, num_cbits)\n",
        "  for current_rep in range(num_reps):\n",
        "    add_var_form(qc, current_rep, params)\n",
        "  qc.measure_all(add_bits=False)\n",
        "  return qc"
      ]
    },
    {
      "cell_type": "markdown",
      "metadata": {
        "id": "tyD26B6WNezr"
      },
      "source": [
        "For example, we can create the full circuit with 3 qubits, 3 classical bits, and 4 variational form repetitions. This variational form has a particular entanglement pattern known as \"linear\". We also pass a set of parameters to set the angles for all of the Rx and Rz gates, generated randomly as an initial set of parameters."
      ]
    },
    {
      "cell_type": "code",
      "execution_count": 10,
      "metadata": {
        "id": "vnywdnCtSD9I"
      },
      "outputs": [
        {
          "data": {
            "image/png": "[encoded data removed]",
            "text/plain": [
              "<Figure size 621.941x367.889 with 1 Axes>"
            ]
          },
          "execution_count": 10,
          "metadata": {},
          "output_type": "execute_result"
        }
      ],
      "source": [
        "num_reps   = 1\n",
        "num_1qg    = 2 #number of 1 qubit gates per qubit per rep\n",
        "num_cbits  = num_qbits\n",
        "\n",
        "params = np.random.rand(num_reps*num_1qg*num_qbits)\n",
        "qc = create_var_form_circuit(num_qbits, num_cbits, num_reps, params)\n",
        "\n",
        "qc.draw('mpl', style='iqp')"
      ]
    },
    {
      "cell_type": "markdown",
      "metadata": {
        "id": "VNTrJBJKN_bc"
      },
      "source": [
        "Next we note the quantum backend we will run our circuit on. You could also choose a noisy backend such as one based on an actual IBMQ device or even the actual IBMQ device itself."
      ]
    },
    {
      "cell_type": "code",
      "execution_count": 11,
      "metadata": {
        "id": "HeyvaR1LcjWf"
      },
      "outputs": [],
      "source": [
        "# Specify objective function and return cost associated with parameter choice\n",
        "backend = Aer.get_backend(\"qasm_simulator\")\n",
        "NUM_SHOTS = 1000\n",
        "# Initial parameters for all single qubit rotation gates\n",
        "num_reps   = 1\n",
        "num_1qg    = 2 #number of 1 qubit gates per qubit per rep\n",
        "num_cbits  = num_qbits\n",
        "basis_states = [format(current_value, '0'+str(num_qbits)+'b') for current_value in range(0,2**num_qbits)]\n",
        "use_qiskit_function_flag = True\n",
        "\n",
        "# Given the set of counts measured for each basis state return a vector of probabilities\n",
        "def get_probability_distribution(counts):\n",
        "  output_dist = []\n",
        "  for current_key in basis_states:\n",
        "    output_dist.append(counts.get(current_key, 0)/NUM_SHOTS)\n",
        "  if (len(output_dist) == 1):\n",
        "    output_dist.append(1 - output_dist[0])\n",
        "  return output_dist\n",
        "\n",
        "def objective_function(params):\n",
        "  if use_qiskit_function_flag:\n",
        "    #Qiskit built in function\n",
        "    qc = EfficientSU2(num_qubits=num_qbits, entanglement=\"linear\", su2_gates=['rx', 'rz'], reps=num_reps, skip_final_rotation_layer=True)\n",
        "    qc = qc.bind_parameters(params)\n",
        "    qc.measure_all()\n",
        "  else:\n",
        "    #Manually create variational form\n",
        "    qc = create_var_form_circuit(num_qbits, num_cbits, num_reps, params)\n",
        "  #Execute the quantum circuit to obtain the probability distribution associated with the current parameters\n",
        "  trans_qc = transpile(qc, backend)\n",
        "  qobj     = assemble(trans_qc, shots=NUM_SHOTS)\n",
        "  result   = backend.run(qobj, shots=NUM_SHOTS).result()\n",
        "  #Obtain the counts for each measured state, and convert those counts into a probability vector\n",
        "  output_dist  = get_probability_distribution(result.get_counts(qc))\n",
        "  #Then create a valid quantum state vector\n",
        "  output_state = output_dist/(np.sqrt(sum(np.abs(output_dist)**2)))\n",
        "  #Calculate the cost using state fidelity\n",
        "  #cost = sum([np.abs(output_state[i] - target_dist[i]) for i in range(len(target_dist))])\n",
        "  cost = state_fidelity(Statevector(target_state), Statevector(output_state))\n",
        "  return (1-cost)"
      ]
    },
    {
      "cell_type": "markdown",
      "metadata": {
        "id": "n13RDD6hPbzt"
      },
      "source": [
        "Initialise the COBYLA optimizer and run the algorithm"
      ]
    },
    {
      "cell_type": "code",
      "execution_count": 12,
      "metadata": {
        "id": "9FrwKZRvfg23"
      },
      "outputs": [
        {
          "name": "stderr",
          "output_type": "stream",
          "text": [
            "/tmp/ipykernel_55844/125658752.py:24: DeprecationWarning: The method ``qiskit.circuit.quantumcircuit.QuantumCircuit.bind_parameters()`` is deprecated as of qiskit 0.45.0. It will be removed no earlier than 3 months after the release date. Use assign_parameters() instead\n",
            "  qc = qc.bind_parameters(params)\n",
            "/tmp/ipykernel_55844/125658752.py:32: DeprecationWarning: Using a qobj for run() is deprecated as of qiskit-aer 0.9.0 and will be removed no sooner than 3 months from that release date. Transpiled circuits should now be passed directly using `backend.run(circuits, **run_options).\n",
            "  result   = backend.run(qobj, shots=NUM_SHOTS).result()\n",
            "/tmp/ipykernel_55844/562576366.py:12: DeprecationWarning: The method ``qiskit.circuit.quantumcircuit.QuantumCircuit.bind_parameters()`` is deprecated as of qiskit 0.45.0. It will be removed no earlier than 3 months after the release date. Use assign_parameters() instead\n",
            "  qc = qc.bind_parameters(result_op.x)\n"
          ]
        },
        {
          "name": "stdout",
          "output_type": "stream",
          "text": [
            "Target State: [0.21545108 0.20406535 0.50192322 0.05665935 0.45533565 0.45868499\n",
            " 0.14055332 0.46831962]\n",
            "Obtained State: [0.27844907 0.10146873 0.22889457 0.59465394 0.60409289 0.25957117\n",
            " 0.09438951 0.25485169]\n",
            "State Fidelity: 0.5715720458466556\n",
            "Parameters Found: [1.57151537 1.14584795 2.01149054 0.83668234 0.22181891 0.47876573]\n"
          ]
        },
        {
          "data": {
            "image/png": "[encoded data removed]",
            "text/plain": [
              "<Figure size 831.22x367.889 with 1 Axes>"
            ]
          },
          "execution_count": 12,
          "metadata": {},
          "output_type": "execute_result"
        }
      ],
      "source": [
        "# Initialise COBYLA\n",
        "optimizer = COBYLA(maxiter=10, tol=0.000001)\n",
        "#optimizer  = GradientDescent(maxiter=10)\n",
        "\n",
        "#Run Optimisation here\n",
        "params     = np.random.rand(num_reps*num_1qg*num_qbits)\n",
        "result_op  = optimizer.minimize(fun = objective_function, x0 = params)\n",
        "\n",
        "#Obtain optimized circuit\n",
        "#if use_qiskit_function_flag:\n",
        "qc = EfficientSU2(num_qubits=num_qbits, entanglement=\"linear\", su2_gates=['rx', 'rz'], reps=num_reps, skip_final_rotation_layer=True)\n",
        "qc = qc.bind_parameters(result_op.x)\n",
        "qc.measure_all()\n",
        "#else:\n",
        "#  qc = create_var_form_circuit(num_qbits, num_cbits, num_reps, result_op.x)\n",
        "\n",
        "trans_qc     = transpile(qc, backend)\n",
        "qobj         = assemble(trans_qc, shots=1000)\n",
        "counts       = backend.run(trans_qc).result().get_counts()\n",
        "output_dist  = get_probability_distribution(counts)\n",
        "output_state = output_dist/np.sqrt(sum(np.abs(output_dist)**2))\n",
        "\n",
        "print(\"Target State:\", target_state)\n",
        "print(\"Obtained State:\", output_state)\n",
        "print(\"State Fidelity:\", state_fidelity(Statevector(target_state), Statevector(output_state)))\n",
        "print(\"Parameters Found:\", result_op.x)\n",
        "\n",
        "\n",
        "qc.decompose().draw('mpl', fold=-1, style='iqp')\n",
        "#qc.draw('mpl', style='iqp')"
      ]
    },
    {
      "cell_type": "markdown",
      "metadata": {
        "id": "p_yP5F3KTGhM"
      },
      "source": [
        "# Questions to consider\n",
        "\n",
        "*   How does the number of shots in the quantum circuit affect the outcome?\n",
        "*   How does the number of classical iterations for the optimizer affect the outcome?\n",
        "*   How does the number of variational form repetitions affect the outcome?\n",
        "*   What about the choice of classical optimizer?\n",
        "*   Can you run this on a noisy backend and compare the performance of classical optimizers?"
      ]
    },
    {
      "cell_type": "code",
      "execution_count": null,
      "metadata": {
        "id": "dpubll_vTEnq"
      },
      "outputs": [],
      "source": []
    },
    {
      "cell_type": "code",
      "execution_count": null,
      "metadata": {
        "id": "16W0wsNzMgdx"
      },
      "outputs": [],
      "source": []
    }
  ],
  "metadata": {
    "colab": {
      "provenance": []
    },
    "kernelspec": {
      "display_name": "Python 3",
      "name": "python3"
    },
    "language_info": {
      "codemirror_mode": {
        "name": "ipython",
        "version": 3
      },
      "file_extension": ".py",
      "mimetype": "text/x-python",
      "name": "python",
      "nbconvert_exporter": "python",
      "pygments_lexer": "ipython3",
      "version": "3.10.12"
    }
  },
  "nbformat": 4,
  "nbformat_minor": 0
}

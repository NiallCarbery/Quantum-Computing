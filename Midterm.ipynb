{
 "cells": [
  {
   "cell_type": "markdown",
   "metadata": {},
   "source": [
    "Niall Carbery 22380966. When asked for the expectation value we are concerned with measurement outcomes, and\n",
    "not building an evolution operator out of the Hamiltonian. Keep this in mind throughout\n",
    "the project."
   ]
  },
  {
   "cell_type": "code",
   "execution_count": 53,
   "metadata": {},
   "outputs": [
    {
     "ename": "ImportError",
     "evalue": "Qiskit is installed in an invalid environment that has both Qiskit >=1.0 and an earlier version. You should create a new virtual environment, and ensure that you do not mix dependencies between Qiskit <1.0 and >=1.0. Any packages that depend on 'qiskit-terra' are not compatible with Qiskit 1.0 and will need to be updated. Qiskit unfortunately cannot enforce this requirement during environment resolution. See https://qisk.it/packaging-1-0 for more detail.",
     "output_type": "error",
     "traceback": [
      "\u001b[0;31m---------------------------------------------------------------------------\u001b[0m",
      "\u001b[0;31mImportError\u001b[0m                               Traceback (most recent call last)",
      "Cell \u001b[0;32mIn[53], line 3\u001b[0m\n\u001b[1;32m      1\u001b[0m \u001b[38;5;28;01mimport\u001b[39;00m \u001b[38;5;21;01mnumpy\u001b[39;00m \u001b[38;5;28;01mas\u001b[39;00m \u001b[38;5;21;01mnp\u001b[39;00m\n\u001b[1;32m      2\u001b[0m \u001b[38;5;28;01mimport\u001b[39;00m \u001b[38;5;21;01mscipy\u001b[39;00m\u001b[38;5;21;01m.\u001b[39;00m\u001b[38;5;21;01mlinalg\u001b[39;00m\n\u001b[0;32m----> 3\u001b[0m \u001b[38;5;28;01mfrom\u001b[39;00m \u001b[38;5;21;01mqiskit\u001b[39;00m \u001b[38;5;28;01mimport\u001b[39;00m QuantumCircuit, Aer, execute\n\u001b[1;32m      4\u001b[0m \u001b[38;5;28;01mfrom\u001b[39;00m \u001b[38;5;21;01mqiskit\u001b[39;00m\u001b[38;5;21;01m.\u001b[39;00m\u001b[38;5;21;01mvisualization\u001b[39;00m \u001b[38;5;28;01mimport\u001b[39;00m plot_bloch_multivector\n",
      "File \u001b[0;32m~/.local/lib/python3.10/site-packages/qiskit/__init__.py:36\u001b[0m\n\u001b[1;32m     34\u001b[0m     _suppress_error \u001b[38;5;241m=\u001b[39m os\u001b[38;5;241m.\u001b[39menviron\u001b[38;5;241m.\u001b[39mget(\u001b[38;5;124m\"\u001b[39m\u001b[38;5;124mQISKIT_SUPPRESS_1_0_IMPORT_ERROR\u001b[39m\u001b[38;5;124m\"\u001b[39m, \u001b[38;5;28;01mFalse\u001b[39;00m) \u001b[38;5;241m==\u001b[39m \u001b[38;5;124m\"\u001b[39m\u001b[38;5;124m1\u001b[39m\u001b[38;5;124m\"\u001b[39m\n\u001b[1;32m     35\u001b[0m     \u001b[38;5;28;01mif\u001b[39;00m \u001b[38;5;129;01mnot\u001b[39;00m _suppress_error \u001b[38;5;129;01mand\u001b[39;00m _has_tools:\n\u001b[0;32m---> 36\u001b[0m         \u001b[38;5;28;01mraise\u001b[39;00m \u001b[38;5;167;01mImportError\u001b[39;00m(\n\u001b[1;32m     37\u001b[0m             \u001b[38;5;124m\"\u001b[39m\u001b[38;5;124mQiskit is installed in an invalid environment that has both Qiskit >=1.0\u001b[39m\u001b[38;5;124m\"\u001b[39m\n\u001b[1;32m     38\u001b[0m             \u001b[38;5;124m\"\u001b[39m\u001b[38;5;124m and an earlier version.\u001b[39m\u001b[38;5;124m\"\u001b[39m\n\u001b[1;32m     39\u001b[0m             \u001b[38;5;124m\"\u001b[39m\u001b[38;5;124m You should create a new virtual environment, and ensure that you do not mix\u001b[39m\u001b[38;5;124m\"\u001b[39m\n\u001b[1;32m     40\u001b[0m             \u001b[38;5;124m\"\u001b[39m\u001b[38;5;124m dependencies between Qiskit <1.0 and >=1.0.\u001b[39m\u001b[38;5;124m\"\u001b[39m\n\u001b[1;32m     41\u001b[0m             \u001b[38;5;124m\"\u001b[39m\u001b[38;5;124m Any packages that depend on \u001b[39m\u001b[38;5;124m'\u001b[39m\u001b[38;5;124mqiskit-terra\u001b[39m\u001b[38;5;124m'\u001b[39m\u001b[38;5;124m are not compatible with Qiskit 1.0 and\u001b[39m\u001b[38;5;124m\"\u001b[39m\n\u001b[1;32m     42\u001b[0m             \u001b[38;5;124m\"\u001b[39m\u001b[38;5;124m will need to be updated.\u001b[39m\u001b[38;5;124m\"\u001b[39m\n\u001b[1;32m     43\u001b[0m             \u001b[38;5;124m\"\u001b[39m\u001b[38;5;124m Qiskit unfortunately cannot enforce this requirement during environment resolution.\u001b[39m\u001b[38;5;124m\"\u001b[39m\n\u001b[1;32m     44\u001b[0m             \u001b[38;5;124m\"\u001b[39m\u001b[38;5;124m See https://qisk.it/packaging-1-0 for more detail.\u001b[39m\u001b[38;5;124m\"\u001b[39m\n\u001b[1;32m     45\u001b[0m         )\n\u001b[1;32m     47\u001b[0m \u001b[38;5;28;01mimport\u001b[39;00m \u001b[38;5;21;01mqiskit\u001b[39;00m\u001b[38;5;21;01m.\u001b[39;00m\u001b[38;5;21;01m_accelerate\u001b[39;00m\n\u001b[1;32m     50\u001b[0m \u001b[38;5;66;03m# Globally define compiled submodules. The normal import mechanism will not find compiled submodules\u001b[39;00m\n\u001b[1;32m     51\u001b[0m \u001b[38;5;66;03m# in _accelerate because it relies on file paths, but PyO3 generates only one shared library file.\u001b[39;00m\n\u001b[1;32m     52\u001b[0m \u001b[38;5;66;03m# We manually define them on import so people can directly import qiskit._accelerate.* submodules\u001b[39;00m\n\u001b[1;32m     53\u001b[0m \u001b[38;5;66;03m# and not have to rely on attribute access.  No action needed for top-level extension packages.\u001b[39;00m\n",
      "\u001b[0;31mImportError\u001b[0m: Qiskit is installed in an invalid environment that has both Qiskit >=1.0 and an earlier version. You should create a new virtual environment, and ensure that you do not mix dependencies between Qiskit <1.0 and >=1.0. Any packages that depend on 'qiskit-terra' are not compatible with Qiskit 1.0 and will need to be updated. Qiskit unfortunately cannot enforce this requirement during environment resolution. See https://qisk.it/packaging-1-0 for more detail."
     ]
    }
   ],
   "source": [
    "import numpy as np\n",
    "import scipy.linalg\n",
    "from qiskit import QuantumCircuit, Aer, execute\n",
    "from qiskit.visualization import plot_bloch_multivector"
   ]
  },
  {
   "cell_type": "markdown",
   "metadata": {},
   "source": [
    "<b>Consider the following two qubit hamiltonian $\\hat H_a$:\n",
    "$\\hat H_a$ = Z0 ⊗ Z1\n",
    "where Z0, Z1 represent the Pauli-Z operator applied to qubits 0 and 1 respectively. Given an arbitrary\n",
    "two qubit state vector |ψ⟩, we can compute the expectation value of the hamiltonian as follows:\n",
    "⟨ψ|$\\hat H_a$ |ψ⟩\n",
    "If we can only perform measurements on the qubits in the Z-basis, {|0⟩, |1⟩}, how can we use the\n",
    "measurement outcomes on the two qubits to calculate the expectation value of $\\hat H_a$?</b>"
   ]
  },
  {
   "cell_type": "markdown",
   "metadata": {},
   "source": [
    "The expectation value of the Hamiltonian can be determined by  $⟨H⟩ = \\sum_i P_i E_i$ where: \n",
    "- ($P_i$) represents the probability of being in state (i), \n",
    "- ($E_i$) is the energy associated with state (i). <p>\n",
    "\n",
    "Therfore our quibits are in an initial state of a superposition of the basis states {|0>, |1>}. Measuring the quibits over the Z operater we get the eigenvalues of +1 for |0> and -1 for |1>. \n",
    "<p>\n",
    "For the two quibit system the Z expectation value is given by the number counts of |00>, |01>, |10> and |11>. We can estimate the expectation value by measuring the two quibits the expectation value of = P(|00>) + P(|11>) - P(|01>) - P(|10>). We can roughly determine the these probabilties by measuring the quibits numerous times. "
   ]
  },
  {
   "cell_type": "code",
   "execution_count": null,
   "metadata": {},
   "outputs": [],
   "source": [
    "# Define the Pauli Matrices\n",
    "\n",
    "def dagger(state):\n",
    "    return np.transpose(np.conj(state))\n",
    "\n",
    "pauli_I = np.array([[1,0],[0,1]])\n",
    "pauli_X = np.array([[0,1],[1,0]])\n",
    "pauli_Y = np.array([[0,-1j],[1j,0]])\n",
    "pauli_Z = np.array([[1,0],[0,-1]])\n",
    "\n",
    "pauli_matrices = [pauli_I, pauli_X, pauli_Y, pauli_Z]\n",
    "\n",
    "# Define Hadamard Gate\n",
    "hadamard = (1/np.sqrt(2))*np.array([[1,1],[1,-1]])\n",
    "\n",
    "# Define Phase gate\n",
    "s_phase  = np.array([[1,0],[0,1j]])"
   ]
  },
  {
   "cell_type": "markdown",
   "metadata": {},
   "source": [
    "###\n",
    "<b>How can we now calculate the expecation for a hamiltonian with Pauli matrices other than Z? For\n",
    "example, consider the following 3 qubit hamiltonian: $\\hat H_c = X_0 \\otimes Y_1 \\otimes Z_2$</b>"
   ]
  },
  {
   "cell_type": "code",
   "execution_count": null,
   "metadata": {},
   "outputs": [
    {
     "name": "stdout",
     "output_type": "stream",
     "text": [
      "HAM TOT EIGENVALUES AND EIGENVECTORS\n",
      "Ham tot EigenValues: [-1. -1. -1. -1.  1.  1.  1.  1.]\n",
      "Ham tot EigenVectors: \n",
      " [[ 0.707  0.     0.     0.    -0.707  0.     0.     0.   ]\n",
      " [ 0.     0.     0.     0.     0.     0.     0.     0.   ]\n",
      " [ 0.     0.707  0.     0.     0.     0.    -0.707  0.   ]\n",
      " [ 0.     0.     0.     0.     0.     0.     0.     0.   ]\n",
      " [ 0.     0.     0.     0.     0.     0.     0.     0.   ]\n",
      " [ 0.     0.    -0.707  0.     0.     0.707  0.     0.   ]\n",
      " [ 0.     0.     0.     0.     0.     0.     0.     0.   ]\n",
      " [ 0.     0.     0.    -0.707  0.     0.     0.     0.707]]\n"
     ]
    }
   ],
   "source": [
    "def find_pauli_coeffs_3qubit(ham):\n",
    "    ham_pauli_coeffs = {}\n",
    "    for indexA, current_pauli_A in enumerate(pauli_matrices):\n",
    "        for indexB, current_pauli_B in enumerate(pauli_matrices):\n",
    "            for indexC, current_pauli_C in enumerate(pauli_matrices):\n",
    "                current_pauli_string = np.kron(np.kron(current_pauli_A, current_pauli_B), current_pauli_C)\n",
    "                current_ham_projection = np.real((1/2**3) * np.trace(ham @ current_pauli_string))\n",
    "                if current_ham_projection != 0.0:\n",
    "                    ham_pauli_coeffs.update({f\"{indexA}{indexB}{indexC}\": current_ham_projection})\n",
    "    return ham_pauli_coeffs\n",
    "\n",
    "def basis_transform_3qubit(pauli_string):\n",
    "    system_A_pauli = int(pauli_string[0])\n",
    "    system_B_pauli = int(pauli_string[1])\n",
    "    system_C_pauli = int(pauli_string[2])\n",
    "    \n",
    "    system_A_transform = None\n",
    "    system_B_transform = None\n",
    "    system_C_transform = None\n",
    "    \n",
    "    if system_A_pauli == 0:\n",
    "        system_A_transform = pauli_I\n",
    "    elif system_A_pauli == 1:\n",
    "        system_A_transform = hadamard\n",
    "    elif system_A_pauli == 2:\n",
    "        system_A_transform = hadamard @ dagger(s_phase)\n",
    "    elif system_A_pauli == 3:\n",
    "        system_A_transform = pauli_I\n",
    "    \n",
    "    if system_B_pauli == 0:\n",
    "        system_B_transform = pauli_I\n",
    "    elif system_B_pauli == 1:\n",
    "        system_B_transform = hadamard\n",
    "    elif system_B_pauli == 2:\n",
    "        system_B_transform = hadamard @ dagger(s_phase)\n",
    "    elif system_B_pauli == 3:\n",
    "        system_B_transform = pauli_I\n",
    "    \n",
    "    if system_C_pauli == 0:\n",
    "        system_C_transform = pauli_I\n",
    "    elif system_C_pauli == 1:\n",
    "        system_C_transform = hadamard\n",
    "    elif system_C_pauli == 2:\n",
    "        system_C_transform = hadamard @ dagger(s_phase)\n",
    "    elif system_C_pauli == 3:\n",
    "        system_C_transform = pauli_I\n",
    "    \n",
    "    return np.kron(np.kron(system_A_transform, system_B_transform), system_C_transform)\n",
    "\n",
    "def expectation_from_decomp_3qubit(ham_pauli_decomp, state):\n",
    "    total_expectation = 0.0\n",
    "    for current_key in ham_pauli_decomp.keys():\n",
    "        current_transform = basis_transform_3qubit(current_key)\n",
    "        transformed_state = current_transform @ state\n",
    "        system_A_pauli = int(current_key[0])\n",
    "        system_B_pauli = int(current_key[1])\n",
    "        system_C_pauli = int(current_key[2])\n",
    "        \n",
    "        if system_A_pauli == 0:\n",
    "            system_A_op = pauli_I\n",
    "        else:\n",
    "            system_A_op = pauli_Z\n",
    "            \n",
    "        if system_B_pauli == 0:\n",
    "            system_B_op = pauli_I\n",
    "        else:\n",
    "            system_B_op = pauli_Z\n",
    "            \n",
    "        if system_C_pauli == 0:\n",
    "            system_C_op = pauli_I\n",
    "        else:\n",
    "            system_C_op = pauli_Z\n",
    "            \n",
    "        total_expectation += ham_pauli_decomp[current_key] * dagger(transformed_state) @ np.kron(np.kron(system_A_op, system_B_op), system_C_op) @ transformed_state\n",
    "\n",
    "    return total_expectation\n",
    "\n",
    "\n",
    "hama = np.kron(np.kron(pauli_X, pauli_Y), pauli_Z)\n",
    "\n",
    "ham_tot_pauli_decomp = find_pauli_coeffs_3qubit(hama)\n",
    "\n",
    "np.set_printoptions(precision=3)\n",
    "eigvals_tot, eigvecs_tot = scipy.linalg.eigh(hama)\n",
    "print(\"HAM TOT EIGENVALUES AND EIGENVECTORS\")\n",
    "print(f\"Ham tot EigenValues: {eigvals_tot}\")\n",
    "print(f\"Ham tot EigenVectors: \\n {np.real(eigvecs_tot)}\")\n",
    "\n",
    "\n",
    "#ground_state_tot = eigvecs_tot[:,0]\n",
    "#expectation_from_decomp_3qubit(ham_tot_pauli_decomp, ground_state_tot)"
   ]
  },
  {
   "cell_type": "markdown",
   "metadata": {},
   "source": [
    "Since we can only measure in the Z- basis, we need to express the Hamiltonian in terms of the Z-basis states. Where the operaters are repersented as \n",
    "- X operator: $X = HZH$\n",
    "- Y operator: $Y = SHZHS^*$\n",
    "\n"
   ]
  },
  {
   "cell_type": "code",
   "execution_count": null,
   "metadata": {},
   "outputs": [],
   "source": [
    "## 4 quibits"
   ]
  },
  {
   "cell_type": "code",
   "execution_count": null,
   "metadata": {},
   "outputs": [
    {
     "name": "stdout",
     "output_type": "stream",
     "text": [
      "HAM TOT EIGENVALUES AND EIGENVECTORS\n",
      "Ham tot EigenValues: [0. 1.]\n",
      "Ham tot EigenVectors: [[ 0.+0.j -1.+0.j]\n",
      " [-1.+0.j -0.+0.j]]\n"
     ]
    }
   ],
   "source": [
    "twox = np.kron(pauli_X, pauli_X)\n",
    "\n",
    "eigvals_tot, eigvecs_tot = scipy.linalg.eigh(S)\n",
    "print(\"HAM TOT EIGENVALUES AND EIGENVECTORS\")\n",
    "print(f\"Ham tot EigenValues: {eigvals_tot}\")\n",
    "print(f\"Ham tot EigenVectors: {eigvecs_tot}\")"
   ]
  },
  {
   "cell_type": "markdown",
   "metadata": {},
   "source": [
    "###\n",
    "<b>We have some initial 3 qubit state |ϕ⟩, which could be entangled. U is a unitary transformation prior\n",
    "to measurement on only qubit 0. U is chosen to implement any desired Pauli string measurement,\n",
    "from which we can construct expectations</b>"
   ]
  },
  {
   "cell_type": "code",
   "execution_count": null,
   "metadata": {},
   "outputs": [
    {
     "ename": "NameError",
     "evalue": "name 'QuantumCircuit' is not defined",
     "output_type": "error",
     "traceback": [
      "\u001b[0;31m---------------------------------------------------------------------------\u001b[0m",
      "\u001b[0;31mNameError\u001b[0m                                 Traceback (most recent call last)",
      "Cell \u001b[0;32mIn[51], line 1\u001b[0m\n\u001b[0;32m----> 1\u001b[0m qc \u001b[38;5;241m=\u001b[39m \u001b[43mQuantumCircuit\u001b[49m(\u001b[38;5;241m3\u001b[39m)\n\u001b[1;32m      3\u001b[0m qc\u001b[38;5;241m.\u001b[39mh(\u001b[38;5;241m0\u001b[39m)\n\u001b[1;32m      4\u001b[0m qc\u001b[38;5;241m.\u001b[39mz(\u001b[38;5;241m0\u001b[39m)\n",
      "\u001b[0;31mNameError\u001b[0m: name 'QuantumCircuit' is not defined"
     ]
    }
   ],
   "source": [
    "qc = QuantumCircuit(3)\n",
    "\n",
    "qc.h(0)\n",
    "qc.z(0)\n",
    "qc.h(0)\n",
    "qc.measure(0, 0)\n",
    "\n",
    "simulator = Aer.get_backend('statevector_simulator')\n",
    "result = execute(qc, simulator).result()\n",
    "statevector = result.get_statevector()\n",
    "\n",
    "print(\"Final statevector after measurement on qubit 0:\")\n",
    "print(statevector)\n",
    "\n",
    "plot_bloch_multivector(statevector)\n"
   ]
  },
  {
   "cell_type": "code",
   "execution_count": null,
   "metadata": {},
   "outputs": [],
   "source": [
    "zero = np.array([[1], [0]])\n",
    "\n",
    "X_gate = np.array([[0 ,1], [1, 0]])\n",
    "Y_gate = np.array([[0 ,-1j], [1j, 0]])\n",
    "Z_gate = np.array([[1 ,0], [0, -1]])\n",
    "I_gate = np.array([[1 ,0], [0, 1]])\n",
    "H_gate = (1/np.sqrt(2))*np.array([[1 ,1], [1, -1]])\n",
    "S_gate = np.array([[1 ,0], [0, 1j]])\n",
    "\n",
    "swap_gate = np.array([[1, 0, 0, 0], [0, 0, 1, 0], [0, 1, 0, 0], [0, 0, 0, 1]])\n",
    "cnot_gate = np.array([[1, 0, 0, 0], [0, 1, 0, 0], [0, 0, 0, 1], [0, 0, 1, 0]])\n",
    "\n",
    "cnot_gate13 = np.kron(I_gate, swap_gate)@np.kron(cnot_gate, I_gate)@np.kron(I_gate, swap_gate)\n",
    "triple_H  = np.kron(np.kron(H_gate, H_gate), H_gate)\n",
    "\n",
    "def dagger(state):\n",
    "    return np.transpose(np.conj(state))"
   ]
  },
  {
   "cell_type": "markdown",
   "metadata": {},
   "source": [
    "### Question 4"
   ]
  },
  {
   "cell_type": "code",
   "execution_count": null,
   "metadata": {},
   "outputs": [],
   "source": [
    "def four(a, b, c, d):\n",
    "    return np.kron(np.kron(np.kron(a, b), c), d)\n",
    "\n",
    "Eh = 27.211*1.609*10**(-19)\n",
    "c1 = -0.138754\n",
    "c2 = -0.152989\n",
    "c3 = 0.164190\n",
    "c4 = 0.144579\n",
    "c5 = 0.111373\n",
    "c6 = 0.146726\n",
    "c7 = 0.169348\n",
    "c8 = -0.035353\n",
    "c9 = 0.035353\n",
    "\n",
    "# Hydrogen Hamiltonian\n",
    "hydrogen = Eh*((c9*four(Y_gate,X_gate,X_gate,Y_gate))+(c9*four(X_gate,Y_gate,Y_gate,X_gate))+(c8*four(Y_gate,Y_gate,X_gate,X_gate))+ \\\n",
    "    (c8*four(X_gate,X_gate,Y_gate,Y_gate))+(c7*four(Z_gate,Z_gate,I_gate,I_gate))+(c6*four(Z_gate,I_gate,I_gate,Z_gate))+ \\\n",
    "    (c6*four(I_gate,Z_gate,Z_gate,I_gate))+(c5*four(Z_gate,I_gate,Z_gate,I_gate))+(c5*four(I_gate,Z_gate,I_gate,Z_gate))+ \\\n",
    "    (c4*four(I_gate,I_gate,Z_gate,Z_gate))+(c3*four(I_gate,Z_gate,I_gate,I_gate))+(c3*four(Z_gate,I_gate,I_gate,I_gate))+ \\\n",
    "    (c2*four(I_gate,I_gate,I_gate,Z_gate))+(c2*four(I_gate,I_gate,Z_gate,I_gate))+(c1*four(I_gate,I_gate,I_gate,I_gate)))"
   ]
  }
 ],
 "metadata": {
  "kernelspec": {
   "display_name": "Python 3",
   "language": "python",
   "name": "python3"
  },
  "language_info": {
   "codemirror_mode": {
    "name": "ipython",
    "version": 3
   },
   "file_extension": ".py",
   "mimetype": "text/x-python",
   "name": "python",
   "nbconvert_exporter": "python",
   "pygments_lexer": "ipython3",
   "version": "3.10.12"
  }
 },
 "nbformat": 4,
 "nbformat_minor": 2
}

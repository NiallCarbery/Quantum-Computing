{
 "cells": [
  {
   "cell_type": "markdown",
   "metadata": {},
   "source": [
    "Niall Carbery 22380966. When asked for the expectation value we are concerned with measurement outcomes, and\n",
    "not building an evolution operator out of the Hamiltonian. Keep this in mind throughout\n",
    "the project."
   ]
  },
  {
   "cell_type": "code",
   "execution_count": 1,
   "metadata": {},
   "outputs": [],
   "source": [
    "import numpy as np\n",
    "import scipy.linalg\n",
    "import matplotlib.pyplot as plt \n",
    "import matplotlib.ticker as tck\n",
    "from qiskit import QuantumRegister, ClassicalRegister, QuantumCircuit"
   ]
  },
  {
   "cell_type": "code",
   "execution_count": 2,
   "metadata": {},
   "outputs": [],
   "source": [
    "zero = np.array([[1], [0]])\n",
    "\n",
    "X_gate = np.array([[0 ,1], [1, 0]])\n",
    "Y_gate = np.array([[0 ,-1j], [1j, 0]])\n",
    "Z_gate = np.array([[1 ,0], [0, -1]])\n",
    "I_gate = np.array([[1 ,0], [0, 1]])\n",
    "H_gate = (1/np.sqrt(2))*np.array([[1 ,1], [1, -1]])\n",
    "S_gate = np.array([[1 ,0], [0, 1j]])\n",
    "\n",
    "swap_gate = np.array([[1, 0, 0, 0], [0, 0, 1, 0], [0, 1, 0, 0], [0, 0, 0, 1]])\n",
    "cnot_gate = np.array([[1, 0, 0, 0], [0, 1, 0, 0], [0, 0, 0, 1], [0, 0, 1, 0]])\n",
    "\n",
    "cnot_gate13 = np.kron(I_gate, swap_gate)@np.kron(cnot_gate, I_gate)@np.kron(I_gate, swap_gate)\n",
    "triple_H  = np.kron(np.kron(H_gate, H_gate), H_gate)\n",
    "\n",
    "def dagger(state):\n",
    "    return np.transpose(np.conj(state))"
   ]
  },
  {
   "cell_type": "markdown",
   "metadata": {},
   "source": [
    "## Question 2"
   ]
  },
  {
   "cell_type": "markdown",
   "metadata": {},
   "source": [
    "###\n",
    "<b>How can we now calculate the expecation for a Hamiltonian with Pauli matrices other than Z? For\n",
    "example, consider the following 3 qubit hamiltonian: $\\hat H_c = X_0 \\otimes Y_1 \\otimes Z_2$</b>"
   ]
  },
  {
   "cell_type": "code",
   "execution_count": 3,
   "metadata": {},
   "outputs": [],
   "source": [
    "# Define the Pauli Matrices\n",
    "\n",
    "def dagger(state):\n",
    "    return np.transpose(np.conj(state))\n",
    "\n",
    "pauli_I = np.array([[1,0],[0,1]])\n",
    "pauli_X = np.array([[0,1],[1,0]])\n",
    "pauli_Y = np.array([[0,-1j],[1j,0]])\n",
    "pauli_Z = np.array([[1,0],[0,-1]])\n",
    "\n",
    "pauli_matrices = [pauli_I, pauli_X, pauli_Y, pauli_Z]\n",
    "\n",
    "hadamard = (1/np.sqrt(2))*np.array([[1,1],[1,-1]])\n",
    "cnot_gate = np.array([[1, 0, 0, 0], [0, 1, 0, 0], [0, 0, 0, 1], [0, 0, 1, 0]])\n",
    "s_phase  = np.array([[1,0],[0,1j]])"
   ]
  },
  {
   "cell_type": "markdown",
   "metadata": {},
   "source": [
    "Since we can only measure in the Z- basis, we need to express the Hamiltonian in terms of the Z-basis states. Where the operaters are repersented as \n",
    "- X operator: $X = HZH$\n",
    "- Y operator: $Y = SHZHS^*$\n",
    "\n"
   ]
  },
  {
   "cell_type": "markdown",
   "metadata": {},
   "source": [
    "## Question 3"
   ]
  },
  {
   "cell_type": "code",
   "execution_count": 4,
   "metadata": {},
   "outputs": [],
   "source": [
    "def three(a, b, c):\n",
    "    return np.kron(np.kron(a, b), c)\n",
    "\n",
    "cnot_gate13 = np.kron(pauli_I, swap_gate)@np.kron(cnot_gate, pauli_I)@np.kron(pauli_I, swap_gate)\n",
    "transform = cnot_gate13@np.kron(cnot_gate, pauli_I)@three(H_gate, H_gate, H_gate)\n",
    "\n",
    "X0X1X2 = three(pauli_X, pauli_X, pauli_X)"
   ]
  },
  {
   "cell_type": "code",
   "execution_count": 5,
   "metadata": {},
   "outputs": [
    {
     "data": {
      "image/png": "[encoded data removed]",
      "text/plain": [
       "<Figure size 640x480 with 1 Axes>"
      ]
     },
     "metadata": {},
     "output_type": "display_data"
    }
   ],
   "source": [
    "def find_pauli_coeffs_3qubit(ham):\n",
    "    ham_pauli_coeffs = {}\n",
    "    for indexA, current_pauli_A in enumerate(pauli_matrices):\n",
    "        for indexB, current_pauli_B in enumerate(pauli_matrices):\n",
    "            for indexC, current_pauli_C in enumerate(pauli_matrices):\n",
    "                current_pauli_string = np.kron(np.kron(current_pauli_A, current_pauli_B), current_pauli_C)\n",
    "                current_ham_projection = np.real((1/2**3) * np.trace(ham @ current_pauli_string))\n",
    "                if current_ham_projection != 0.0:\n",
    "                    ham_pauli_coeffs.update({f\"{indexA}{indexB}{indexC}\": current_ham_projection})\n",
    "    return ham_pauli_coeffs\n",
    "\n",
    "def basis_transform_3qubit(pauli_string):\n",
    "    system_A_pauli = int(pauli_string[0])\n",
    "    system_B_pauli = int(pauli_string[1])\n",
    "    system_C_pauli = int(pauli_string[2])\n",
    "    \n",
    "    system_A_transform = None\n",
    "    system_B_transform = None\n",
    "    system_C_transform = None\n",
    "    \n",
    "    if system_A_pauli == 0:\n",
    "        system_A_transform = pauli_I\n",
    "    elif system_A_pauli == 1:\n",
    "        system_A_transform = hadamard\n",
    "    elif system_A_pauli == 2:\n",
    "        system_A_transform = hadamard @ dagger(s_phase)\n",
    "    elif system_A_pauli == 3:\n",
    "        system_A_transform = pauli_I\n",
    "    \n",
    "    if system_B_pauli == 0:\n",
    "        system_B_transform = pauli_I\n",
    "    elif system_B_pauli == 1:\n",
    "        system_B_transform = hadamard\n",
    "    elif system_B_pauli == 2:\n",
    "        system_B_transform = hadamard @ dagger(s_phase)\n",
    "    elif system_B_pauli == 3:\n",
    "        system_B_transform = pauli_I\n",
    "    \n",
    "    if system_C_pauli == 0:\n",
    "        system_C_transform = pauli_I\n",
    "    elif system_C_pauli == 1:\n",
    "        system_C_transform = hadamard\n",
    "    elif system_C_pauli == 2:\n",
    "        system_C_transform = hadamard @ dagger(s_phase)\n",
    "    elif system_C_pauli == 3:\n",
    "        system_C_transform = pauli_I\n",
    "    \n",
    "    return np.kron(np.kron(system_A_transform, system_B_transform), system_C_transform)\n",
    "\n",
    "def expectation_from_decomp_3qubit(ham_pauli_decomp, state):\n",
    "    total_expectation = 0.0\n",
    "    for current_key in ham_pauli_decomp.keys():\n",
    "        current_transform = basis_transform_3qubit(current_key)\n",
    "        transformed_state = current_transform @ state\n",
    "        system_A_pauli = int(current_key[0])\n",
    "        system_B_pauli = int(current_key[1])\n",
    "        system_C_pauli = int(current_key[2])\n",
    "        \n",
    "        if system_A_pauli == 0:\n",
    "            system_A_op = pauli_I\n",
    "        else:\n",
    "            system_A_op = pauli_Z\n",
    "            \n",
    "        if system_B_pauli == 0:\n",
    "        \n",
    "            system_B_op = pauli_I\n",
    "        else:\n",
    "            system_B_op = pauli_Z\n",
    "            \n",
    "        if system_C_pauli == 0:\n",
    "            system_C_op = pauli_I\n",
    "        else:\n",
    "            system_C_op = pauli_Z\n",
    "            \n",
    "        total_expectation += ham_pauli_decomp[current_key] * dagger(transformed_state) @ np.kron(np.kron(system_A_op, system_B_op), system_C_op) @ transformed_state\n",
    "\n",
    "    return total_expectation\n",
    "\n",
    "\n",
    "hama = np.kron(np.kron(pauli_Z, pauli_Z), pauli_X)\n",
    "\n",
    "ham_tot_pauli_decomp = find_pauli_coeffs_3qubit(hama)\n",
    "\n",
    "np.set_printoptions(precision=3)\n",
    "eigvals_tot, eigvecs_tot = scipy.linalg.eigh(hama)\n",
    "\n",
    "\n",
    "ground_state_tot = eigvecs_tot[:,0]\n",
    "expectation_from_decomp_3qubit(ham_tot_pauli_decomp, ground_state_tot)\n",
    "\n",
    "def wavefunction(theta):\n",
    "    return 1/(2*np.sqrt(2))*np.array([np.cos(theta), np.cos(theta), np.cos(theta), np.cos(theta), -np.sin(theta), -np.sin(theta), -np.sin(theta), -np.sin(theta)])\n",
    "\n",
    "x = np.arange(0, 2*np.pi, 0.01)\n",
    "\n",
    "y_values = []\n",
    "\n",
    "for i in x:\n",
    "    y_values.append(expectation_from_decomp_3qubit(ham_tot_pauli_decomp, wavefunction(i)).real)\n",
    "\n",
    "plt.plot(x/np.pi, y_values, color='blue')\n",
    "\n",
    "plt.xlabel('θ')\n",
    "plt.ylabel('Expectation value ($E_h$ Hartee Energy)')\n",
    "plt.title('Expectation Value over state $|\\psi$(θ)> ')\n",
    "\n",
    "plt.gca().xaxis.set_major_formatter(tck.FormatStrFormatter('%g $\\pi$'))\n",
    "plt.gca().xaxis.set_major_locator(tck.MultipleLocator(base=0.5))\n",
    "\n",
    "plt.grid()\n",
    "plt.show()"
   ]
  },
  {
   "cell_type": "code",
   "execution_count": 6,
   "metadata": {},
   "outputs": [
    {
     "name": "stdout",
     "output_type": "stream",
     "text": [
      "Psi Out > =  \n",
      " [[0.354]\n",
      " [0.354]\n",
      " [0.354]\n",
      " [0.354]\n",
      " [0.354]\n",
      " [0.354]\n",
      " [0.354]\n",
      " [0.354]]\n",
      "Denisty Matrix of Output State: \n",
      " [[0.125 0.125 0.125 0.125 0.125 0.125 0.125 0.125]\n",
      " [0.125 0.125 0.125 0.125 0.125 0.125 0.125 0.125]\n",
      " [0.125 0.125 0.125 0.125 0.125 0.125 0.125 0.125]\n",
      " [0.125 0.125 0.125 0.125 0.125 0.125 0.125 0.125]\n",
      " [0.125 0.125 0.125 0.125 0.125 0.125 0.125 0.125]\n",
      " [0.125 0.125 0.125 0.125 0.125 0.125 0.125 0.125]\n",
      " [0.125 0.125 0.125 0.125 0.125 0.125 0.125 0.125]\n",
      " [0.125 0.125 0.125 0.125 0.125 0.125 0.125 0.125]]\n"
     ]
    }
   ],
   "source": [
    "initial_state = np.array([[np.sqrt(3)/2], [1/2]])\n",
    "\n",
    "cnot_gate = np.array([[1, 0, 0, 0], [0, 1, 0, 0], [0, 0, 0, 1], [0, 0, 1, 0]])\n",
    "cnot_gate13 = np.kron(pauli_I, swap_gate)@np.kron(cnot_gate, pauli_I)@np.kron(pauli_I, swap_gate)\n",
    "triple_H  = np.kron(np.kron(H_gate, H_gate), H_gate)\n",
    "\n",
    "psi_initial = np.kron(np.kron(zero, zero), zero)\n",
    "\n",
    "psi_out = triple_H@cnot_gate13@np.kron(cnot_gate, pauli_I)@psi_initial\n",
    "\n",
    "print('Psi Out > =  \\n', psi_out)\n",
    "\n",
    "rho = psi_out@dagger(psi_out)\n",
    "\n",
    "print('Denisty Matrix of Output State: \\n', rho)"
   ]
  },
  {
   "cell_type": "markdown",
   "metadata": {},
   "source": [
    "### Question 4"
   ]
  },
  {
   "cell_type": "code",
   "execution_count": 7,
   "metadata": {},
   "outputs": [],
   "source": [
    "def four(a, b, c, d):\n",
    "    return np.kron(np.kron(np.kron(a, b), c), d)\n",
    "\n",
    "Eh = 27.211*1.609*10**(-19)\n",
    "c1 = -0.138754\n",
    "c2 = -0.152989\n",
    "c3 = 0.164190\n",
    "c4 = 0.144579\n",
    "c5 = 0.111373\n",
    "c6 = 0.146726\n",
    "c7 = 0.169348\n",
    "c8 = -0.035353\n",
    "c9 = 0.035353\n",
    "\n",
    "# Hydrogen Hamiltonian\n",
    "hydrogen = ((c9*four(Y_gate,X_gate,X_gate,Y_gate))+(c9*four(X_gate,Y_gate,Y_gate,X_gate))+(c8*four(Y_gate,Y_gate,X_gate,X_gate))+ \\\n",
    "    (c8*four(X_gate,X_gate,Y_gate,Y_gate))+(c7*four(Z_gate,Z_gate,I_gate,I_gate))+(c6*four(Z_gate,I_gate,I_gate,Z_gate))+ \\\n",
    "    (c6*four(I_gate,Z_gate,Z_gate,I_gate))+(c5*four(Z_gate,I_gate,Z_gate,I_gate))+(c5*four(I_gate,Z_gate,I_gate,Z_gate))+ \\\n",
    "    (c4*four(I_gate,I_gate,Z_gate,Z_gate))+(c3*four(I_gate,Z_gate,I_gate,I_gate))+(c3*four(Z_gate,I_gate,I_gate,I_gate))+ \\\n",
    "    (c2*four(I_gate,I_gate,I_gate,Z_gate))+(c2*four(I_gate,I_gate,Z_gate,I_gate))+(c1*four(I_gate,I_gate,I_gate,I_gate)))"
   ]
  },
  {
   "cell_type": "code",
   "execution_count": 8,
   "metadata": {},
   "outputs": [
    {
     "name": "stdout",
     "output_type": "stream",
     "text": [
      "[-0.   -0.j -0.   -0.j -0.   -0.j -0.109-0.j -0.   -0.j -0.   -0.j\n",
      " -0.   -0.j -0.   -0.j -0.   -0.j -0.   -0.j -0.   -0.j -0.   -0.j\n",
      "  0.994+0.j -0.   -0.j -0.   -0.j -0.   -0.j]\n"
     ]
    }
   ],
   "source": [
    "#diagonalize matrix\n",
    "eigenvalues, eigenvectors = np.linalg.eig(hydrogen)\n",
    "D = np.diag(eigenvalues)\n",
    "P_inv = np.linalg.inv(eigenvectors)\n",
    "np.set_printoptions(precision=3)\n",
    "diagonalized_matrix = P_inv @ hydrogen @ eigenvectors\n",
    "print(eigenvectors[:, 2])"
   ]
  },
  {
   "cell_type": "code",
   "execution_count": 9,
   "metadata": {},
   "outputs": [
    {
     "name": "stdout",
     "output_type": "stream",
     "text": [
      "HAM TOT EIGENVALUES AND EIGENVECTORS\n",
      "Ham tot EigenValues: [-0.991 -0.523 -0.523 -0.523 -0.47  -0.47  -0.442 -0.442 -0.241  0.142\n",
      "  0.142  0.214  0.214  0.309  0.669  0.714]\n",
      "Ham tot EigenVectors: \n",
      " [[ 0.     0.     0.     0.     0.     0.     0.     0.     0.     0.\n",
      "   0.     0.     0.     0.     0.     1.   ]\n",
      " [ 0.     0.     0.     0.     0.     0.     0.     0.     0.     0.\n",
      "   0.     1.     0.     0.     0.     0.   ]\n",
      " [ 0.     0.     0.     0.     0.     0.     0.     0.     0.     0.\n",
      "   0.     0.     1.     0.     0.     0.   ]\n",
      " [ 0.109  0.     0.     0.     0.     0.     0.     0.     0.     0.\n",
      "   0.     0.     0.     0.994  0.     0.   ]\n",
      " [ 0.     0.     0.     0.     0.     1.     0.     0.     0.     0.\n",
      "   0.     0.     0.     0.     0.     0.   ]\n",
      " [ 0.     0.    -1.     0.     0.     0.     0.     0.     0.     0.\n",
      "   0.     0.     0.     0.     0.     0.   ]\n",
      " [ 0.     0.     0.     0.707  0.     0.     0.     0.    -0.707  0.\n",
      "   0.     0.     0.     0.     0.     0.   ]\n",
      " [ 0.     0.     0.     0.     0.     0.     0.     0.     0.     1.\n",
      "   0.     0.     0.     0.     0.     0.   ]\n",
      " [ 0.     0.     0.     0.     1.     0.     0.     0.     0.     0.\n",
      "   0.     0.     0.     0.     0.     0.   ]\n",
      " [ 0.     0.     0.     0.707  0.     0.     0.     0.     0.707  0.\n",
      "   0.     0.     0.     0.     0.     0.   ]\n",
      " [ 0.     1.     0.     0.     0.     0.     0.     0.     0.     0.\n",
      "   0.     0.     0.     0.     0.     0.   ]\n",
      " [ 0.     0.     0.     0.     0.     0.     0.     0.     0.     0.\n",
      "   1.     0.     0.     0.     0.     0.   ]\n",
      " [-0.994  0.     0.     0.     0.     0.     0.     0.     0.     0.\n",
      "   0.     0.     0.     0.109  0.     0.   ]\n",
      " [ 0.     0.     0.     0.     0.     0.     1.     0.     0.     0.\n",
      "   0.     0.     0.     0.     0.     0.   ]\n",
      " [ 0.     0.     0.     0.     0.     0.     0.     1.     0.     0.\n",
      "   0.     0.     0.     0.     0.     0.   ]\n",
      " [ 0.     0.     0.     0.     0.     0.     0.     0.     0.     0.\n",
      "   0.     0.     0.     0.     1.     0.   ]]\n",
      "[ 0.   +0.j  0.   +0.j  0.   +0.j  0.109-0.j  0.   +0.j  0.   +0.j\n",
      "  0.   +0.j  0.   +0.j  0.   +0.j  0.   +0.j  0.   +0.j  0.   +0.j\n",
      " -0.994+0.j  0.   +0.j  0.   +0.j  0.   +0.j]\n"
     ]
    }
   ],
   "source": [
    "def find_pauli_coeffs_4qubit(ham):\n",
    "    ham_pauli_coeffs = {}\n",
    "    for indexA, current_pauli_A in enumerate(pauli_matrices):\n",
    "        for indexB, current_pauli_B in enumerate(pauli_matrices):\n",
    "            for indexC, current_pauli_C in enumerate(pauli_matrices):\n",
    "                for indexD, current_pauli_D in enumerate(pauli_matrices):\n",
    "                    current_pauli_string = np.kron(np.kron(np.kron(current_pauli_A, current_pauli_B), current_pauli_C), current_pauli_D)\n",
    "                    current_ham_projection = np.real((1/2**4) * np.trace(ham @ current_pauli_string))\n",
    "                    if current_ham_projection != 0.0:\n",
    "                        ham_pauli_coeffs.update({f\"{indexA}{indexB}{indexC}{indexD}\": current_ham_projection})\n",
    "\n",
    "    return ham_pauli_coeffs\n",
    "\n",
    "def basis_transform_4qubit(pauli_string):\n",
    "    system_A_pauli = int(pauli_string[0])\n",
    "    system_B_pauli = int(pauli_string[1])\n",
    "    system_C_pauli = int(pauli_string[2])\n",
    "    system_D_pauli = int(pauli_string[3])\n",
    "    \n",
    "    # Initialize transformation matrices\n",
    "    system_A_transform = None\n",
    "    system_B_transform = None\n",
    "    system_C_transform = None\n",
    "    system_D_transform = None\n",
    "    \n",
    "    # Define transformations based on Pauli indices\n",
    "    if system_A_pauli == 0:\n",
    "        system_A_transform = pauli_I\n",
    "    elif system_A_pauli == 1:\n",
    "        system_A_transform = hadamard\n",
    "    elif system_A_pauli == 2:\n",
    "        system_A_transform = hadamard @ dagger(s_phase)\n",
    "    elif system_A_pauli == 3:\n",
    "        system_A_transform = pauli_I\n",
    "    \n",
    "    if system_B_pauli == 0:\n",
    "        system_B_transform = pauli_I\n",
    "    elif system_B_pauli == 1:\n",
    "        system_B_transform = hadamard\n",
    "    elif system_B_pauli == 2:\n",
    "        system_B_transform = hadamard @ dagger(s_phase)\n",
    "    elif system_B_pauli == 3:\n",
    "        system_B_transform = pauli_I\n",
    "    \n",
    "    if system_C_pauli == 0:\n",
    "        system_C_transform = pauli_I\n",
    "    elif system_C_pauli == 1:\n",
    "        system_C_transform = hadamard\n",
    "    elif system_C_pauli == 2:\n",
    "        system_C_transform = hadamard @ dagger(s_phase)\n",
    "    elif system_C_pauli == 3:\n",
    "        system_C_transform = pauli_I\n",
    "    \n",
    "    if system_D_pauli == 0:\n",
    "        system_D_transform = pauli_I\n",
    "    elif system_D_pauli == 1:\n",
    "        system_D_transform = hadamard\n",
    "    elif system_D_pauli == 2:\n",
    "        system_D_transform = hadamard @ dagger(s_phase)\n",
    "    elif system_D_pauli == 3:\n",
    "        system_D_transform = pauli_I\n",
    "    \n",
    "    # Combine transformations using Kronecker product\n",
    "    return np.kron(np.kron(np.kron(system_A_transform, system_B_transform), system_C_transform), system_D_transform)\n",
    "\n",
    "def expectation_from_decomp_4qubit(ham_pauli_decomp, state):\n",
    "    total_expectation = 0.0\n",
    "    for current_key in ham_pauli_decomp.keys():\n",
    "        current_transform = basis_transform_4qubit(current_key)\n",
    "        transformed_state = current_transform @ state\n",
    "        system_A_pauli = int(current_key[0])\n",
    "        system_B_pauli = int(current_key[1])\n",
    "        system_C_pauli = int(current_key[2])\n",
    "        system_D_pauli = int(current_key[3])\n",
    "        \n",
    "        if system_A_pauli == 0:\n",
    "            system_A_op = pauli_I\n",
    "        else:\n",
    "            system_A_op = pauli_Z\n",
    "            \n",
    "        if system_B_pauli == 0:\n",
    "            system_B_op = pauli_I\n",
    "        else:\n",
    "            system_B_op = pauli_Z\n",
    "            \n",
    "        if system_C_pauli == 0:\n",
    "            system_C_op = pauli_I\n",
    "        else:\n",
    "            system_C_op = pauli_Z\n",
    "        \n",
    "        if system_D_pauli == 0:\n",
    "            system_D_op = pauli_I\n",
    "        else:\n",
    "            system_D_op = pauli_Z\n",
    "            \n",
    "        total_expectation += ham_pauli_decomp[current_key] * dagger(transformed_state) @ np.kron(np.kron(np.kron(system_A_op, system_B_op), system_C_op), system_D_op) @ transformed_state\n",
    "\n",
    "    return total_expectation\n",
    "\n",
    "\n",
    "ham_tot_pauli_decomp = find_pauli_coeffs_4qubit(hydrogen)\n",
    "\n",
    "np.set_printoptions(precision=3)\n",
    "eigvals_tot, eigvecs_tot = scipy.linalg.eigh(hydrogen)\n",
    "print(\"HAM TOT EIGENVALUES AND EIGENVECTORS\")\n",
    "print(f\"Ham tot EigenValues: {eigvals_tot}\")\n",
    "print(f\"Ham tot EigenVectors: \\n {np.real(eigvecs_tot)}\")\n",
    "\n",
    "ground_state_tot = eigvecs_tot[:,0]\n",
    "expectation_from_decomp_4qubit(ham_tot_pauli_decomp, ground_state_tot)\n",
    "print(ground_state_tot)"
   ]
  },
  {
   "cell_type": "code",
   "execution_count": 10,
   "metadata": {},
   "outputs": [
    {
     "data": {
      "image/png": "[encoded data removed]",
      "text/plain": [
       "<Figure size 640x480 with 1 Axes>"
      ]
     },
     "metadata": {},
     "output_type": "display_data"
    }
   ],
   "source": [
    "def wavefunction(theta):\n",
    "    return np.array([0, 0, 0, np.cos(theta), 0, 0, 0, 0, 0, 0, 0, 0, -np.sin(theta), 0, 0, 0])\n",
    "\n",
    "x = np.arange(0, 2*np.pi, 0.01)\n",
    "\n",
    "y_values = []\n",
    "\n",
    "for i in x:\n",
    "    y_values.append(expectation_from_decomp_4qubit(ham_tot_pauli_decomp, wavefunction(i)).real)\n",
    "\n",
    "plt.plot(x/np.pi, y_values, color='blue')\n",
    "\n",
    "plt.xlabel('θ')\n",
    "plt.ylabel('Expectation value ($E_h$ Hartee Energy)')\n",
    "plt.title('Expectation Value over state $|\\psi$(θ)> ')\n",
    "\n",
    "plt.gca().xaxis.set_major_formatter(tck.FormatStrFormatter('%g $\\pi$'))\n",
    "plt.gca().xaxis.set_major_locator(tck.MultipleLocator(base=0.5))\n",
    "\n",
    "plt.grid()\n",
    "plt.show()\n"
   ]
  },
  {
   "cell_type": "code",
   "execution_count": 11,
   "metadata": {},
   "outputs": [
    {
     "name": "stdout",
     "output_type": "stream",
     "text": [
      "The minimum y value is: -0.99\n"
     ]
    }
   ],
   "source": [
    "min_y = min(y_values)\n",
    "\n",
    "print(f\"The minimum y value is: {min_y:.2f}\")"
   ]
  },
  {
   "cell_type": "code",
   "execution_count": 12,
   "metadata": {},
   "outputs": [
    {
     "name": "stdout",
     "output_type": "stream",
     "text": [
      "[[1.+0.j 0.+0.j]\n",
      " [0.+0.j 0.+1.j]]\n"
     ]
    }
   ],
   "source": [
    "print(S_gate)"
   ]
  },
  {
   "cell_type": "code",
   "execution_count": null,
   "metadata": {},
   "outputs": [],
   "source": []
  }
 ],
 "metadata": {
  "kernelspec": {
   "display_name": "Python 3",
   "language": "python",
   "name": "python3"
  },
  "language_info": {
   "codemirror_mode": {
    "name": "ipython",
    "version": 3
   },
   "file_extension": ".py",
   "mimetype": "text/x-python",
   "name": "python",
   "nbconvert_exporter": "python",
   "pygments_lexer": "ipython3",
   "version": "3.10.12"
  }
 },
 "nbformat": 4,
 "nbformat_minor": 2
}

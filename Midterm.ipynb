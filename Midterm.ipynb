{
 "cells": [
  {
   "cell_type": "markdown",
   "metadata": {},
   "source": [
    "Niall Carbery 22380966. When asked for the expectation value we are concerned with measurement outcomes, and\n",
    "not building an evolution operator out of the Hamiltonian. Keep this in mind throughout\n",
    "the project."
   ]
  },
  {
   "cell_type": "code",
   "execution_count": 25,
   "metadata": {},
   "outputs": [],
   "source": [
    "import numpy as np\n",
    "import sys"
   ]
  },
  {
   "cell_type": "markdown",
   "metadata": {},
   "source": [
    "Consider the following two qubit hamiltonian $\\hat H_a$:\n",
    "$\\hat H_a$ = Z0 ⊗ Z1\n",
    "where Z0, Z1 represent the Pauli-Z operator applied to qubits 0 and 1 respectively. Given an arbitrary\n",
    "two qubit state vector |ψ⟩, we can compute the expectation value of the hamiltonian as follows:\n",
    "⟨ψ|$\\hat H_a$ |ψ⟩\n",
    "If we can only perform measurements on the qubits in the Z-basis, {|0⟩, |1⟩}, how can we use the\n",
    "measurement outcomes on the two qubits to calculate the expectation value of $\\hat H_a$?"
   ]
  },
  {
   "cell_type": "markdown",
   "metadata": {},
   "source": [
    "If we measure the ....................."
   ]
  },
  {
   "cell_type": "code",
   "execution_count": 26,
   "metadata": {},
   "outputs": [],
   "source": [
    "zero = np.array([[1], [0]])\n",
    "\n",
    "X_gate = np.array([[0 ,1], [1, 0]])\n",
    "Y_gate = np.array([[0 ,-1j], [1j, 0]])\n",
    "Z_gate = np.array([[1 ,0], [0, -1]])\n",
    "I_gate = np.array([[1 ,0], [0, 1]])\n",
    "H_gate = (1/np.sqrt(2))*np.array([[1 ,1], [1, -1]])\n",
    "\n",
    "def four(a, b, c, d):\n",
    "    return np.kron(np.kron(np.kron(a, b), c), d)"
   ]
  },
  {
   "cell_type": "markdown",
   "metadata": {},
   "source": [
    "### Question 4"
   ]
  },
  {
   "cell_type": "code",
   "execution_count": 29,
   "metadata": {},
   "outputs": [
    {
     "name": "stdout",
     "output_type": "stream",
     "text": [
      "[[ 0.713773+0.j  0.      +0.j  0.      +0.j  0.      +0.j  0.      +0.j\n",
      "   0.      +0.j  0.      +0.j  0.      +0.j  0.      +0.j  0.      +0.j\n",
      "   0.      +0.j  0.      +0.j  0.      +0.j  0.      +0.j  0.      +0.j\n",
      "   0.      +0.j]\n",
      " [ 0.      +0.j  0.214395+0.j  0.      +0.j  0.      +0.j  0.      +0.j\n",
      "   0.      +0.j  0.      +0.j  0.      +0.j  0.      +0.j  0.      +0.j\n",
      "   0.      +0.j  0.      +0.j  0.      +0.j  0.      +0.j  0.      +0.j\n",
      "   0.      +0.j]\n",
      " [ 0.      +0.j  0.      +0.j  0.214395+0.j  0.      +0.j  0.      +0.j\n",
      "   0.      +0.j  0.      +0.j  0.      +0.j  0.      +0.j  0.      +0.j\n",
      "   0.      +0.j  0.      +0.j  0.      +0.j  0.      +0.j  0.      +0.j\n",
      "   0.      +0.j]\n",
      " [ 0.      +0.j  0.      +0.j  0.      +0.j  0.293333+0.j  0.      +0.j\n",
      "   0.      +0.j  0.      +0.j  0.      +0.j  0.      +0.j  0.      +0.j\n",
      "   0.      +0.j  0.      +0.j  0.141412+0.j  0.      +0.j  0.      +0.j\n",
      "   0.      +0.j]\n",
      " [ 0.      +0.j  0.      +0.j  0.      +0.j  0.      +0.j -0.469501+0.j\n",
      "   0.      +0.j  0.      +0.j  0.      +0.j  0.      +0.j  0.      +0.j\n",
      "   0.      +0.j  0.      +0.j  0.      +0.j  0.      +0.j  0.      +0.j\n",
      "   0.      +0.j]\n",
      " [ 0.      +0.j  0.      +0.j  0.      +0.j  0.      +0.j  0.      +0.j\n",
      "  -0.523387+0.j  0.      +0.j  0.      +0.j  0.      +0.j  0.      +0.j\n",
      "   0.      +0.j  0.      +0.j  0.      +0.j  0.      +0.j  0.      +0.j\n",
      "   0.      +0.j]\n",
      " [ 0.      +0.j  0.      +0.j  0.      +0.j  0.      +0.j  0.      +0.j\n",
      "   0.      +0.j -0.381975+0.j  0.      +0.j  0.      +0.j -0.141412+0.j\n",
      "   0.      +0.j  0.      +0.j  0.      +0.j  0.      +0.j  0.      +0.j\n",
      "   0.      +0.j]\n",
      " [ 0.      +0.j  0.      +0.j  0.      +0.j  0.      +0.j  0.      +0.j\n",
      "   0.      +0.j  0.      +0.j  0.142455+0.j  0.      +0.j  0.      +0.j\n",
      "   0.      +0.j  0.      +0.j  0.      +0.j  0.      +0.j  0.      +0.j\n",
      "   0.      +0.j]\n",
      " [ 0.      +0.j  0.      +0.j  0.      +0.j  0.      +0.j  0.      +0.j\n",
      "   0.      +0.j  0.      +0.j  0.      +0.j -0.469501+0.j  0.      +0.j\n",
      "   0.      +0.j  0.      +0.j  0.      +0.j  0.      +0.j  0.      +0.j\n",
      "   0.      +0.j]\n",
      " [ 0.      +0.j  0.      +0.j  0.      +0.j  0.      +0.j  0.      +0.j\n",
      "   0.      +0.j -0.141412+0.j  0.      +0.j  0.      +0.j -0.381975+0.j\n",
      "   0.      +0.j  0.      +0.j  0.      +0.j  0.      +0.j  0.      +0.j\n",
      "   0.      +0.j]\n",
      " [ 0.      +0.j  0.      +0.j  0.      +0.j  0.      +0.j  0.      +0.j\n",
      "   0.      +0.j  0.      +0.j  0.      +0.j  0.      +0.j  0.      +0.j\n",
      "  -0.523387+0.j  0.      +0.j  0.      +0.j  0.      +0.j  0.      +0.j\n",
      "   0.      +0.j]\n",
      " [ 0.      +0.j  0.      +0.j  0.      +0.j  0.      +0.j  0.      +0.j\n",
      "   0.      +0.j  0.      +0.j  0.      +0.j  0.      +0.j  0.      +0.j\n",
      "   0.      +0.j  0.142455+0.j  0.      +0.j  0.      +0.j  0.      +0.j\n",
      "   0.      +0.j]\n",
      " [ 0.      +0.j  0.      +0.j  0.      +0.j  0.141412+0.j  0.      +0.j\n",
      "   0.      +0.j  0.      +0.j  0.      +0.j  0.      +0.j  0.      +0.j\n",
      "   0.      +0.j  0.      +0.j -0.975383+0.j  0.      +0.j  0.      +0.j\n",
      "   0.      +0.j]\n",
      " [ 0.      +0.j  0.      +0.j  0.      +0.j  0.      +0.j  0.      +0.j\n",
      "   0.      +0.j  0.      +0.j  0.      +0.j  0.      +0.j  0.      +0.j\n",
      "   0.      +0.j  0.      +0.j  0.      +0.j -0.442365+0.j  0.      +0.j\n",
      "   0.      +0.j]\n",
      " [ 0.      +0.j  0.      +0.j  0.      +0.j  0.      +0.j  0.      +0.j\n",
      "   0.      +0.j  0.      +0.j  0.      +0.j  0.      +0.j  0.      +0.j\n",
      "   0.      +0.j  0.      +0.j  0.      +0.j  0.      +0.j -0.442365+0.j\n",
      "   0.      +0.j]\n",
      " [ 0.      +0.j  0.      +0.j  0.      +0.j  0.      +0.j  0.      +0.j\n",
      "   0.      +0.j  0.      +0.j  0.      +0.j  0.      +0.j  0.      +0.j\n",
      "   0.      +0.j  0.      +0.j  0.      +0.j  0.      +0.j  0.      +0.j\n",
      "   0.668969+0.j]]\n"
     ]
    }
   ],
   "source": [
    "c1 = -0.138754\n",
    "c2 = -0.152989\n",
    "c3 = 0.164190\n",
    "c4 = 0.144579\n",
    "c5 = 0.111373\n",
    "c6 = 0.146726\n",
    "c7 = 0.169348\n",
    "c8 = -0.035353\n",
    "c9 = 0.035353\n",
    "\n",
    "np.set_printoptions(threshold=sys.maxsize)\n",
    "hydrogen = (c9*four(Y_gate,X_gate,X_gate,Y_gate))+(c9*four(X_gate,Y_gate,Y_gate,X_gate))+(c8*four(Y_gate,Y_gate,X_gate,X_gate))+(c8*four(X_gate,X_gate,Y_gate,Y_gate))+(c7*four(Z_gate,Z_gate,I_gate,I_gate))+(c6*four(Z_gate,I_gate,I_gate,Z_gate))+(c6*four(I_gate,Z_gate,Z_gate,I_gate))+(c5*four(Z_gate,I_gate,Z_gate,I_gate))+(c5*four(I_gate,Z_gate,I_gate,Z_gate))+(c4*four(I_gate,I_gate,Z_gate,Z_gate))+(c3*four(I_gate,Z_gate,I_gate,I_gate))+(c3*four(Z_gate,I_gate,I_gate,I_gate))+(c2*four(I_gate,I_gate,I_gate,Z_gate))+(c2*four(I_gate,I_gate,Z_gate,I_gate))+(c1*four(I_gate,I_gate,I_gate,I_gate))\n",
    "print(hydrogen)"
   ]
  }
 ],
 "metadata": {
  "kernelspec": {
   "display_name": "Python 3",
   "language": "python",
   "name": "python3"
  },
  "language_info": {
   "codemirror_mode": {
    "name": "ipython",
    "version": 3
   },
   "file_extension": ".py",
   "mimetype": "text/x-python",
   "name": "python",
   "nbconvert_exporter": "python",
   "pygments_lexer": "ipython3",
   "version": "3.10.12"
  }
 },
 "nbformat": 4,
 "nbformat_minor": 2
}

{
 "cells": [
  {
   "cell_type": "markdown",
   "metadata": {},
   "source": [
    "Niall Carbery 22380966. When asked for the expectation value we are concerned with measurement outcomes, and\n",
    "not building an evolution operator out of the Hamiltonian. Keep this in mind throughout\n",
    "the project."
   ]
  },
  {
   "cell_type": "code",
   "execution_count": 4,
   "metadata": {},
   "outputs": [],
   "source": [
    "import numpy as np"
   ]
  },
  {
   "cell_type": "markdown",
   "metadata": {},
   "source": [
    "<b>Consider the following two qubit hamiltonian $\\hat H_a$:\n",
    "$\\hat H_a$ = Z0 ⊗ Z1\n",
    "where Z0, Z1 represent the Pauli-Z operator applied to qubits 0 and 1 respectively. Given an arbitrary\n",
    "two qubit state vector |ψ⟩, we can compute the expectation value of the hamiltonian as follows:\n",
    "⟨ψ|$\\hat H_a$ |ψ⟩\n",
    "If we can only perform measurements on the qubits in the Z-basis, {|0⟩, |1⟩}, how can we use the\n",
    "measurement outcomes on the two qubits to calculate the expectation value of $\\hat H_a$?</b>"
   ]
  },
  {
   "cell_type": "markdown",
   "metadata": {},
   "source": [
    "Our quibits are in an initial state of the quibits and are a superposition of the basis states {|0>, |1>}. Measuring the quibits over the Z operater we get the eigenvalues of +1 for |0> and -1 for |1>.\n",
    "\n",
    "<p>\n",
    "For the two quibit system the Z expectation value is given by the number counts of |00>, |01>, |10> and |11>. We can estimate the expectation value by measuring the two quibits the expectation value of $\\hat H_a$ = Number of |00> + |11> - |01> - |10>."
   ]
  },
  {
   "cell_type": "markdown",
   "metadata": {},
   "source": [
    "###\n",
    "<b>How can we now calculate the expecation for a hamiltonian with Pauli matrices other than Z? For\n",
    "example, consider the following 3 qubit hamiltonian: $\\hat H_c = X_0 \\otimes Y_1 \\otimes Z_2$</b>"
   ]
  },
  {
   "cell_type": "markdown",
   "metadata": {},
   "source": [
    "Since we can only measure in the Z- basis, we need to express the Hamiltonian in terms of the Z-basis states. Where the operaters are repersented as \n",
    "- X operator: $X = HZH$\n",
    "- Y operator: $Y = SHZHS^*$\n",
    "\n"
   ]
  },
  {
   "cell_type": "markdown",
   "metadata": {},
   "source": [
    "###\n",
    "<b>We have some initial 3 qubit state |ϕ⟩, which could be entangled. U is a unitary transformation prior\n",
    "to measurement on only qubit 0. U is chosen to implement any desired Pauli string measurement,\n",
    "from which we can construct expectations</b>"
   ]
  },
  {
   "cell_type": "code",
   "execution_count": 5,
   "metadata": {},
   "outputs": [],
   "source": [
    "zero = np.array([[1], [0]])\n",
    "\n",
    "X_gate = np.array([[0 ,1], [1, 0]])\n",
    "Y_gate = np.array([[0 ,-1j], [1j, 0]])\n",
    "Z_gate = np.array([[1 ,0], [0, -1]])\n",
    "I_gate = np.array([[1 ,0], [0, 1]])\n",
    "H_gate = (1/np.sqrt(2))*np.array([[1 ,1], [1, -1]])\n",
    "S_gate = np.array([[1 ,0], [0, 1j]])\n",
    "\n",
    "swap_gate = np.array([[1, 0, 0, 0], [0, 0, 1, 0], [0, 1, 0, 0], [0, 0, 0, 1]])\n",
    "cnot_gate = np.array([[1, 0, 0, 0], [0, 1, 0, 0], [0, 0, 0, 1], [0, 0, 1, 0]])\n",
    "\n",
    "cnot_gate13 = np.kron(I_gate, swap_gate)@np.kron(cnot_gate, indentity)@np.kron(indentity, swap_gate)\n",
    "triple_H  = np.kron(np.kron(H_gate, H_gate), H_gate)\n",
    "\n",
    "def dagger(state):\n",
    "    return np.transpose(np.conj(state))"
   ]
  },
  {
   "cell_type": "markdown",
   "metadata": {},
   "source": [
    "### Question 4"
   ]
  },
  {
   "cell_type": "code",
   "execution_count": 6,
   "metadata": {},
   "outputs": [
    {
     "name": "stdout",
     "output_type": "stream",
     "text": [
      "[[ 0.713773  0.        0.        0.        0.        0.        0.\n",
      "   0.        0.        0.        0.        0.        0.        0.\n",
      "   0.        0.      ]\n",
      " [ 0.        0.214395  0.        0.        0.        0.        0.\n",
      "   0.        0.        0.        0.        0.        0.        0.\n",
      "   0.        0.      ]\n",
      " [ 0.        0.        0.214395  0.        0.        0.        0.\n",
      "   0.        0.        0.        0.        0.        0.        0.\n",
      "   0.        0.      ]\n",
      " [ 0.        0.        0.        0.293333  0.        0.        0.\n",
      "   0.        0.        0.        0.        0.        0.141412  0.\n",
      "   0.        0.      ]\n",
      " [ 0.        0.        0.        0.       -0.469501  0.        0.\n",
      "   0.        0.        0.        0.        0.        0.        0.\n",
      "   0.        0.      ]\n",
      " [ 0.        0.        0.        0.        0.       -0.523387  0.\n",
      "   0.        0.        0.        0.        0.        0.        0.\n",
      "   0.        0.      ]\n",
      " [ 0.        0.        0.        0.        0.        0.       -0.381975\n",
      "   0.        0.       -0.141412  0.        0.        0.        0.\n",
      "   0.        0.      ]\n",
      " [ 0.        0.        0.        0.        0.        0.        0.\n",
      "   0.142455  0.        0.        0.        0.        0.        0.\n",
      "   0.        0.      ]\n",
      " [ 0.        0.        0.        0.        0.        0.        0.\n",
      "   0.       -0.469501  0.        0.        0.        0.        0.\n",
      "   0.        0.      ]\n",
      " [ 0.        0.        0.        0.        0.        0.       -0.141412\n",
      "   0.        0.       -0.381975  0.        0.        0.        0.\n",
      "   0.        0.      ]\n",
      " [ 0.        0.        0.        0.        0.        0.        0.\n",
      "   0.        0.        0.       -0.523387  0.        0.        0.\n",
      "   0.        0.      ]\n",
      " [ 0.        0.        0.        0.        0.        0.        0.\n",
      "   0.        0.        0.        0.        0.142455  0.        0.\n",
      "   0.        0.      ]\n",
      " [ 0.        0.        0.        0.141412  0.        0.        0.\n",
      "   0.        0.        0.        0.        0.       -0.975383  0.\n",
      "   0.        0.      ]\n",
      " [ 0.        0.        0.        0.        0.        0.        0.\n",
      "   0.        0.        0.        0.        0.        0.       -0.442365\n",
      "   0.        0.      ]\n",
      " [ 0.        0.        0.        0.        0.        0.        0.\n",
      "   0.        0.        0.        0.        0.        0.        0.\n",
      "  -0.442365  0.      ]\n",
      " [ 0.        0.        0.        0.        0.        0.        0.\n",
      "   0.        0.        0.        0.        0.        0.        0.\n",
      "   0.        0.668969]]\n"
     ]
    }
   ],
   "source": [
    "def four(a, b, c, d):\n",
    "    return np.kron(np.kron(np.kron(a, b), c), d)\n",
    "\n",
    "Eh = 27.211*1.609*10**(-19)\n",
    "c1 = -0.138754\n",
    "c2 = -0.152989\n",
    "c3 = 0.164190\n",
    "c4 = 0.144579\n",
    "c5 = 0.111373\n",
    "c6 = 0.146726\n",
    "c7 = 0.169348\n",
    "c8 = -0.035353\n",
    "c9 = 0.035353\n",
    "\n",
    "hydrogen = (c9*four(Y_gate,X_gate,X_gate,Y_gate))+(c9*four(X_gate,Y_gate,Y_gate,X_gate))+(c8*four(Y_gate,Y_gate,X_gate,X_gate))+ \\\n",
    "    (c8*four(X_gate,X_gate,Y_gate,Y_gate))+(c7*four(Z_gate,Z_gate,I_gate,I_gate))+(c6*four(Z_gate,I_gate,I_gate,Z_gate))+ \\\n",
    "    (c6*four(I_gate,Z_gate,Z_gate,I_gate))+(c5*four(Z_gate,I_gate,Z_gate,I_gate))+(c5*four(I_gate,Z_gate,I_gate,Z_gate))+ \\\n",
    "    (c4*four(I_gate,I_gate,Z_gate,Z_gate))+(c3*four(I_gate,Z_gate,I_gate,I_gate))+(c3*four(Z_gate,I_gate,I_gate,I_gate))+ \\\n",
    "    (c2*four(I_gate,I_gate,I_gate,Z_gate))+(c2*four(I_gate,I_gate,Z_gate,I_gate))+(c1*four(I_gate,I_gate,I_gate,I_gate))\n",
    "\n",
    "eigenvalues, eigenvectors = np.linalg.eig(hydrogen)\n",
    "\n",
    "D = np.diag(eigenvalues)\n",
    "P = eigenvectors\n",
    "P_inv = np.linalg.inv(P)\n",
    "\n",
    "diagonalized_matrix = P@D@P_inv\n",
    " \n",
    "print(diagonalized_matrix.real)\n"
   ]
  }
 ],
 "metadata": {
  "kernelspec": {
   "display_name": "Python 3",
   "language": "python",
   "name": "python3"
  },
  "language_info": {
   "codemirror_mode": {
    "name": "ipython",
    "version": 3
   },
   "file_extension": ".py",
   "mimetype": "text/x-python",
   "name": "python",
   "nbconvert_exporter": "python",
   "pygments_lexer": "ipython3",
   "version": "3.10.12"
  }
 },
 "nbformat": 4,
 "nbformat_minor": 2
}

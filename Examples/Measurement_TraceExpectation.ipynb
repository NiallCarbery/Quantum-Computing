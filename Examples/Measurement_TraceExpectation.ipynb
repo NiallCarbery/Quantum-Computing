{
 "cells": [
  {
   "cell_type": "code",
   "execution_count": 1,
   "id": "80abb38f-ec9f-406a-9585-7a01694ff762",
   "metadata": {},
   "outputs": [],
   "source": [
    "# This notebook shows how to compute the expectation value of a one and two qubit hamiltonian."
   ]
  },
  {
   "cell_type": "code",
   "execution_count": 2,
   "id": "be44e513-1184-4f57-a0a4-d8acd569ff43",
   "metadata": {},
   "outputs": [],
   "source": [
    "import numpy as np\n",
    "import scipy.linalg"
   ]
  },
  {
   "cell_type": "code",
   "execution_count": 3,
   "id": "1a9eda93-a73f-45dd-a6c0-008693dc9823",
   "metadata": {},
   "outputs": [],
   "source": [
    "# Some helper functions we will use throughout the notebook\n",
    "\n",
    "def dagger(state):\n",
    "    return np.transpose(np.conj(state))"
   ]
  },
  {
   "cell_type": "code",
   "execution_count": 4,
   "id": "4d7b659e-a276-4e31-ba31-94aca22b62c4",
   "metadata": {},
   "outputs": [],
   "source": [
    "# Define the Pauli Matrices\n",
    "\n",
    "pauli_I = np.array([[1,0],[0,1]])\n",
    "pauli_X = np.array([[0,1],[1,0]])\n",
    "pauli_Y = np.array([[0,-1j],[1j,0]])\n",
    "pauli_Z = np.array([[1,0],[0,-1]])\n",
    "\n",
    "pauli_matrices = [pauli_I, pauli_X, pauli_Y, pauli_Z]\n",
    "\n",
    "# Define Hadamard Gate\n",
    "hadamard = (1/np.sqrt(2))*np.array([[1,1],[1,-1]])\n",
    "\n",
    "# Define Phase gate\n",
    "s_phase  = np.array([[1,0],[0,1j]])"
   ]
  },
  {
   "cell_type": "code",
   "execution_count": 5,
   "id": "b80527f3-c8f5-4b84-b158-e5ddc0e754fd",
   "metadata": {},
   "outputs": [
    {
     "name": "stdout",
     "output_type": "stream",
     "text": [
      "ham_0 = 1.5*sigma_I + 0.0*sigma_X + 0.0*sigma_Y + -0.5*sigma_Z\n",
      "ham_1 = 0.0*sigma_I + 0.0*sigma_X + -2.0*sigma_Y + 0.0*sigma_Z\n"
     ]
    }
   ],
   "source": [
    "# Example Hamiltonians for Non-Interacting Case\n",
    "ham_0 = np.array([[1,0],[0,2]])\n",
    "ham_1 = np.array([[0,2*1j],[-2*1j, 0]])\n",
    "\n",
    "# The total hamiltonian is found as follows:\n",
    "ham_tot = np.kron(ham_0, np.identity(2)) + np.kron(np.identity(2), ham_1)\n",
    "\n",
    "# We know each of the hamiltonians can be written as a sum of pauli matrices with real coefficients\n",
    "\n",
    "# Here's a function for decomposing single qubit hamiltonians with hilbert space dimension 2\n",
    "# This is based on the method given on page 4 of the lecture 4 handout\n",
    "def find_pauli_coeffs(ham):\n",
    "    pauli_coeffs = np.array([np.trace(ham@pauli_I), np.trace(ham@pauli_X), np.trace(ham@pauli_Y), np.trace(ham@pauli_Z)])\n",
    "    return np.real((1/2)*pauli_coeffs)\n",
    "\n",
    "# Consider two examples, you can confirm these by hand\n",
    "ham_0_coeffs  = find_pauli_coeffs(ham_0)\n",
    "print(f\"ham_0 = {ham_0_coeffs[0]}*sigma_I + {ham_0_coeffs[1]}*sigma_X + {ham_0_coeffs[2]}*sigma_Y + {ham_0_coeffs[3]}*sigma_Z\")\n",
    "ham_1_coeffs  = find_pauli_coeffs(ham_1)\n",
    "print(f\"ham_1 = {ham_1_coeffs[0]}*sigma_I + {ham_1_coeffs[1]}*sigma_X + {ham_1_coeffs[2]}*sigma_Y + {ham_1_coeffs[3]}*sigma_Z\")"
   ]
  },
  {
   "cell_type": "code",
   "execution_count": 6,
   "id": "a1df7865-2451-4a00-9101-786f349beda0",
   "metadata": {},
   "outputs": [
    {
     "name": "stdout",
     "output_type": "stream",
     "text": [
      "HAM 0 EIGENVALUES AND EIGENVECTORS\n",
      "Ham 0 EigenValues: [1. 2.]\n",
      "Ham 0 EigenVectors: [[-1.  0.]\n",
      " [ 0.  1.]]\n",
      "Sum of Pauli Expectations with Ground State Vector: 1.0\n",
      "HAM 1 EIGENVALUES AND EIGENVECTORS\n",
      "Ham 1 EigenValues: [-2.  2.]\n",
      "Ham 1 EigenVectors: [[-0.70710678+0.j          0.70710678+0.j        ]\n",
      " [ 0.        -0.70710678j  0.        -0.70710678j]]\n",
      "Sum of Pauli Expectations with Ground State Vector: (1.9999999999999993+0j)\n"
     ]
    }
   ],
   "source": [
    "# The Variational Quantum Eigensolver algorithm aims to find the minimum eigenvalue or ground state energy of a hamiltonian \n",
    "# We can diagonalise our hamiltonian for a single qubit very easily and find the minimum eigenvalue\n",
    "# VQE uses classical feedback based on the current measured expectation value to vary the state so that it approaches the ground state\n",
    "\n",
    "# These two small examples below just use the numerically obtained ground state vectors to compute the expected values of the hamiltonian\n",
    "\n",
    "# Ham 0 is already diagonal so these steps aren't stricly necessary\n",
    "eigvals_ham_0, eigvecs_ham_0 = scipy.linalg.eigh(ham_0)\n",
    "print(\"HAM 0 EIGENVALUES AND EIGENVECTORS\")\n",
    "print(f\"Ham 0 EigenValues: {eigvals_ham_0}\")\n",
    "print(f\"Ham 0 EigenVectors: {eigvecs_ham_0}\")\n",
    "print(f\"Sum of Pauli Expectations with Ground State Vector: {ham_0_coeffs[0]*dagger(eigvecs_ham_0[0,:])@pauli_I@eigvecs_ham_0[0,:] + ham_0_coeffs[3]*dagger(eigvecs_ham_0[0,:])@pauli_Z@eigvecs_ham_0[0,:]}\")\n",
    "\n",
    "# Ham 1 is not diagonal\n",
    "# We need basis transformation to find the expected value of this hamiltonian\n",
    "eigvals_ham_1, eigvecs_ham_1 = scipy.linalg.eigh(ham_1)\n",
    "print(\"HAM 1 EIGENVALUES AND EIGENVECTORS\")\n",
    "print(f\"Ham 1 EigenValues: {eigvals_ham_1}\")\n",
    "print(f\"Ham 1 EigenVectors: {eigvecs_ham_1}\")\n",
    "print(f\"Sum of Pauli Expectations with Ground State Vector: {ham_1_coeffs[2]*dagger(eigvecs_ham_1[0,:])@(hadamard@pauli_Z@hadamard)@eigvecs_ham_1[0,:]}\")"
   ]
  },
  {
   "cell_type": "code",
   "execution_count": 7,
   "id": "f167bd76-8841-491e-ac85-0f2f317c0759",
   "metadata": {},
   "outputs": [
    {
     "name": "stdout",
     "output_type": "stream",
     "text": [
      "{'00': 1.5, '02': -2.0, '30': -0.5}\n"
     ]
    }
   ],
   "source": [
    "# If we want to do the equivalent for a 2 qubit state and find its pauli string decomposition we can expand on what we wrote earlier\n",
    "\n",
    "def find_pauli_coeffs_2qubit(ham):\n",
    "    ham_pauli_coeffs = {}\n",
    "    for indexA, current_pauli_A in enumerate(pauli_matrices):\n",
    "        for indexB, current_pauli_B in enumerate(pauli_matrices):\n",
    "            current_pauli_string   = np.kron(current_pauli_A, current_pauli_B)\n",
    "            current_ham_projection = np.real((1/2**2)*np.trace(ham@current_pauli_string))\n",
    "            if current_ham_projection != 0.0: #Let's only include non-zero coefficients in our expansion\n",
    "                ham_pauli_coeffs.update({f\"{indexA}{indexB}\": current_ham_projection})\n",
    "    return ham_pauli_coeffs\n",
    "\n",
    "# Let's do an example with the total hamiltonian from the two non-interacting single qubit hamiltonians\n",
    "# The output is given as a dictionary for legibility but isn't stricly necessary\n",
    "# e.g. key 02 corresponds to sigma_I on system A and sigma_Y on system B and the value is the coefficient\n",
    "# You should confirm this by hand\n",
    "ham_tot_pauli_decomp = find_pauli_coeffs_2qubit(ham_tot)\n",
    "print(ham_tot_pauli_decomp)"
   ]
  },
  {
   "cell_type": "code",
   "execution_count": 8,
   "id": "e447a751-ede2-4e66-a14a-95e6531cb5af",
   "metadata": {},
   "outputs": [
    {
     "data": {
      "text/plain": [
       "array([[1, 0, 0, 0],\n",
       "       [0, 1, 0, 0],\n",
       "       [0, 0, 1, 0],\n",
       "       [0, 0, 0, 1]])"
      ]
     },
     "execution_count": 8,
     "metadata": {},
     "output_type": "execute_result"
    }
   ],
   "source": [
    "# To compute the expectaion value in the multi qubit case we need to apply the appropriate transformation for each pauli matrix\n",
    "# We can only perform Z basis measurements so we must transform our qubits prior to measurement\n",
    "# sigma_I = sigma_I\n",
    "# sigma_X = H*sigma_Z*H\n",
    "# sigma_Y = S*H*sigma_Z*H*S^{\\dagger}\n",
    "# sigma_Z = sigma_Z\n",
    "\n",
    "# Let's write a function that returns the appropriate unitary transform given a key such as we generated above\n",
    "def basis_transform_2qubit(pauli_string):\n",
    "    system_A_pauli = int(pauli_string[0])\n",
    "    system_B_pauli = int(pauli_string[1])\n",
    "    \n",
    "    system_A_transform = None\n",
    "    system_B_transform = None\n",
    "    \n",
    "    if system_A_pauli  == 0:\n",
    "        system_A_transform = pauli_I\n",
    "    elif system_A_pauli == 1:\n",
    "        system_A_transform = hadamard\n",
    "    elif system_A_pauli == 2:\n",
    "        system_A_transform = hadamard@dagger(s_phase)\n",
    "    elif system_A_pauli == 3:\n",
    "        system_A_transform = pauli_I\n",
    "    \n",
    "    if system_B_pauli == 0:\n",
    "        system_B_transform = pauli_I\n",
    "    elif system_B_pauli == 1:\n",
    "        system_B_transform = hadamard\n",
    "    elif system_B_pauli == 2:\n",
    "        system_B_transform = hadamard@dagger(s_phase)\n",
    "    elif system_B_pauli == 3:\n",
    "        system_B_transform = pauli_I\n",
    "        \n",
    "    return np.kron(system_A_transform, system_B_transform)\n",
    "\n",
    "\n",
    "basis_transform_2qubit('00')"
   ]
  },
  {
   "cell_type": "code",
   "execution_count": 9,
   "id": "585b8c43-642d-4562-8824-3597096b03ac",
   "metadata": {},
   "outputs": [
    {
     "name": "stdout",
     "output_type": "stream",
     "text": [
      "HAM TOT EIGENVALUES AND EIGENVECTORS\n",
      "Ham tot EigenValues: [-1.00000000e+00  2.22044605e-15  3.00000000e+00  4.00000000e+00]\n",
      "Ham tot EigenVectors: [[ 0.70710678+0.j          0.        +0.j         -0.70710678-0.j\n",
      "   0.        +0.j        ]\n",
      " [ 0.        +0.70710678j  0.        +0.j          0.        +0.70710678j\n",
      "   0.        +0.j        ]\n",
      " [ 0.        +0.j          0.70710678+0.j          0.        +0.j\n",
      "  -0.70710678-0.j        ]\n",
      " [ 0.        +0.j          0.        +0.70710678j  0.        +0.j\n",
      "   0.        +0.70710678j]]\n"
     ]
    },
    {
     "data": {
      "text/plain": [
       "(-1+0j)"
      ]
     },
     "execution_count": 9,
     "metadata": {},
     "output_type": "execute_result"
    }
   ],
   "source": [
    "# take in dictionary of key value pairs, take in a state vector\n",
    "# for each key find the transform\n",
    "# then compute  value * dagger(state)@dagger(transform)@sigma_Z@transform@state\n",
    "\n",
    "def expectation_from_decomp(ham_pauli_decomp, state):\n",
    "    \n",
    "    total_expectation = 0.0\n",
    "    for current_key in ham_pauli_decomp.keys():\n",
    "        current_transform  = basis_transform_2qubit(current_key)\n",
    "        transformed_state  = current_transform@state\n",
    "        system_A_pauli = int(current_key[0])\n",
    "        system_B_pauli = int(current_key[1])\n",
    "        \n",
    "        if system_A_pauli == 0:\n",
    "            system_A_op = pauli_I\n",
    "        else:\n",
    "            system_A_op = pauli_Z\n",
    "            \n",
    "        if system_B_pauli == 0:\n",
    "            system_B_op = pauli_I\n",
    "        else:\n",
    "            system_B_op = pauli_Z\n",
    "            \n",
    "        total_expectation += ham_pauli_decomp[current_key]*dagger(transformed_state)@np.kron(system_A_op, system_B_op)@transformed_state\n",
    "\n",
    "    return total_expectation\n",
    "\n",
    "eigvals_tot, eigvecs_tot = scipy.linalg.eigh(ham_tot)\n",
    "print(\"HAM TOT EIGENVALUES AND EIGENVECTORS\")\n",
    "print(f\"Ham tot EigenValues: {eigvals_tot}\")\n",
    "print(f\"Ham tot EigenVectors: {eigvecs_tot}\")\n",
    "\n",
    "ground_state_tot = eigvecs_tot[:,0]\n",
    "expectation_from_decomp(ham_tot_pauli_decomp, ground_state_tot)"
   ]
  },
  {
   "cell_type": "code",
   "execution_count": null,
   "id": "d41f4955-ebc6-4eec-a9b3-4a218a34c613",
   "metadata": {},
   "outputs": [],
   "source": []
  }
 ],
 "metadata": {
  "kernelspec": {
   "display_name": "Python 3",
   "language": "python",
   "name": "python3"
  },
  "language_info": {
   "codemirror_mode": {
    "name": "ipython",
    "version": 3
   },
   "file_extension": ".py",
   "mimetype": "text/x-python",
   "name": "python",
   "nbconvert_exporter": "python",
   "pygments_lexer": "ipython3",
   "version": "3.10.12"
  }
 },
 "nbformat": 4,
 "nbformat_minor": 5
}

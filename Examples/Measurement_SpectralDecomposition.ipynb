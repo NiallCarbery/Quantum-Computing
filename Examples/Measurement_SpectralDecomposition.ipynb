{
 "cells": [
  {
   "cell_type": "code",
   "execution_count": 1,
   "id": "56801a2c-c640-4e4e-b81b-12ceab8bec42",
   "metadata": {},
   "outputs": [],
   "source": [
    "import numpy as np\n",
    "import scipy.linalg as linalg"
   ]
  },
  {
   "cell_type": "code",
   "execution_count": 2,
   "id": "94a01e39-43ed-43d7-9acb-da563f0f1658",
   "metadata": {},
   "outputs": [
    {
     "name": "stdout",
     "output_type": "stream",
     "text": [
      "[[0.75 0.25]\n",
      " [0.25 0.25]]\n",
      "0.5\n",
      "0.49999999999999994\n",
      "psi 1: -0.7071067811865475\n",
      "psi 2: 0.7071067811865475\n"
     ]
    }
   ],
   "source": [
    "# Initial Density Matrix\n",
    "# We would like to find a set of pure states that can be summed together to make this mixed state\n",
    "density_matrix = np.array([[3/4, 1/4],[1/4,1/4]])\n",
    "\n",
    "# We will also compute the expectation of the Z operator in the density matrix formalism\n",
    "pauli_Z        = np.array([[1,0],[0,-1]])\n",
    "\n",
    "# Find spectral decomposition of the density matrix\n",
    "eig_vals, eig_vecs = linalg.eigh(density_matrix)\n",
    "\n",
    "# From the two eigenvectors create the pure state density matrices\n",
    "state_one = np.transpose([eig_vecs[:,0]])@[eig_vecs[:,0]]\n",
    "state_two = np.transpose([eig_vecs[:,1]])@[eig_vecs[:,1]]\n",
    "\n",
    "# Compre computing the expectation of Z using the density matrix versus the sum over the pure states\n",
    "# These should match!\n",
    "expectation_density_matrix = np.trace(density_matrix@pauli_Z)\n",
    "expectation_states         = eig_vals[0]*np.trace(state_one@pauli_Z) + eig_vals[1]*np.trace(state_two@pauli_Z)\n",
    "\n",
    "print(eig_vals[0]*state_one + eig_vals[1]*state_two)\n",
    "print(expectation_density_matrix)\n",
    "print(expectation_states)\n",
    "\n",
    "print(\"psi 1: \" + str(np.trace(state_one@pauli_Z)))\n",
    "print(\"psi 2: \" + str(np.trace(state_two@pauli_Z)))"
   ]
  },
  {
   "cell_type": "code",
   "execution_count": null,
   "id": "a4776f02-3ffd-48b3-9b8b-8b9172715851",
   "metadata": {},
   "outputs": [],
   "source": []
  }
 ],
 "metadata": {
  "kernelspec": {
   "display_name": "Python 3",
   "language": "python",
   "name": "python3"
  },
  "language_info": {
   "codemirror_mode": {
    "name": "ipython",
    "version": 3
   },
   "file_extension": ".py",
   "mimetype": "text/x-python",
   "name": "python",
   "nbconvert_exporter": "python",
   "pygments_lexer": "ipython3",
   "version": "3.10.12"
  }
 },
 "nbformat": 4,
 "nbformat_minor": 5
}

{
 "cells": [
  {
   "cell_type": "code",
   "execution_count": 45,
   "metadata": {},
   "outputs": [],
   "source": [
    "import numpy as np\n",
    "import pandas as pd\n",
    "from sklearn.svm import SVC\n",
    "from sklearn.preprocessing import StandardScaler\n",
    "from sklearn.model_selection import train_test_split\n",
    "from sklearn.metrics import accuracy_score, confusion_matrix, classification_report\n",
    "from qutip_qip.circuit import QubitCircuit\n",
    "\n",
    "import pennylane as qml\n",
    "\n",
    "np.random.seed(42)"
   ]
  },
  {
   "cell_type": "code",
   "execution_count": 46,
   "metadata": {},
   "outputs": [],
   "source": [
    "dataset = pd.read_csv(\"./Homework_Datasets/train.csv\")\n",
    "dataset['target'] = dataset['target'].apply(lambda x: 0 if x == 0 else 1)\n",
    "\n",
    "X=dataset.iloc[: , 1:10].values\n",
    "y=dataset.iloc[: ,-1].values\n",
    "\n",
    "X_train,X_test,y_train,y_test = train_test_split(X,y,test_size=0.33, random_state=42)\n",
    "\n",
    "sc=StandardScaler()\n",
    "X_train = sc.fit_transform(X_train)\n",
    "X_test = sc.fit_transform(X_test)"
   ]
  },
  {
   "cell_type": "code",
   "execution_count": 47,
   "metadata": {},
   "outputs": [],
   "source": [
    "n_qubits = 2\n",
    "\n",
    "def normalize_data(vector):\n",
    "    norm_vector = np.pi * (2*(vector - vector.min()) / (vector.max() - vector.min()) - 1) / 2\n",
    "    return norm_vector\n",
    "\n",
    "def encode_data(vector):\n",
    "    norm_vector = normalize_data(vector)\n",
    "    circuit = QubitCircuit(n_qubits)\n",
    "    circuit.add_gate(\"H\", targets=[0])\n",
    "    circuit.add_gate(\"H\", targets=[1])\n",
    "    circuit.add_gate(\"RX\", targets=[0], arg_value=norm_vector[0])\n",
    "    circuit.add_gate(\"RX\", targets=[1], arg_value=norm_vector[5])\n",
    "    circuit.add_gate(\"CNOT\", controls=[0], targets=[1])\n",
    "    circuit.add_gate(\"RX\", targets=[0], arg_value=norm_vector[1])\n",
    "    circuit.add_gate(\"RX\", targets=[1], arg_value=norm_vector[6])\n",
    "    circuit.add_gate(\"CNOT\", controls=[1], targets=[0])\n",
    "    circuit.add_gate(\"RX\", targets=[0], arg_value=norm_vector[2])\n",
    "    circuit.add_gate(\"RX\", targets=[0], arg_value=norm_vector[3])\n",
    "    circuit.add_gate(\"RX\", targets=[0], arg_value=norm_vector[7])\n",
    "    circuit.add_gate(\"CNOT\", controls=[1], targets=[0])\n",
    "    circuit.add_gate(\"RX\", targets=[0], arg_value=norm_vector[4])\n",
    "    circuit.add_gate(\"RX\", targets=[0], arg_value=norm_vector[8])\n",
    "        \n",
    "\n",
    "    return circuit"
   ]
  },
  {
   "cell_type": "code",
   "execution_count": 48,
   "metadata": {},
   "outputs": [],
   "source": [
    "dev_kernel = qml.device(\"lightning.qubit\", wires=n_qubits)\n",
    "\n",
    "projector = np.zeros((2 ** n_qubits, 2 ** n_qubits))\n",
    "projector[0, 0] = 1\n",
    "\n",
    "@qml.qnode(dev_kernel)\n",
    "def kernel(x1, x2):\n",
    "    \"\"\"The quantum kernel.\"\"\"\n",
    "    encode_data(x1)\n",
    "    qml.adjoint(encode_data)(x2)\n",
    "    return qml.expval(qml.Hermitian(projector, wires=range(n_qubits)))"
   ]
  },
  {
   "cell_type": "code",
   "execution_count": 49,
   "metadata": {},
   "outputs": [
    {
     "data": {
      "text/plain": [
       "1.0"
      ]
     },
     "execution_count": 49,
     "metadata": {},
     "output_type": "execute_result"
    }
   ],
   "source": [
    "kernel(X_train[0], X_train[0])"
   ]
  },
  {
   "cell_type": "code",
   "execution_count": 50,
   "metadata": {},
   "outputs": [],
   "source": [
    "def kernel_matrix(A, B):\n",
    "    return np.array([[kernel(a, b) for b in B] for a in A])"
   ]
  },
  {
   "cell_type": "code",
   "execution_count": 51,
   "metadata": {},
   "outputs": [],
   "source": [
    "best_svc = SVC(kernel=kernel_matrix).fit(X_train, y_train)"
   ]
  },
  {
   "cell_type": "code",
   "execution_count": 52,
   "metadata": {},
   "outputs": [
    {
     "name": "stdout",
     "output_type": "stream",
     "text": [
      "[[  0  55]\n",
      " [  0 122]]\n",
      "              precision    recall  f1-score   support\n",
      "\n",
      "           0       1.00      0.00      0.00        55\n",
      "           1       0.69      1.00      0.82       122\n",
      "\n",
      "    accuracy                           0.69       177\n",
      "   macro avg       0.84      0.50      0.41       177\n",
      "weighted avg       0.79      0.69      0.56       177\n",
      "\n"
     ]
    },
    {
     "data": {
      "text/plain": [
       "0.6892655367231638"
      ]
     },
     "execution_count": 52,
     "metadata": {},
     "output_type": "execute_result"
    }
   ],
   "source": [
    "svc_pred = best_svc.predict(X_test)\n",
    "\n",
    "# Evaluate the model\n",
    "print(confusion_matrix(y_test, svc_pred))\n",
    "print(classification_report(y_test, svc_pred,zero_division=True))\n",
    "\n",
    "accuracy_score(y_test, svc_pred)"
   ]
  },
  {
   "cell_type": "code",
   "execution_count": 53,
   "metadata": {},
   "outputs": [],
   "source": [
    "def circuit_evals_kernel(n_data, split):\n",
    "    \"\"\"Compute how many circuit evaluations one needs for kernel-based\n",
    "       training and prediction.\"\"\"\n",
    "\n",
    "    M = int(np.ceil(split * n_data))\n",
    "    Mpred = n_data - M\n",
    "\n",
    "    n_training = M * M\n",
    "    n_prediction = M * Mpred\n",
    "\n",
    "    return n_training + n_prediction"
   ]
  },
  {
   "cell_type": "code",
   "execution_count": 54,
   "metadata": {},
   "outputs": [
    {
     "data": {
      "text/plain": [
       "190638"
      ]
     },
     "execution_count": 54,
     "metadata": {},
     "output_type": "execute_result"
    }
   ],
   "source": [
    "circuit_evals_kernel(n_data=len(X), split=len(X_train) / (len(X_train) + len(X_test)))"
   ]
  }
 ],
 "metadata": {
  "kernelspec": {
   "display_name": ".venv",
   "language": "python",
   "name": "python3"
  },
  "language_info": {
   "codemirror_mode": {
    "name": "ipython",
    "version": 3
   },
   "file_extension": ".py",
   "mimetype": "text/x-python",
   "name": "python",
   "nbconvert_exporter": "python",
   "pygments_lexer": "ipython3",
   "version": "3.10.12"
  }
 },
 "nbformat": 4,
 "nbformat_minor": 2
}

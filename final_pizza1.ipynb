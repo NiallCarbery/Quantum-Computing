{
 "cells": [
  {
   "cell_type": "code",
   "execution_count": 16,
   "metadata": {},
   "outputs": [],
   "source": [
    "import numpy as np\n",
    "import pandas as pd\n",
    "from sklearn.svm import SVC\n",
    "from sklearn.preprocessing import StandardScaler\n",
    "from sklearn.model_selection import train_test_split\n",
    "from sklearn.metrics import accuracy_score, confusion_matrix, classification_report\n",
    "from qutip_qip.circuit import QubitCircuit\n",
    "\n",
    "import pennylane as qml\n",
    "\n",
    "\n",
    "np.random.seed(42)"
   ]
  },
  {
   "cell_type": "code",
   "execution_count": 17,
   "metadata": {},
   "outputs": [
    {
     "name": "stdout",
     "output_type": "stream",
     "text": [
      "[[27.82 21.43 44.87  5.11  1.77  0.77]\n",
      " [28.49 21.26 43.89  5.34  1.79  1.02]\n",
      " [28.35 19.99 45.78  5.08  1.63  0.8 ]\n",
      " ...\n",
      " [44.55 11.01 16.03  2.43  0.64 25.98]\n",
      " [47.6  10.43 15.18  2.32  0.56 24.47]\n",
      " [46.84  9.91 15.5   2.27  0.57 25.48]]\n"
     ]
    }
   ],
   "source": [
    "dataset = pd.read_csv(\"./Homework_Datasets/Pizza.csv\")\n",
    "dataset['brand'] = dataset['brand'].apply(lambda x: 0 if x == 'A' else 1)\n",
    "\n",
    "X=dataset.iloc[: , 2:8].values\n",
    "y=dataset.iloc[: ,0].values\n",
    "\n",
    "X_train,X_test,y_train,y_test = train_test_split(X,y,test_size=0.33, random_state=42)\n",
    "\n",
    "sc=StandardScaler()\n",
    "X_train = sc.fit_transform(X_train)\n",
    "X_test = sc.fit_transform(X_test)\n",
    "\n",
    "print(X)"
   ]
  },
  {
   "cell_type": "code",
   "execution_count": 18,
   "metadata": {},
   "outputs": [],
   "source": [
    "n_qubits = 4\n",
    "\n",
    "def normalize_data(vector):\n",
    "    norm_vector = np.pi * (2*(vector - vector.min()) / (vector.max() - vector.min()) - 1) / 2\n",
    "    return norm_vector\n",
    "\n",
    "def encode_data(vector):\n",
    "    norm_vector = normalize_data(vector)\n",
    "    circuit = QubitCircuit(n_qubits)\n",
    "    circuit.add_gate(\"RX\", targets=[0], arg_value=norm_vector[0])\n",
    "    circuit.add_gate(\"RX\", targets=[1], arg_value=norm_vector[1])\n",
    "    circuit.add_gate(\"CNOT\", controls=[0], targets=[1])\n",
    "    circuit.add_gate(\"CNOT\", controls=[1], targets=[2])\n",
    "    circuit.add_gate(\"CNOT\", controls=[2], targets=[3])\n",
    "    circuit.add_gate(\"RX\", targets=[0], arg_value=norm_vector[3])\n",
    "    circuit.add_gate(\"RX\", targets=[1], arg_value=norm_vector[4])\n",
    "    circuit.add_gate(\"RX\", targets=[2], arg_value=norm_vector[5])\n",
    "\n",
    "    return circuit"
   ]
  },
  {
   "cell_type": "code",
   "execution_count": 19,
   "metadata": {},
   "outputs": [],
   "source": [
    "dev_kernel = qml.device(\"lightning.qubit\", wires=n_qubits)\n",
    "\n",
    "projector = np.zeros((2 ** n_qubits, 2 ** n_qubits))\n",
    "projector[0, 0] = 1\n",
    "\n",
    "@qml.qnode(dev_kernel)\n",
    "def kernel(x1, x2):\n",
    "    \"\"\"The quantum kernel.\"\"\"\n",
    "    encode_data(x1)\n",
    "    qml.adjoint(encode_data)(x2)\n",
    "    return qml.expval(qml.Hermitian(projector, wires=range(n_qubits)))"
   ]
  },
  {
   "cell_type": "code",
   "execution_count": 20,
   "metadata": {},
   "outputs": [
    {
     "ename": "IndexError",
     "evalue": "index 6 is out of bounds for axis 0 with size 6",
     "output_type": "error",
     "traceback": [
      "\u001b[0;31m---------------------------------------------------------------------------\u001b[0m",
      "\u001b[0;31mIndexError\u001b[0m                                Traceback (most recent call last)",
      "Cell \u001b[0;32mIn[20], line 1\u001b[0m\n\u001b[0;32m----> 1\u001b[0m \u001b[43mkernel\u001b[49m\u001b[43m(\u001b[49m\u001b[43mX_train\u001b[49m\u001b[43m[\u001b[49m\u001b[38;5;241;43m0\u001b[39;49m\u001b[43m]\u001b[49m\u001b[43m,\u001b[49m\u001b[43m \u001b[49m\u001b[43mX_train\u001b[49m\u001b[43m[\u001b[49m\u001b[38;5;241;43m0\u001b[39;49m\u001b[43m]\u001b[49m\u001b[43m)\u001b[49m\n",
      "File \u001b[0;32m~/Quantum-Computing/.venv/lib/python3.10/site-packages/pennylane/workflow/qnode.py:1092\u001b[0m, in \u001b[0;36mQNode.__call__\u001b[0;34m(self, *args, **kwargs)\u001b[0m\n\u001b[1;32m   1089\u001b[0m     override_shots \u001b[38;5;241m=\u001b[39m kwargs[\u001b[38;5;124m\"\u001b[39m\u001b[38;5;124mshots\u001b[39m\u001b[38;5;124m\"\u001b[39m]\n\u001b[1;32m   1091\u001b[0m \u001b[38;5;66;03m# construct the tape\u001b[39;00m\n\u001b[0;32m-> 1092\u001b[0m \u001b[38;5;28;43mself\u001b[39;49m\u001b[38;5;241;43m.\u001b[39;49m\u001b[43mconstruct\u001b[49m\u001b[43m(\u001b[49m\u001b[43margs\u001b[49m\u001b[43m,\u001b[49m\u001b[43m \u001b[49m\u001b[43mkwargs\u001b[49m\u001b[43m)\u001b[49m\n\u001b[1;32m   1094\u001b[0m original_grad_fn \u001b[38;5;241m=\u001b[39m [\u001b[38;5;28mself\u001b[39m\u001b[38;5;241m.\u001b[39mgradient_fn, \u001b[38;5;28mself\u001b[39m\u001b[38;5;241m.\u001b[39mgradient_kwargs, \u001b[38;5;28mself\u001b[39m\u001b[38;5;241m.\u001b[39mdevice]\n\u001b[1;32m   1095\u001b[0m \u001b[38;5;28mself\u001b[39m\u001b[38;5;241m.\u001b[39m_update_gradient_fn(shots\u001b[38;5;241m=\u001b[39moverride_shots, tape\u001b[38;5;241m=\u001b[39m\u001b[38;5;28mself\u001b[39m\u001b[38;5;241m.\u001b[39m_tape)\n",
      "File \u001b[0;32m~/Quantum-Computing/.venv/lib/python3.10/site-packages/pennylane/workflow/qnode.py:929\u001b[0m, in \u001b[0;36mQNode.construct\u001b[0;34m(self, args, kwargs)\u001b[0m\n\u001b[1;32m    926\u001b[0m     \u001b[38;5;28mself\u001b[39m\u001b[38;5;241m.\u001b[39minterface \u001b[38;5;241m=\u001b[39m qml\u001b[38;5;241m.\u001b[39mmath\u001b[38;5;241m.\u001b[39mget_interface(\u001b[38;5;241m*\u001b[39margs, \u001b[38;5;241m*\u001b[39m\u001b[38;5;28mlist\u001b[39m(kwargs\u001b[38;5;241m.\u001b[39mvalues()))\n\u001b[1;32m    928\u001b[0m \u001b[38;5;28;01mwith\u001b[39;00m qml\u001b[38;5;241m.\u001b[39mqueuing\u001b[38;5;241m.\u001b[39mAnnotatedQueue() \u001b[38;5;28;01mas\u001b[39;00m q:\n\u001b[0;32m--> 929\u001b[0m     \u001b[38;5;28mself\u001b[39m\u001b[38;5;241m.\u001b[39m_qfunc_output \u001b[38;5;241m=\u001b[39m \u001b[38;5;28;43mself\u001b[39;49m\u001b[38;5;241;43m.\u001b[39;49m\u001b[43mfunc\u001b[49m\u001b[43m(\u001b[49m\u001b[38;5;241;43m*\u001b[39;49m\u001b[43margs\u001b[49m\u001b[43m,\u001b[49m\u001b[43m \u001b[49m\u001b[38;5;241;43m*\u001b[39;49m\u001b[38;5;241;43m*\u001b[39;49m\u001b[43mkwargs\u001b[49m\u001b[43m)\u001b[49m\n\u001b[1;32m    931\u001b[0m \u001b[38;5;28mself\u001b[39m\u001b[38;5;241m.\u001b[39m_tape \u001b[38;5;241m=\u001b[39m QuantumScript\u001b[38;5;241m.\u001b[39mfrom_queue(q, shots)\n\u001b[1;32m    933\u001b[0m params \u001b[38;5;241m=\u001b[39m \u001b[38;5;28mself\u001b[39m\u001b[38;5;241m.\u001b[39mtape\u001b[38;5;241m.\u001b[39mget_parameters(trainable_only\u001b[38;5;241m=\u001b[39m\u001b[38;5;28;01mFalse\u001b[39;00m)\n",
      "Cell \u001b[0;32mIn[19], line 9\u001b[0m, in \u001b[0;36mkernel\u001b[0;34m(x1, x2)\u001b[0m\n\u001b[1;32m      6\u001b[0m \u001b[38;5;129m@qml\u001b[39m\u001b[38;5;241m.\u001b[39mqnode(dev_kernel)\n\u001b[1;32m      7\u001b[0m \u001b[38;5;28;01mdef\u001b[39;00m \u001b[38;5;21mkernel\u001b[39m(x1, x2):\n\u001b[1;32m      8\u001b[0m \u001b[38;5;250m    \u001b[39m\u001b[38;5;124;03m\"\"\"The quantum kernel.\"\"\"\u001b[39;00m\n\u001b[0;32m----> 9\u001b[0m     \u001b[43mencode_data\u001b[49m\u001b[43m(\u001b[49m\u001b[43mx1\u001b[49m\u001b[43m)\u001b[49m\n\u001b[1;32m     10\u001b[0m     qml\u001b[38;5;241m.\u001b[39madjoint(encode_data)(x2)\n\u001b[1;32m     11\u001b[0m     \u001b[38;5;28;01mreturn\u001b[39;00m qml\u001b[38;5;241m.\u001b[39mexpval(qml\u001b[38;5;241m.\u001b[39mHermitian(projector, wires\u001b[38;5;241m=\u001b[39m\u001b[38;5;28mrange\u001b[39m(n_qubits)))\n",
      "Cell \u001b[0;32mIn[18], line 14\u001b[0m, in \u001b[0;36mencode_data\u001b[0;34m(vector)\u001b[0m\n\u001b[1;32m     12\u001b[0m circuit\u001b[38;5;241m.\u001b[39madd_gate(\u001b[38;5;124m\"\u001b[39m\u001b[38;5;124mCNOT\u001b[39m\u001b[38;5;124m\"\u001b[39m, controls\u001b[38;5;241m=\u001b[39m[\u001b[38;5;241m0\u001b[39m], targets\u001b[38;5;241m=\u001b[39m[\u001b[38;5;241m1\u001b[39m])\n\u001b[1;32m     13\u001b[0m circuit\u001b[38;5;241m.\u001b[39madd_gate(\u001b[38;5;124m\"\u001b[39m\u001b[38;5;124mRX\u001b[39m\u001b[38;5;124m\"\u001b[39m, targets\u001b[38;5;241m=\u001b[39m[\u001b[38;5;241m0\u001b[39m], arg_value\u001b[38;5;241m=\u001b[39mnorm_vector[\u001b[38;5;241m1\u001b[39m])\n\u001b[0;32m---> 14\u001b[0m circuit\u001b[38;5;241m.\u001b[39madd_gate(\u001b[38;5;124m\"\u001b[39m\u001b[38;5;124mRX\u001b[39m\u001b[38;5;124m\"\u001b[39m, targets\u001b[38;5;241m=\u001b[39m[\u001b[38;5;241m1\u001b[39m], arg_value\u001b[38;5;241m=\u001b[39m\u001b[43mnorm_vector\u001b[49m\u001b[43m[\u001b[49m\u001b[38;5;241;43m6\u001b[39;49m\u001b[43m]\u001b[49m)\n\u001b[1;32m     15\u001b[0m circuit\u001b[38;5;241m.\u001b[39madd_gate(\u001b[38;5;124m\"\u001b[39m\u001b[38;5;124mCNOT\u001b[39m\u001b[38;5;124m\"\u001b[39m, controls\u001b[38;5;241m=\u001b[39m[\u001b[38;5;241m1\u001b[39m], targets\u001b[38;5;241m=\u001b[39m[\u001b[38;5;241m0\u001b[39m])\n\u001b[1;32m     16\u001b[0m circuit\u001b[38;5;241m.\u001b[39madd_gate(\u001b[38;5;124m\"\u001b[39m\u001b[38;5;124mRX\u001b[39m\u001b[38;5;124m\"\u001b[39m, targets\u001b[38;5;241m=\u001b[39m[\u001b[38;5;241m0\u001b[39m], arg_value\u001b[38;5;241m=\u001b[39mnorm_vector[\u001b[38;5;241m2\u001b[39m])\n",
      "\u001b[0;31mIndexError\u001b[0m: index 6 is out of bounds for axis 0 with size 6"
     ]
    }
   ],
   "source": [
    "kernel(X_train[0], X_train[0])"
   ]
  },
  {
   "cell_type": "code",
   "execution_count": null,
   "metadata": {},
   "outputs": [],
   "source": [
    "def kernel_matrix(A, B):\n",
    "    return np.array([[kernel(a, b) for b in B] for a in A])"
   ]
  },
  {
   "cell_type": "code",
   "execution_count": null,
   "metadata": {},
   "outputs": [],
   "source": [
    "best_svc = SVC(kernel=kernel_matrix).fit(X_train, y_train)"
   ]
  },
  {
   "cell_type": "code",
   "execution_count": null,
   "metadata": {},
   "outputs": [
    {
     "name": "stdout",
     "output_type": "stream",
     "text": [
      "[[ 0 12]\n",
      " [ 0 87]]\n",
      "              precision    recall  f1-score   support\n",
      "\n",
      "           0       1.00      0.00      0.00        12\n",
      "           1       0.88      1.00      0.94        87\n",
      "\n",
      "    accuracy                           0.88        99\n",
      "   macro avg       0.94      0.50      0.47        99\n",
      "weighted avg       0.89      0.88      0.82        99\n",
      "\n"
     ]
    },
    {
     "data": {
      "text/plain": [
       "0.8787878787878788"
      ]
     },
     "execution_count": 13,
     "metadata": {},
     "output_type": "execute_result"
    }
   ],
   "source": [
    "svc_pred = best_svc.predict(X_test)\n",
    "\n",
    "# Evaluate the model\n",
    "print(confusion_matrix(y_test, svc_pred))\n",
    "print(classification_report(y_test, svc_pred,zero_division=True))\n",
    "\n",
    "accuracy_score(y_test, svc_pred)"
   ]
  },
  {
   "cell_type": "code",
   "execution_count": null,
   "metadata": {},
   "outputs": [],
   "source": [
    "def circuit_evals_kernel(n_data, split):\n",
    "    \"\"\"Compute how many circuit evaluations one needs for kernel-based\n",
    "       training and prediction.\"\"\"\n",
    "\n",
    "    M = int(np.ceil(split * n_data))\n",
    "    Mpred = n_data - M\n",
    "\n",
    "    n_training = M * M\n",
    "    n_prediction = M * Mpred\n",
    "\n",
    "    return n_training + n_prediction"
   ]
  },
  {
   "cell_type": "code",
   "execution_count": null,
   "metadata": {},
   "outputs": [
    {
     "data": {
      "text/plain": [
       "60300"
      ]
     },
     "execution_count": 15,
     "metadata": {},
     "output_type": "execute_result"
    }
   ],
   "source": [
    "circuit_evals_kernel(n_data=len(X), split=len(X_train) / (len(X_train) + len(X_test)))"
   ]
  }
 ],
 "metadata": {
  "kernelspec": {
   "display_name": ".venv",
   "language": "python",
   "name": "python3"
  },
  "language_info": {
   "codemirror_mode": {
    "name": "ipython",
    "version": 3
   },
   "file_extension": ".py",
   "mimetype": "text/x-python",
   "name": "python",
   "nbconvert_exporter": "python",
   "pygments_lexer": "ipython3",
   "version": "3.10.12"
  }
 },
 "nbformat": 4,
 "nbformat_minor": 2
}

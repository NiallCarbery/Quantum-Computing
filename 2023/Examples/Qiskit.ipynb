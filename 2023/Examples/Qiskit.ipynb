{
  "cells": [
    {
      "cell_type": "markdown",
      "id": "21cQg-F3YKpp",
      "metadata": {
        "id": "21cQg-F3YKpp"
      },
      "source": [
        "# Install the qiskit package"
      ]
    },
    {
      "cell_type": "markdown",
      "id": "VU_J4v18YeKi",
      "metadata": {
        "id": "VU_J4v18YeKi"
      },
      "source": [
        "# Importing all modules"
      ]
    },
    {
      "cell_type": "code",
      "execution_count": 2,
      "id": "4UwquZrrLMXa",
      "metadata": {
        "id": "4UwquZrrLMXa"
      },
      "outputs": [
        {
          "ename": "ImportError",
          "evalue": "cannot import name 'QiskitWarning' from 'qiskit.exceptions' (/home/niall/.local/lib/python3.10/site-packages/qiskit/exceptions.py)",
          "output_type": "error",
          "traceback": [
            "\u001b[0;31m---------------------------------------------------------------------------\u001b[0m",
            "\u001b[0;31mImportError\u001b[0m                               Traceback (most recent call last)",
            "Cell \u001b[0;32mIn[2], line 4\u001b[0m\n\u001b[1;32m      2\u001b[0m \u001b[38;5;28;01mfrom\u001b[39;00m \u001b[38;5;21;01mqiskit\u001b[39;00m \u001b[38;5;28;01mimport\u001b[39;00m \u001b[38;5;241m*\u001b[39m\n\u001b[1;32m      3\u001b[0m \u001b[38;5;28;01mfrom\u001b[39;00m \u001b[38;5;21;01mqiskit\u001b[39;00m\u001b[38;5;21;01m.\u001b[39;00m\u001b[38;5;21;01mvisualization\u001b[39;00m \u001b[38;5;28;01mimport\u001b[39;00m plot_histogram\n\u001b[0;32m----> 4\u001b[0m \u001b[38;5;28;01mfrom\u001b[39;00m \u001b[38;5;21;01mqiskit_ibm_runtime\u001b[39;00m \u001b[38;5;28;01mimport\u001b[39;00m QiskitRuntimeService, Estimator, Sampler, Options\n\u001b[1;32m      5\u001b[0m \u001b[38;5;28;01mfrom\u001b[39;00m \u001b[38;5;21;01mqiskit_aer\u001b[39;00m\u001b[38;5;21;01m.\u001b[39;00m\u001b[38;5;21;01mnoise\u001b[39;00m \u001b[38;5;28;01mimport\u001b[39;00m NoiseModel\n\u001b[1;32m      7\u001b[0m \u001b[38;5;28;01mfrom\u001b[39;00m \u001b[38;5;21;01mqiskit\u001b[39;00m\u001b[38;5;21;01m.\u001b[39;00m\u001b[38;5;21;01mquantum_info\u001b[39;00m \u001b[38;5;28;01mimport\u001b[39;00m Statevector\n",
            "File \u001b[0;32m~/.local/lib/python3.10/site-packages/qiskit_ibm_runtime/__init__.py:164\u001b[0m\n\u001b[1;32m    161\u001b[0m \u001b[38;5;28;01mimport\u001b[39;00m \u001b[38;5;21;01mlogging\u001b[39;00m\n\u001b[1;32m    162\u001b[0m \u001b[38;5;28;01mimport\u001b[39;00m \u001b[38;5;21;01mwarnings\u001b[39;00m\n\u001b[0;32m--> 164\u001b[0m \u001b[38;5;28;01mfrom\u001b[39;00m \u001b[38;5;21;01m.\u001b[39;00m\u001b[38;5;21;01mqiskit_runtime_service\u001b[39;00m \u001b[38;5;28;01mimport\u001b[39;00m QiskitRuntimeService\n\u001b[1;32m    165\u001b[0m \u001b[38;5;28;01mfrom\u001b[39;00m \u001b[38;5;21;01m.\u001b[39;00m\u001b[38;5;21;01mibm_backend\u001b[39;00m \u001b[38;5;28;01mimport\u001b[39;00m IBMBackend\n\u001b[1;32m    166\u001b[0m \u001b[38;5;28;01mfrom\u001b[39;00m \u001b[38;5;21;01m.\u001b[39;00m\u001b[38;5;21;01mruntime_job\u001b[39;00m \u001b[38;5;28;01mimport\u001b[39;00m RuntimeJob\n",
            "File \u001b[0;32m~/.local/lib/python3.10/site-packages/qiskit_ibm_runtime/qiskit_runtime_service.py:32\u001b[0m\n\u001b[1;32m     26\u001b[0m \u001b[38;5;28;01mfrom\u001b[39;00m \u001b[38;5;21;01mqiskit\u001b[39;00m\u001b[38;5;21;01m.\u001b[39;00m\u001b[38;5;21;01mproviders\u001b[39;00m\u001b[38;5;21;01m.\u001b[39;00m\u001b[38;5;21;01mproviderutils\u001b[39;00m \u001b[38;5;28;01mimport\u001b[39;00m filter_backends\n\u001b[1;32m     27\u001b[0m \u001b[38;5;28;01mfrom\u001b[39;00m \u001b[38;5;21;01mqiskit\u001b[39;00m\u001b[38;5;21;01m.\u001b[39;00m\u001b[38;5;21;01mproviders\u001b[39;00m\u001b[38;5;21;01m.\u001b[39;00m\u001b[38;5;21;01mmodels\u001b[39;00m \u001b[38;5;28;01mimport\u001b[39;00m (\n\u001b[1;32m     28\u001b[0m     PulseBackendConfiguration,\n\u001b[1;32m     29\u001b[0m     QasmBackendConfiguration,\n\u001b[1;32m     30\u001b[0m )\n\u001b[0;32m---> 32\u001b[0m \u001b[38;5;28;01mfrom\u001b[39;00m \u001b[38;5;21;01mqiskit_ibm_runtime\u001b[39;00m \u001b[38;5;28;01mimport\u001b[39;00m ibm_backend\n\u001b[1;32m     33\u001b[0m \u001b[38;5;28;01mfrom\u001b[39;00m \u001b[38;5;21;01m.\u001b[39;00m\u001b[38;5;21;01mproxies\u001b[39;00m \u001b[38;5;28;01mimport\u001b[39;00m ProxyConfiguration\n\u001b[1;32m     34\u001b[0m \u001b[38;5;28;01mfrom\u001b[39;00m \u001b[38;5;21;01m.\u001b[39;00m\u001b[38;5;21;01mutils\u001b[39;00m\u001b[38;5;21;01m.\u001b[39;00m\u001b[38;5;21;01mhgp\u001b[39;00m \u001b[38;5;28;01mimport\u001b[39;00m to_instance_format, from_instance_format\n",
            "File \u001b[0;32m~/.local/lib/python3.10/site-packages/qiskit_ibm_runtime/ibm_backend.py:44\u001b[0m\n\u001b[1;32m     41\u001b[0m \u001b[38;5;28;01mfrom\u001b[39;00m \u001b[38;5;21;01mqiskit\u001b[39;00m\u001b[38;5;21;01m.\u001b[39;00m\u001b[38;5;21;01mtranspiler\u001b[39;00m\u001b[38;5;21;01m.\u001b[39;00m\u001b[38;5;21;01mtarget\u001b[39;00m \u001b[38;5;28;01mimport\u001b[39;00m Target\n\u001b[1;32m     43\u001b[0m \u001b[38;5;66;03m# temporary until we unite the 2 Session classes\u001b[39;00m\n\u001b[0;32m---> 44\u001b[0m \u001b[38;5;28;01mfrom\u001b[39;00m \u001b[38;5;21;01m.\u001b[39;00m\u001b[38;5;21;01mprovider_session\u001b[39;00m \u001b[38;5;28;01mimport\u001b[39;00m (\n\u001b[1;32m     45\u001b[0m     Session \u001b[38;5;28;01mas\u001b[39;00m ProviderSession,\n\u001b[1;32m     46\u001b[0m )\n\u001b[1;32m     48\u001b[0m \u001b[38;5;28;01mfrom\u001b[39;00m \u001b[38;5;21;01m.\u001b[39;00m\u001b[38;5;21;01mutils\u001b[39;00m\u001b[38;5;21;01m.\u001b[39;00m\u001b[38;5;21;01mutils\u001b[39;00m \u001b[38;5;28;01mimport\u001b[39;00m validate_job_tags\n\u001b[1;32m     49\u001b[0m \u001b[38;5;28;01mfrom\u001b[39;00m \u001b[38;5;21;01m.\u001b[39;00m \u001b[38;5;28;01mimport\u001b[39;00m qiskit_runtime_service  \u001b[38;5;66;03m# pylint: disable=unused-import,cyclic-import\u001b[39;00m\n",
            "File \u001b[0;32m~/.local/lib/python3.10/site-packages/qiskit_ibm_runtime/provider_session.py:19\u001b[0m\n\u001b[1;32m     16\u001b[0m \u001b[38;5;28;01mfrom\u001b[39;00m \u001b[38;5;21;01mtypes\u001b[39;00m \u001b[38;5;28;01mimport\u001b[39;00m TracebackType\n\u001b[1;32m     17\u001b[0m \u001b[38;5;28;01mfrom\u001b[39;00m \u001b[38;5;21;01mcontextvars\u001b[39;00m \u001b[38;5;28;01mimport\u001b[39;00m ContextVar\n\u001b[0;32m---> 19\u001b[0m \u001b[38;5;28;01mfrom\u001b[39;00m \u001b[38;5;21;01m.\u001b[39;00m\u001b[38;5;21;01mutils\u001b[39;00m\u001b[38;5;21;01m.\u001b[39;00m\u001b[38;5;21;01mconverters\u001b[39;00m \u001b[38;5;28;01mimport\u001b[39;00m hms_to_seconds\n\u001b[1;32m     22\u001b[0m \u001b[38;5;28;01mclass\u001b[39;00m \u001b[38;5;21;01mSession\u001b[39;00m:\n\u001b[1;32m     23\u001b[0m \u001b[38;5;250m    \u001b[39m\u001b[38;5;124;03m\"\"\"Class for creating a flexible Qiskit Runtime session.\u001b[39;00m\n\u001b[1;32m     24\u001b[0m \n\u001b[1;32m     25\u001b[0m \u001b[38;5;124;03m    A Qiskit Runtime ``session`` allows you to group a collection of iterative calls to\u001b[39;00m\n\u001b[0;32m   (...)\u001b[0m\n\u001b[1;32m     57\u001b[0m \n\u001b[1;32m     58\u001b[0m \u001b[38;5;124;03m    \"\"\"\u001b[39;00m\n",
            "File \u001b[0;32m~/.local/lib/python3.10/site-packages/qiskit_ibm_runtime/utils/__init__.py:46\u001b[0m\n\u001b[1;32m     38\u001b[0m \u001b[38;5;28;01mfrom\u001b[39;00m \u001b[38;5;21;01m.\u001b[39;00m\u001b[38;5;21;01mconverters\u001b[39;00m \u001b[38;5;28;01mimport\u001b[39;00m (\n\u001b[1;32m     39\u001b[0m     utc_to_local,\n\u001b[1;32m     40\u001b[0m     local_to_utc,\n\u001b[0;32m   (...)\u001b[0m\n\u001b[1;32m     43\u001b[0m     are_circuits_dynamic,\n\u001b[1;32m     44\u001b[0m )\n\u001b[1;32m     45\u001b[0m \u001b[38;5;28;01mfrom\u001b[39;00m \u001b[38;5;21;01m.\u001b[39;00m\u001b[38;5;21;01mutils\u001b[39;00m \u001b[38;5;28;01mimport\u001b[39;00m to_python_identifier, is_crn, get_runtime_api_base_url, resolve_crn\n\u001b[0;32m---> 46\u001b[0m \u001b[38;5;28;01mfrom\u001b[39;00m \u001b[38;5;21;01m.\u001b[39;00m\u001b[38;5;21;01mjson\u001b[39;00m \u001b[38;5;28;01mimport\u001b[39;00m RuntimeEncoder, RuntimeDecoder, to_base64_string\n\u001b[1;32m     47\u001b[0m \u001b[38;5;28;01mfrom\u001b[39;00m \u001b[38;5;21;01m.\u001b[39;00m \u001b[38;5;28;01mimport\u001b[39;00m pubsub\n",
            "File \u001b[0;32m~/.local/lib/python3.10/site-packages/qiskit_ibm_runtime/utils/json.py:59\u001b[0m\n\u001b[1;32m     57\u001b[0m \u001b[38;5;28;01mfrom\u001b[39;00m \u001b[38;5;21;01mqiskit\u001b[39;00m\u001b[38;5;21;01m.\u001b[39;00m\u001b[38;5;21;01mversion\u001b[39;00m \u001b[38;5;28;01mimport\u001b[39;00m __version__ \u001b[38;5;28;01mas\u001b[39;00m _terra_version_string\n\u001b[1;32m     58\u001b[0m \u001b[38;5;28;01mfrom\u001b[39;00m \u001b[38;5;21;01mqiskit\u001b[39;00m\u001b[38;5;21;01m.\u001b[39;00m\u001b[38;5;21;01mutils\u001b[39;00m \u001b[38;5;28;01mimport\u001b[39;00m optionals\n\u001b[0;32m---> 59\u001b[0m \u001b[38;5;28;01mfrom\u001b[39;00m \u001b[38;5;21;01mqiskit\u001b[39;00m\u001b[38;5;21;01m.\u001b[39;00m\u001b[38;5;21;01mqpy\u001b[39;00m \u001b[38;5;28;01mimport\u001b[39;00m (\n\u001b[1;32m     60\u001b[0m     _write_parameter_expression,\n\u001b[1;32m     61\u001b[0m     _read_parameter_expression,\n\u001b[1;32m     62\u001b[0m     _read_parameter_expression_v3,\n\u001b[1;32m     63\u001b[0m     load,\n\u001b[1;32m     64\u001b[0m     dump,\n\u001b[1;32m     65\u001b[0m )\n\u001b[1;32m     66\u001b[0m \u001b[38;5;28;01mfrom\u001b[39;00m \u001b[38;5;21;01mqiskit\u001b[39;00m\u001b[38;5;21;01m.\u001b[39;00m\u001b[38;5;21;01mprimitives\u001b[39;00m\u001b[38;5;21;01m.\u001b[39;00m\u001b[38;5;21;01mcontainers\u001b[39;00m\u001b[38;5;21;01m.\u001b[39;00m\u001b[38;5;21;01mestimator_pub\u001b[39;00m \u001b[38;5;28;01mimport\u001b[39;00m EstimatorPub\n\u001b[1;32m     67\u001b[0m \u001b[38;5;28;01mfrom\u001b[39;00m \u001b[38;5;21;01mqiskit\u001b[39;00m\u001b[38;5;21;01m.\u001b[39;00m\u001b[38;5;21;01mprimitives\u001b[39;00m\u001b[38;5;21;01m.\u001b[39;00m\u001b[38;5;21;01mcontainers\u001b[39;00m\u001b[38;5;21;01m.\u001b[39;00m\u001b[38;5;21;01msampler_pub\u001b[39;00m \u001b[38;5;28;01mimport\u001b[39;00m SamplerPub\n",
            "File \u001b[0;32m~/.local/lib/python3.10/site-packages/qiskit/qpy/__init__.py:1398\u001b[0m\n\u001b[1;32m      1\u001b[0m \u001b[38;5;66;03m# This code is part of Qiskit.\u001b[39;00m\n\u001b[1;32m      2\u001b[0m \u001b[38;5;66;03m#\u001b[39;00m\n\u001b[1;32m      3\u001b[0m \u001b[38;5;66;03m# (C) Copyright IBM 2021, 2022.\u001b[39;00m\n\u001b[0;32m   (...)\u001b[0m\n\u001b[1;32m     10\u001b[0m \u001b[38;5;66;03m# copyright notice, and modified files need to carry a notice indicating\u001b[39;00m\n\u001b[1;32m     11\u001b[0m \u001b[38;5;66;03m# that they have been altered from the originals.\u001b[39;00m\n\u001b[1;32m     13\u001b[0m \u001b[38;5;124;03m\"\"\"\u001b[39;00m\n\u001b[1;32m     14\u001b[0m \u001b[38;5;124;03m###########################################################\u001b[39;00m\n\u001b[1;32m     15\u001b[0m \u001b[38;5;124;03mQPY serialization (:mod:`qiskit.qpy`)\u001b[39;00m\n\u001b[0;32m   (...)\u001b[0m\n\u001b[1;32m   1395\u001b[0m \u001b[38;5;124;03m.. [#f3] https://docs.python.org/3/c-api/complex.html#c.Py_complex\u001b[39;00m\n\u001b[1;32m   1396\u001b[0m \u001b[38;5;124;03m\"\"\"\u001b[39;00m\n\u001b[0;32m-> 1398\u001b[0m \u001b[38;5;28;01mfrom\u001b[39;00m \u001b[38;5;21;01m.\u001b[39;00m\u001b[38;5;21;01mexceptions\u001b[39;00m \u001b[38;5;28;01mimport\u001b[39;00m QpyError, QPYLoadingDeprecatedFeatureWarning\n\u001b[1;32m   1399\u001b[0m \u001b[38;5;28;01mfrom\u001b[39;00m \u001b[38;5;21;01m.\u001b[39;00m\u001b[38;5;21;01minterface\u001b[39;00m \u001b[38;5;28;01mimport\u001b[39;00m dump, load\n\u001b[1;32m   1401\u001b[0m \u001b[38;5;66;03m# For backward compatibility. Provide, Runtime, Experiment call these private functions.\u001b[39;00m\n",
            "File \u001b[0;32m~/.local/lib/python3.10/site-packages/qiskit/qpy/exceptions.py:15\u001b[0m\n\u001b[1;32m      1\u001b[0m \u001b[38;5;66;03m# This code is part of Qiskit.\u001b[39;00m\n\u001b[1;32m      2\u001b[0m \u001b[38;5;66;03m#\u001b[39;00m\n\u001b[1;32m      3\u001b[0m \u001b[38;5;66;03m# (C) Copyright IBM 2022, 2023.\u001b[39;00m\n\u001b[0;32m   (...)\u001b[0m\n\u001b[1;32m     10\u001b[0m \u001b[38;5;66;03m# copyright notice, and modified files need to carry a notice indicating\u001b[39;00m\n\u001b[1;32m     11\u001b[0m \u001b[38;5;66;03m# that they have been altered from the originals.\u001b[39;00m\n\u001b[1;32m     13\u001b[0m \u001b[38;5;124;03m\"\"\"Exception for errors raised by the QPY module.\"\"\"\u001b[39;00m\n\u001b[0;32m---> 15\u001b[0m \u001b[38;5;28;01mfrom\u001b[39;00m \u001b[38;5;21;01mqiskit\u001b[39;00m\u001b[38;5;21;01m.\u001b[39;00m\u001b[38;5;21;01mexceptions\u001b[39;00m \u001b[38;5;28;01mimport\u001b[39;00m QiskitError, QiskitWarning\n\u001b[1;32m     18\u001b[0m \u001b[38;5;28;01mclass\u001b[39;00m \u001b[38;5;21;01mQpyError\u001b[39;00m(QiskitError):\n\u001b[1;32m     19\u001b[0m \u001b[38;5;250m    \u001b[39m\u001b[38;5;124;03m\"\"\"Errors raised by the qpy module.\"\"\"\u001b[39;00m\n",
            "\u001b[0;31mImportError\u001b[0m: cannot import name 'QiskitWarning' from 'qiskit.exceptions' (/home/niall/.local/lib/python3.10/site-packages/qiskit/exceptions.py)"
          ]
        }
      ],
      "source": [
        "import numpy as np\n",
        "from qiskit import *\n",
        "from qiskit.visualization import plot_histogram\n",
        "from qiskit_ibm_runtime import QiskitRuntimeService, Estimator, Sampler, Options\n",
        "from qiskit_aer.noise import NoiseModel\n",
        "\n",
        "from qiskit.quantum_info import Statevector\n",
        "\n",
        "from qiskit import IBMQ\n",
        "\n",
        "%matplotlib inline"
      ]
    },
    {
      "cell_type": "markdown",
      "id": "R9mekTDEYqrk",
      "metadata": {
        "id": "R9mekTDEYqrk"
      },
      "source": [
        "# Creating a simple Quantum Circuit\n",
        "\n",
        "There are two arguments:\n",
        "\n",
        "* the number of *quantum* bits\n",
        "* the number of *classical* bits"
      ]
    },
    {
      "cell_type": "code",
      "execution_count": null,
      "id": "f70d93e1-9e40-443a-8796-c59a232e438d",
      "metadata": {
        "id": "f70d93e1-9e40-443a-8796-c59a232e438d"
      },
      "outputs": [],
      "source": [
        "circ1 = QuantumCircuit(2, 2)"
      ]
    },
    {
      "cell_type": "markdown",
      "id": "7za-3HGZa3Rv",
      "metadata": {
        "id": "7za-3HGZa3Rv"
      },
      "source": [
        "If there is a single argument - it means the number of *quantum* bits"
      ]
    },
    {
      "cell_type": "code",
      "execution_count": null,
      "id": "iErKd1wdZSJ_",
      "metadata": {
        "id": "iErKd1wdZSJ_"
      },
      "outputs": [],
      "source": [
        "circ2 = QuantumCircuit(2)"
      ]
    },
    {
      "cell_type": "markdown",
      "id": "S9Ni1Co6bnbC",
      "metadata": {
        "id": "S9Ni1Co6bnbC"
      },
      "source": [
        "It is possible to add qubits to the circuit after it has been created:"
      ]
    },
    {
      "cell_type": "code",
      "execution_count": null,
      "id": "2cZGgioibfTM",
      "metadata": {
        "id": "2cZGgioibfTM"
      },
      "outputs": [],
      "source": [
        "#Create an empty circuit:\n",
        "circ3 = QuantumCircuit()\n",
        "#Create quantum registers:\n",
        "qr = QuantumRegister(3)\n",
        "#Create classical registers:\n",
        "cr = ClassicalRegister(3)\n",
        "#Appending registers to the circuit:\n",
        "circ3.add_bits(qr)\n",
        "circ3.add_bits(cr)"
      ]
    },
    {
      "cell_type": "markdown",
      "id": "iwCoFyGocjwe",
      "metadata": {
        "id": "iwCoFyGocjwe"
      },
      "source": [
        "# Applying quantum gates"
      ]
    },
    {
      "cell_type": "code",
      "execution_count": null,
      "id": "zB1cpZ-VcaO7",
      "metadata": {
        "id": "zB1cpZ-VcaO7"
      },
      "outputs": [],
      "source": [
        "#Apply the Hadamard gate to the 0-qubit:\n",
        "circ1.h(0)\n",
        "#Apply the X-gate to the 1-qubit:\n",
        "circ1.x(1)\n",
        "#Apply the CNOT gate to 1 controlled by 0:\n",
        "circ1.cx(0, 1)\n",
        "#Add the measurement:\n",
        "circ1.measure([0,1],[0,1]) # Another way to apply measurements for all qbits is *measure_all()* method"
      ]
    },
    {
      "cell_type": "markdown",
      "id": "rkDI4I1jdqAd",
      "metadata": {
        "id": "rkDI4I1jdqAd"
      },
      "source": [
        "Draw the circuit:"
      ]
    },
    {
      "cell_type": "code",
      "execution_count": null,
      "id": "k51FQS7ddSUL",
      "metadata": {
        "id": "k51FQS7ddSUL"
      },
      "outputs": [],
      "source": [
        "circ1.draw(\"mpl\")"
      ]
    },
    {
      "cell_type": "markdown",
      "id": "WNGRf6j4iN_H",
      "metadata": {
        "id": "WNGRf6j4iN_H"
      },
      "source": [
        "# Running your quantum circuit\n",
        "\n",
        "## QiskitRuntimeService for Cloud Simulator and Quantum Hardware (CLOUD)\n",
        "\n"
      ]
    },
    {
      "cell_type": "code",
      "execution_count": null,
      "id": "wczhIADWitT-",
      "metadata": {
        "id": "wczhIADWitT-"
      },
      "outputs": [],
      "source": [
        "# Local Simulator\n",
        "\n",
        "# Use Aer's qasm_simulator\n",
        "backend_qasm = Aer.get_backend('qasm_simulator')\n",
        "\n",
        "# Execute the circuit on the qasm simulator.\n",
        "# We've set the number of repeats of the circuit to be 1024, which is the default.\n",
        "num_shots    = 1024\n",
        "job_qasm     = backend_qasm.run(transpile(circ1, backend_qasm), shots=num_shots)\n",
        "\n",
        "# Grab the results from the job.\n",
        "result_sim   = job_qasm.result()\n",
        "counts       = result_sim.get_counts(circ1)\n",
        "for key in counts.keys():\n",
        "  print(\"P(\" + str(key) + \") = \" + str(counts[key]/num_shots))\n",
        "\n",
        "plot_histogram(counts)"
      ]
    },
    {
      "cell_type": "markdown",
      "id": "8bMlyndyeQCL",
      "metadata": {
        "id": "8bMlyndyeQCL"
      },
      "source": [
        "Applying token:"
      ]
    },
    {
      "cell_type": "code",
      "execution_count": null,
      "id": "6Ijf-JZOeOsJ",
      "metadata": {
        "id": "6Ijf-JZOeOsJ"
      },
      "outputs": [],
      "source": [
        "api_token = \"<YOUR API TOKEN>\"\n",
        "\n",
        "# Save an IBM Quantum account.\n",
        "QiskitRuntimeService.save_account(channel=\"ibm_quantum\", token=api_token, overwrite=True)\n",
        "service = QiskitRuntimeService()"
      ]
    },
    {
      "cell_type": "markdown",
      "id": "eW3RBlIjfI9l",
      "metadata": {
        "id": "eW3RBlIjfI9l"
      },
      "source": [
        "See all available backends:"
      ]
    },
    {
      "cell_type": "code",
      "execution_count": null,
      "id": "8jeEFfLKeLqY",
      "metadata": {
        "id": "8jeEFfLKeLqY"
      },
      "outputs": [],
      "source": [
        "# List all available backends\n",
        "all_backends = service.backends()\n",
        "print(all_backends)"
      ]
    },
    {
      "cell_type": "code",
      "execution_count": null,
      "id": "cAwIhCtClJ0a",
      "metadata": {
        "id": "cAwIhCtClJ0a"
      },
      "outputs": [],
      "source": [
        "# Filter available backends\n",
        "available_backends = service.backends(simulator=False, operational=True, min_num_qubits=5)\n",
        "print(available_backends)"
      ]
    },
    {
      "cell_type": "markdown",
      "id": "63F2qmb3gE-6",
      "metadata": {
        "id": "63F2qmb3gE-6"
      },
      "source": [
        "You also can see all available parameters of backends using **backend.configuration()** class:"
      ]
    },
    {
      "cell_type": "code",
      "execution_count": null,
      "id": "IR-xWIt2f9wV",
      "metadata": {
        "id": "IR-xWIt2f9wV"
      },
      "outputs": [],
      "source": [
        "# list of all available backends:\n",
        "for bend in available_backends:\n",
        "  # exclude all simulator providers:\n",
        "  if(not bend.configuration().simulator):\n",
        "    print(bend.name, bend.configuration().n_qubits, bend.configuration().basis_gates, bend.configuration().coupling_map)"
      ]
    },
    {
      "cell_type": "markdown",
      "id": "Vg1XGjnGg0UJ",
      "metadata": {
        "id": "Vg1XGjnGg0UJ"
      },
      "source": [
        "Chosing the backend:"
      ]
    },
    {
      "cell_type": "code",
      "execution_count": null,
      "id": "4T8U6hcDgYw5",
      "metadata": {
        "id": "4T8U6hcDgYw5"
      },
      "outputs": [],
      "source": [
        "# Choose a backend\n",
        "backend = service.backend('ibmq_qasm_simulator')"
      ]
    },
    {
      "cell_type": "markdown",
      "id": "m44LVcpxhRBw",
      "metadata": {
        "id": "m44LVcpxhRBw"
      },
      "source": [
        "Transpiling the circuit to the given backend (It is like the compiler in a classical pc):"
      ]
    },
    {
      "cell_type": "code",
      "execution_count": null,
      "id": "jYhawmYchHJw",
      "metadata": {
        "id": "jYhawmYchHJw"
      },
      "outputs": [],
      "source": [
        "transp_circ = transpile(circ1, backend)"
      ]
    },
    {
      "cell_type": "markdown",
      "id": "NRqLwugshkCe",
      "metadata": {
        "id": "NRqLwugshkCe"
      },
      "source": [
        "Draw the transpiled circuit:"
      ]
    },
    {
      "cell_type": "code",
      "execution_count": null,
      "id": "oJF7BXYEhh3w",
      "metadata": {
        "id": "oJF7BXYEhh3w"
      },
      "outputs": [],
      "source": [
        "transp_circ.draw(\"mpl\")"
      ]
    },
    {
      "cell_type": "markdown",
      "id": "308b1IvmiH3P",
      "metadata": {
        "id": "308b1IvmiH3P"
      },
      "source": [
        "# Running the Job on the Backend"
      ]
    },
    {
      "cell_type": "code",
      "execution_count": null,
      "id": "cRQipYpkhpcz",
      "metadata": {
        "id": "cRQipYpkhpcz"
      },
      "outputs": [],
      "source": [
        "# Run a job\n",
        "num_shots = 1024\n",
        "sampler = Sampler(backend=backend)\n",
        "job = sampler.run(circuits=circ1, shots=num_shots)\n",
        "\n",
        "# Extract results from job\n",
        "result_sim = job.result()"
      ]
    },
    {
      "cell_type": "markdown",
      "id": "2yJvCbRtfXWb",
      "metadata": {
        "id": "2yJvCbRtfXWb"
      },
      "source": [
        "An example of the wait times is shown below if using real hardware as backend:\n",
        "\n",
        "![Qiskit_Wait_Times.png](data:image/png;base64,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)"
      ]
    },
    {
      "cell_type": "code",
      "execution_count": null,
      "id": "Hgnrik93ikl7",
      "metadata": {
        "id": "Hgnrik93ikl7"
      },
      "outputs": [],
      "source": [
        "#Probabilities from results:\n",
        "prob_outputs = result_sim.quasi_dists[0].binary_probabilities()\n",
        "counts       = {key: value*num_shots for key,value in prob_outputs.items()}\n",
        "print(counts)"
      ]
    },
    {
      "cell_type": "markdown",
      "id": "GL7eGT5ylWj_",
      "metadata": {
        "id": "GL7eGT5ylWj_"
      },
      "source": [
        "# Qiskit Visualization"
      ]
    },
    {
      "cell_type": "code",
      "execution_count": null,
      "id": "vuZHBmW3jCbb",
      "metadata": {
        "id": "vuZHBmW3jCbb"
      },
      "outputs": [],
      "source": [
        "plot_histogram(prob_outputs)"
      ]
    },
    {
      "cell_type": "markdown",
      "id": "ju2--ATkoVqe",
      "metadata": {
        "id": "ju2--ATkoVqe"
      },
      "source": [
        "## Aer simulators (LOCAL)"
      ]
    },
    {
      "cell_type": "markdown",
      "id": "CvK0dZC9og8-",
      "metadata": {
        "id": "CvK0dZC9og8-"
      },
      "source": [
        "As a provider now we are using qiskit.Aer"
      ]
    },
    {
      "cell_type": "code",
      "execution_count": null,
      "id": "ZtIDI6u7lkSN",
      "metadata": {
        "id": "ZtIDI6u7lkSN"
      },
      "outputs": [],
      "source": [
        "for bend in Aer.backends():\n",
        "  print(bend.name)"
      ]
    },
    {
      "cell_type": "markdown",
      "id": "wC65q6khsR29",
      "metadata": {
        "id": "wC65q6khsR29"
      },
      "source": [
        "Chosing the simulation backend"
      ]
    },
    {
      "cell_type": "code",
      "execution_count": null,
      "id": "DFMxm_GPod-K",
      "metadata": {
        "id": "DFMxm_GPod-K"
      },
      "outputs": [],
      "source": [
        "sim_backend = Aer.get_backend(\"aer_simulator\")"
      ]
    },
    {
      "cell_type": "markdown",
      "id": "-HZsxN6usktv",
      "metadata": {
        "id": "-HZsxN6usktv"
      },
      "source": [
        "Then all steps are the same as for the IBM backend"
      ]
    },
    {
      "cell_type": "code",
      "execution_count": null,
      "id": "T3bWNFZQsiyl",
      "metadata": {
        "id": "T3bWNFZQsiyl"
      },
      "outputs": [],
      "source": [
        "sim_transp_circ = transpile(circ1, sim_backend)"
      ]
    },
    {
      "cell_type": "code",
      "execution_count": null,
      "id": "nQGmh-5bs_rD",
      "metadata": {
        "id": "nQGmh-5bs_rD"
      },
      "outputs": [],
      "source": [
        "sim_transp_circ.draw(\"mpl\")"
      ]
    },
    {
      "cell_type": "code",
      "execution_count": null,
      "id": "CfV8RU1OtCz6",
      "metadata": {
        "id": "CfV8RU1OtCz6"
      },
      "outputs": [],
      "source": [
        "sim_job = sim_backend.run(sim_transp_circ, shots = 5000)\n",
        "sim_result = sim_job.result()"
      ]
    },
    {
      "cell_type": "code",
      "execution_count": null,
      "id": "QzCimVdktP1d",
      "metadata": {
        "id": "QzCimVdktP1d"
      },
      "outputs": [],
      "source": [
        "#The number of counts per state:\n",
        "sim_counts = sim_result.get_counts(sim_transp_circ)"
      ]
    },
    {
      "cell_type": "code",
      "execution_count": null,
      "id": "lq1VKsDFuBUW",
      "metadata": {
        "id": "lq1VKsDFuBUW"
      },
      "outputs": [],
      "source": [
        "plot_histogram(sim_counts)"
      ]
    },
    {
      "cell_type": "code",
      "execution_count": null,
      "id": "2yHSd-rAuKKO",
      "metadata": {
        "id": "2yHSd-rAuKKO"
      },
      "outputs": [],
      "source": []
    }
  ],
  "metadata": {
    "colab": {
      "provenance": []
    },
    "kernelspec": {
      "display_name": "Python 3",
      "language": "python",
      "name": "python3"
    },
    "language_info": {
      "codemirror_mode": {
        "name": "ipython",
        "version": 3
      },
      "file_extension": ".py",
      "mimetype": "text/x-python",
      "name": "python",
      "nbconvert_exporter": "python",
      "pygments_lexer": "ipython3",
      "version": "3.10.12"
    }
  },
  "nbformat": 4,
  "nbformat_minor": 5
}

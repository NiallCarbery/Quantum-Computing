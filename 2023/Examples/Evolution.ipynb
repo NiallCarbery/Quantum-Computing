{
  "cells": [
    {
      "cell_type": "markdown",
      "metadata": {
        "id": "_vSQVgoXA4LC"
      },
      "source": [
        "# Example of evolution operator for the Lecture 4 (Introduction to QC)\n",
        "\n",
        "**Given:**\n",
        "\n",
        "Consider the initial state:\n",
        "$$\n",
        "\\left| \\psi_0 \\right\\rangle = \\left[ \\begin{matrix} 0\\\\1 \\end{matrix} \\right]\n",
        "$$\n",
        "The Hamiltonian of the system is:\n",
        "$$\n",
        "\\hat{H} = \\left[ \\begin{matrix} 0 & -i\\\\ i & 0 \\end{matrix} \\right]\n",
        "$$"
      ]
    },
    {
      "cell_type": "code",
      "execution_count": 1,
      "metadata": {
        "id": "Cul8nZXEBJ5L"
      },
      "outputs": [],
      "source": [
        "# Importing the libraries\n",
        "#numpy library for the actions with matrices\n",
        "import math\n",
        "import numpy as np\n",
        "#importing the matrix exponentiation function\n",
        "from scipy.linalg import expm\n",
        "from numpy.linalg import matrix_power\n",
        "#importing constants\n",
        "import scipy.constants as const\n",
        "#importing library for graphs\n",
        "import matplotlib.pyplot as plt\n",
        "%matplotlib inline"
      ]
    },
    {
      "cell_type": "code",
      "execution_count": 2,
      "metadata": {
        "colab": {
          "base_uri": "https://localhost:8080/"
        },
        "id": "On_d0YyW9YAh",
        "outputId": "6102ed3b-7c7f-461f-c169-e0a1489b9dc1"
      },
      "outputs": [
        {
          "name": "stdout",
          "output_type": "stream",
          "text": [
            "psi_0 = \n",
            "[[0]\n",
            " [1]]\n"
          ]
        }
      ],
      "source": [
        "# setting up the initial state\n",
        "psi_0 = np.array([[0],[1]])\n",
        "print(\"psi_0 = \\n\"+str(psi_0))"
      ]
    },
    {
      "cell_type": "markdown",
      "metadata": {
        "id": "2inBX5RhMtSU"
      },
      "source": [
        "$$\n",
        "\\psi_0 = \\left[ \\begin{matrix} 0\\\\1 \\end{matrix} \\right]\n",
        "$$"
      ]
    },
    {
      "cell_type": "code",
      "execution_count": 3,
      "metadata": {
        "colab": {
          "base_uri": "https://localhost:8080/"
        },
        "id": "W6UxTY1kDBuy",
        "outputId": "2c78d49e-08bd-4cbd-a6e0-d12e59fa8f4c"
      },
      "outputs": [
        {
          "name": "stdout",
          "output_type": "stream",
          "text": [
            "H = \n",
            "[[ 0.+0.j -0.-1.j]\n",
            " [ 0.+1.j  0.+0.j]]\n"
          ]
        }
      ],
      "source": [
        "# setting up the Hammiltonian\n",
        "H = np.array([[0,-1j],[1j,0]])\n",
        "print(\"H = \\n\"+str(H))"
      ]
    },
    {
      "cell_type": "markdown",
      "metadata": {
        "id": "f_wDWG5EMZn8"
      },
      "source": [
        "$$H = \\left[\\begin{matrix} 0 & -i \\\\ i & 0 \\end{matrix}\\right]$$"
      ]
    },
    {
      "cell_type": "markdown",
      "metadata": {
        "id": "NF9hX5gHDIFG"
      },
      "source": [
        "Let's check if the $\\hat{H}$ is Hermitian matrix:\n",
        "$$\n",
        "\\hat{H}^\\dagger = \\left(\\hat{H}^*\\right)^T = \\hat{H}\n",
        "$$"
      ]
    },
    {
      "cell_type": "code",
      "execution_count": 4,
      "metadata": {
        "colab": {
          "base_uri": "https://localhost:8080/"
        },
        "id": "LMPD2dKM9g6k",
        "outputId": "b445e790-c5a9-4f29-8b0e-f14cfe4956b5"
      },
      "outputs": [
        {
          "name": "stdout",
          "output_type": "stream",
          "text": [
            "Hdagger - H = \n",
            "[[ 0.-0.j  0.+0.j]\n",
            " [-0.+0.j  0.-0.j]]\n"
          ]
        }
      ],
      "source": [
        "Hdagger = np.transpose(np.conjugate(H))\n",
        "print(\"Hdagger - H = \\n\"+str(Hdagger - H))"
      ]
    },
    {
      "cell_type": "markdown",
      "metadata": {
        "id": "89_im1HPM-PE"
      },
      "source": [
        "$$\n",
        "H - H^{\\dagger} = \\left[ \\begin{matrix} 0 & 0\\\\ 0 & 0 \\end{matrix} \\right]\n",
        "$$"
      ]
    },
    {
      "cell_type": "code",
      "execution_count": 5,
      "metadata": {
        "colab": {
          "base_uri": "https://localhost:8080/"
        },
        "id": "WP_o7XmfymXE",
        "outputId": "adf775e9-571d-472c-d8ff-0e016a6bebf6"
      },
      "outputs": [
        {
          "name": "stdout",
          "output_type": "stream",
          "text": [
            "Power series formula:\n",
            "[[ 0.54027778 -0.84166667]\n",
            " [ 0.84166667  0.54027778]]\n",
            "The Scipy implementation:\n",
            "[[ 0.54030231 -0.84147098]\n",
            " [ 0.84147098  0.54030231]]\n"
          ]
        }
      ],
      "source": [
        "# Building the power series formula\n",
        "# Defining the matrix\n",
        "A = np.array([[0, -1],[1, 0]])\n",
        "\n",
        "\n",
        "a0 = matrix_power(A, 0)\n",
        "#print(a0)\n",
        "a1 = matrix_power(A, 1)\n",
        "#print(a1)\n",
        "a2 = matrix_power(A, 2)/math.factorial(2)\n",
        "#print(a2)\n",
        "a3 = matrix_power(A, 3)/math.factorial(3)\n",
        "#print(a3)\n",
        "a4 = matrix_power(A, 4)/math.factorial(4)\n",
        "#print(a4)\n",
        "a5 = matrix_power(A, 5)/math.factorial(5)\n",
        "#print(a5)\n",
        "a6 = matrix_power(A, 6)/math.factorial(6)\n",
        "#print(a6)\n",
        "a = a0 + a1 + a2 + a3 + a4 + a5 + a6\n",
        "\n",
        "print(\"Power series formula:\")\n",
        "print(a)\n",
        "print(\"The Scipy implementation:\")\n",
        "print(expm(A))"
      ]
    },
    {
      "cell_type": "code",
      "execution_count": 6,
      "metadata": {
        "colab": {
          "base_uri": "https://localhost:8080/"
        },
        "id": "iyAPh1JWVoIX",
        "outputId": "1d5737e6-a991-4bc5-dca2-0d546a791e87"
      },
      "outputs": [
        {
          "name": "stdout",
          "output_type": "stream",
          "text": [
            "The implementation:\n"
          ]
        },
        {
          "ename": "NameError",
          "evalue": "name 'U' is not defined",
          "output_type": "error",
          "traceback": [
            "\u001b[0;31m---------------------------------------------------------------------------\u001b[0m",
            "\u001b[0;31mNameError\u001b[0m                                 Traceback (most recent call last)",
            "Cell \u001b[0;32mIn[6], line 7\u001b[0m\n\u001b[1;32m      4\u001b[0m Ham_phi \u001b[38;5;241m=\u001b[39m np\u001b[38;5;241m.\u001b[39marray([[\u001b[38;5;241m3.8\u001b[39m\u001b[38;5;241m*\u001b[39m\u001b[38;5;241m1.6\u001b[39m\u001b[38;5;241m*\u001b[39m\u001b[38;5;241m1e-19\u001b[39m, \u001b[38;5;241m-\u001b[39m\u001b[38;5;241m2.2\u001b[39m\u001b[38;5;241m*\u001b[39m\u001b[38;5;241m1.6\u001b[39m\u001b[38;5;241m*\u001b[39m\u001b[38;5;241m1e-19\u001b[39m],[\u001b[38;5;241m-\u001b[39m\u001b[38;5;241m2.2\u001b[39m\u001b[38;5;241m*\u001b[39m\u001b[38;5;241m1.6\u001b[39m\u001b[38;5;241m*\u001b[39m\u001b[38;5;241m1e-19\u001b[39m, \u001b[38;5;241m3.8\u001b[39m\u001b[38;5;241m*\u001b[39m\u001b[38;5;241m1.6\u001b[39m\u001b[38;5;241m*\u001b[39m\u001b[38;5;241m1e-19\u001b[39m]])\n\u001b[1;32m      6\u001b[0m \u001b[38;5;28mprint\u001b[39m(\u001b[38;5;124m\"\u001b[39m\u001b[38;5;124mThe implementation:\u001b[39m\u001b[38;5;124m\"\u001b[39m)\n\u001b[0;32m----> 7\u001b[0m \u001b[38;5;28mprint\u001b[39m(expm((\u001b[38;5;241m-\u001b[39m\u001b[38;5;241m1\u001b[39mj\u001b[38;5;241m*\u001b[39m\u001b[43mU\u001b[49m\u001b[38;5;241m*\u001b[39m\u001b[38;5;241m1e-15\u001b[39m)\u001b[38;5;241m/\u001b[39m(const\u001b[38;5;241m.\u001b[39mhbar)))\n",
            "\u001b[0;31mNameError\u001b[0m: name 'U' is not defined"
          ]
        }
      ],
      "source": [
        "# Question 3 in Tutorial Handout - Defining Hamiltonian and Matrix Exponential\n",
        "# Building the power series formula\n",
        "# Defining the matrix\n",
        "Ham_phi = np.array([[3.8*1.6*1e-19, -2.2*1.6*1e-19],[-2.2*1.6*1e-19, 3.8*1.6*1e-19]])\n",
        "\n",
        "print(\"The implementation:\")\n",
        "print(expm((-1j*U*1e-15)/(const.hbar)))"
      ]
    },
    {
      "cell_type": "markdown",
      "metadata": {
        "id": "6vgHlj0jNlPi"
      },
      "source": [
        "$$\n",
        "\\exp \\left[ \\begin{matrix} 0 & -1\\\\ 1 & 0 \\end{matrix} \\right] \\approx \\left[ \\begin{matrix} 1 & 0\\\\ 0 & 1 \\end{matrix} \\right] + \\left[ \\begin{matrix} 0 & -1\\\\ 1 & 0 \\end{matrix} \\right] + \\frac{1}{2!}\\left[ \\begin{matrix} 0 & -1\\\\ 1 & 0 \\end{matrix} \\right]^2 + \\frac{1}{3!}\\left[ \\begin{matrix} 0 & -1\\\\ 1 & 0 \\end{matrix} \\right]^3 + \\frac{1}{4!}\\left[ \\begin{matrix} 0 & -1\\\\ 1 & 0 \\end{matrix} \\right]^4+ \\frac{1}{5!}\\left[ \\begin{matrix} 0 & -1\\\\ 1 & 0 \\end{matrix} \\right]^5+ \\frac{1}{6!}\\left[ \\begin{matrix} 0 & -1\\\\ 1 & 0 \\end{matrix} \\right]^6\n",
        "$$"
      ]
    },
    {
      "cell_type": "markdown",
      "metadata": {
        "id": "JX-RwRvLEU3g"
      },
      "source": [
        "## Task 1. Define the Evolution operator\n",
        "\n",
        "Assuming that $\\hbar = 1$ we can build the evolution operator as:\n",
        "$$\n",
        "\\hat{U} = \\exp \\left[ -it \\hat{H}  \\right]\n",
        "$$"
      ]
    },
    {
      "cell_type": "code",
      "execution_count": null,
      "metadata": {
        "id": "6avqYfHN9xaW"
      },
      "outputs": [],
      "source": [
        "# Function of the evolution operator:\n",
        "def Evolution(Hmatrix,t):\n",
        "  return( expm(-1j*t*Hmatrix) )"
      ]
    },
    {
      "cell_type": "markdown",
      "metadata": {
        "id": "yZ3AcVrDGNei"
      },
      "source": [
        "Checking if $\\hat{U}$ is **unitary**:\n",
        "$$\n",
        "\\hat{U} \\hat{U}^\\dagger = I\n",
        "$$\n",
        "assume that $t = 1$"
      ]
    },
    {
      "cell_type": "code",
      "execution_count": null,
      "metadata": {
        "colab": {
          "base_uri": "https://localhost:8080/"
        },
        "id": "qfvarhqg-C8W",
        "outputId": "bb20e9f6-9b78-4cb9-a3c6-fac2c013dfb6"
      },
      "outputs": [
        {
          "name": "stdout",
          "output_type": "stream",
          "text": [
            "[[ 0.00000000e+00+0.j  1.16841633e-16+0.j]\n",
            " [ 1.16841633e-16+0.j -1.11022302e-16+0.j]]\n"
          ]
        }
      ],
      "source": [
        "# Checking if the evolution operator is unitary\n",
        "print(np.matmul(Evolution(H,1),np.transpose(np.conjugate(Evolution(H,1)))) - np.identity(2))"
      ]
    },
    {
      "cell_type": "markdown",
      "metadata": {
        "id": "6ppb6NDIHAmH"
      },
      "source": [
        "## Task 2. Calculating how the initial state is changing with time.\n",
        "$$\n",
        "\\left| \\psi(t) \\right\\rangle = \\hat{U}\\left| \\psi_0 \\right\\rangle\n",
        "$$"
      ]
    },
    {
      "cell_type": "code",
      "execution_count": null,
      "metadata": {
        "id": "8qL4JeVV-iBX"
      },
      "outputs": [],
      "source": [
        "t = np.linspace(0,6,50)\n",
        "psi = []\n",
        "for tt in t:\n",
        "    psi.append(np.matmul(Evolution(H,tt),psi_0))\n",
        "psi = np.array(psi)"
      ]
    },
    {
      "cell_type": "code",
      "execution_count": null,
      "metadata": {
        "colab": {
          "base_uri": "https://localhost:8080/",
          "height": 279
        },
        "id": "hQzyHjVaJAUP",
        "outputId": "bbe64eaa-d0e7-4ce8-861f-9db26ea5b55c"
      },
      "outputs": [
        {
          "data": {
            "image/png": "[encoded data removed]",
            "text/plain": [
              "<Figure size 432x288 with 1 Axes>"
            ]
          },
          "metadata": {
            "needs_background": "light"
          },
          "output_type": "display_data"
        }
      ],
      "source": [
        "# Indexing into the 0 entry and the 1 entry for the state vector Psi\n",
        "plt.plot(t, np.real(psi[:,0]), label = \"Re $|\\\\psi\\\\rangle[0]$\")\n",
        "plt.plot(t, np.imag(psi[:,0]), label = \"Im $|\\\\psi\\\\rangle[0]$\")\n",
        "plt.plot(t, np.real(psi[:,1]), label = \"Re $|\\\\psi\\\\rangle[1]$\")\n",
        "plt.plot(t, np.imag(psi[:,1]), label = \"Im $|\\\\psi\\\\rangle[1]$\")\n",
        "plt.legend()\n",
        "plt.xlabel(\"t\")\n",
        "plt.ylabel(\"$\\\\psi$\")\n",
        "plt.show()"
      ]
    },
    {
      "cell_type": "code",
      "execution_count": null,
      "metadata": {
        "colab": {
          "base_uri": "https://localhost:8080/",
          "height": 279
        },
        "id": "7sqA2iqpKsu3",
        "outputId": "713d0d3d-1249-437e-ee42-8a0c7bb866b1"
      },
      "outputs": [
        {
          "data": {
            "image/png": "[encoded data removed]",
            "text/plain": [
              "<Figure size 432x288 with 1 Axes>"
            ]
          },
          "metadata": {
            "needs_background": "light"
          },
          "output_type": "display_data"
        }
      ],
      "source": [
        "plt.plot(t, np.abs(psi[:,0])**2, label = \"$P_0$\")\n",
        "plt.plot(t, np.abs(psi[:,1])**2, label = \"$P_1$\")\n",
        "plt.legend()\n",
        "plt.xlabel(\"t\")\n",
        "plt.ylabel(\"Probability\")\n",
        "plt.show()"
      ]
    },
    {
      "cell_type": "code",
      "execution_count": null,
      "metadata": {
        "id": "CAZD11jrL2Bd"
      },
      "outputs": [],
      "source": []
    }
  ],
  "metadata": {
    "colab": {
      "provenance": []
    },
    "kernelspec": {
      "display_name": "Python 3",
      "name": "python3"
    },
    "language_info": {
      "codemirror_mode": {
        "name": "ipython",
        "version": 3
      },
      "file_extension": ".py",
      "mimetype": "text/x-python",
      "name": "python",
      "nbconvert_exporter": "python",
      "pygments_lexer": "ipython3",
      "version": "3.10.12"
    }
  },
  "nbformat": 4,
  "nbformat_minor": 0
}

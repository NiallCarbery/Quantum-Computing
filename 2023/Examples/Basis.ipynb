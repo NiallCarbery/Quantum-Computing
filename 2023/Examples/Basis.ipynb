{
  "cells": [
    {
      "cell_type": "code",
      "execution_count": 1,
      "metadata": {
        "id": "p2ZBwItH8cq8"
      },
      "outputs": [],
      "source": [
        "#The numpy library\n",
        "import numpy as np\n"
      ]
    },
    {
      "cell_type": "markdown",
      "metadata": {
        "id": "QL6MfTTBV4HG"
      },
      "source": [
        "### Problem 1\n",
        "\n",
        "Given the two vectors in a Hilbert space:\n",
        "$$\n",
        "|a\\rangle = \\left[ \\begin{matrix} 0\\\\1/\\sqrt{2}\\\\0\\\\-1/\\sqrt{2} \\end{matrix} \\right] \\qquad |b\\rangle = \\left[ \\begin{matrix} \\sqrt{3/5} \\\\\\sqrt{1/5}\\\\0\\\\i\\sqrt{1/5} \\end{matrix} \\right]\n",
        "$$\n",
        "\n",
        "* Check if the given states are normalized.\n",
        "\n"
      ]
    },
    {
      "cell_type": "code",
      "execution_count": 2,
      "metadata": {
        "colab": {
          "base_uri": "https://localhost:8080/"
        },
        "id": "G7jLUPHT4Gcu",
        "outputId": "27e39f6e-41f2-4f2b-c20f-e74cddf9d7e5"
      },
      "outputs": [
        {
          "name": "stdout",
          "output_type": "stream",
          "text": [
            "The the vector a =  \n",
            "  [[ 0.  ]\n",
            " [ 0.71]\n",
            " [ 0.  ]\n",
            " [-0.71]] \n",
            "\n",
            "The norm of the vector a = 1.00 \n",
            "\n",
            "The the vector b =  \n",
            "  [[0.77+0.j  ]\n",
            " [0.45+0.j  ]\n",
            " [0.  +0.j  ]\n",
            " [0.  +0.45j]] \n",
            "\n",
            "The norm of the vector b = 1.00 \n",
            "\n"
          ]
        }
      ],
      "source": [
        "# Let us create the two vectors by simply listing their components:\n",
        "\n",
        "a = np.array([[0, 1/np.sqrt(2), 0, -1/np.sqrt(2)]]).T\n",
        "\n",
        "b = np.array([[np.sqrt(3/5), np.sqrt(1/5), 0, 1j*np.sqrt(1/5)]]).T\n",
        "\n",
        "with np.printoptions(precision=3, suppress=True):\n",
        "  print(\"The the vector a =  \\n \", np.round(a,2), \"\\n\")\n",
        "  print(\"The norm of the vector a = %.2f\"%np.linalg.norm(a), \"\\n\")\n",
        "  print(\"The the vector b =  \\n \", np.round(b,2), \"\\n\")\n",
        "  print(\"The norm of the vector b = %.2f\"%np.linalg.norm(b), \"\\n\")\n",
        "\n",
        "# Note the following commands:\n",
        "# np.array(<list of components>) creates an array (line)\n",
        "# np.array(<list of components >).T creates a transposed array (vector)\n",
        "# round (a, 2)\n",
        "# np.round (a, 2) leaves only two significant digits\n",
        "# np.linalg.norm(array) calcualted the Euclidean norm of the vector"
      ]
    },
    {
      "cell_type": "markdown",
      "metadata": {
        "id": "yvTDb5M9geJJ"
      },
      "source": [
        "\n",
        "* Decompose the vectors into the $|00\\rangle$, $|01\\rangle$, $|10\\rangle$ and $|11\\rangle$ basis.\n"
      ]
    },
    {
      "cell_type": "code",
      "execution_count": 3,
      "metadata": {
        "colab": {
          "base_uri": "https://localhost:8080/"
        },
        "id": "49CQbtMNa3wN",
        "outputId": "29049b49-6efd-473d-e4fe-6734081c0d96"
      },
      "outputs": [
        {
          "name": "stdout",
          "output_type": "stream",
          "text": [
            "Basis in the four dimensional space\n",
            "State a = 0 and b = 0  is a basis vector  $\\lange 00 \\rangle$ \n",
            " [[1]\n",
            " [0]\n",
            " [0]\n",
            " [0]]\n",
            "State a = 0 and b = 1  is a basis vector  $\\lange 01 \\rangle$ \n",
            " [[0]\n",
            " [1]\n",
            " [0]\n",
            " [0]]\n",
            "State a = 1 and b = 0  is a basis vector  $\\lange 10 \\rangle$ \n",
            " [[0]\n",
            " [0]\n",
            " [1]\n",
            " [0]]\n",
            "State a = 1 and b = 1  is a basis vector  $\\lange 11 \\rangle$ \n",
            " [[0]\n",
            " [0]\n",
            " [0]\n",
            " [1]]\n",
            "Projection and decomposition of the vector a on to the basis\n",
            "Projection of the vector a onto the state 00:  0.0\n",
            "Projection of the vector a onto the state 01:  [[0.707]]\n",
            "Projection of the vector a onto the state 10:  [[0.]]\n",
            "Projection of the vector a onto the state 11:  [[-0.707]]\n",
            "\n",
            "Projection and decomposition of the vector b on to the basis\n",
            "Projection of the vector b onto the state 00:  [[0.775+0.j]]\n",
            "Projection of the vector b onto the state 01:  [[0.447+0.j]]\n",
            "Projection of the vector b onto the state 10:  [[0.+0.j]]\n",
            "Projection of the vector b onto the state 11:  [[0.+0.447j]]\n"
          ]
        }
      ],
      "source": [
        "state0a = np.array([[1,0]]).T\n",
        "state1a = np.array([[0,1]]).T\n",
        "state0b = np.array([[1,0]]).T\n",
        "state1b = np.array([[0,1]]).T\n",
        "\n",
        "state0a0b = np.kron(state0a, state0b)\n",
        "state0a1b = np.kron(state0a, state1b)\n",
        "state1a0b = np.kron(state1a, state0b)\n",
        "state1a1b = np.kron(state1a, state1b)\n",
        "\n",
        "with np.printoptions(precision=3, suppress=True):\n",
        "  print(\"Basis in the four dimensional space\")\n",
        "  print(\"State a = 0 and b = 0  is a basis vector  $\\\\lange 00 \\\\rangle$ \\n\", state0a0b)\n",
        "  print(\"State a = 0 and b = 1  is a basis vector  $\\\\lange 01 \\\\rangle$ \\n\", state0a1b)\n",
        "  print(\"State a = 1 and b = 0  is a basis vector  $\\\\lange 10 \\\\rangle$ \\n\", state1a0b)\n",
        "  print(\"State a = 1 and b = 1  is a basis vector  $\\\\lange 11 \\\\rangle$ \\n\", state1a1b)\n",
        "\n",
        "  # Projection and decomposition:\n",
        "\n",
        "  print(\"Projection and decomposition of the vector a on to the basis\")\n",
        "  print (\"Projection of the vector a onto the state 00: \", (np.transpose(a) @ state0a0b) [0][0] )\n",
        "  print (\"Projection of the vector a onto the state 01: \", np.transpose(a) @ state0a1b )\n",
        "  print (\"Projection of the vector a onto the state 10: \", np.transpose(a) @ state1a0b )\n",
        "  print (\"Projection of the vector a onto the state 11: \", np.transpose(a) @ state1a1b )\n",
        "\n",
        "  print(\"\\nProjection and decomposition of the vector b on to the basis\")\n",
        "  print (\"Projection of the vector b onto the state 00: \", np.transpose(b) @ state0a0b )\n",
        "  print (\"Projection of the vector b onto the state 01: \", np.transpose(b) @ state0a1b )\n",
        "  print (\"Projection of the vector b onto the state 10: \", np.transpose(b) @ state1a0b )\n",
        "  print (\"Projection of the vector b onto the state 11: \", np.transpose(b) @ state1a1b )\n",
        "\n",
        "\n",
        "#x = np.transpose(a) @ state0a0b\n",
        "#print(x[0][0])\n"
      ]
    },
    {
      "cell_type": "markdown",
      "metadata": {
        "id": "aMa1sd5yK1Lb"
      },
      "source": [
        "* One measures the system in a state $|a\\rangle$. What is the probability that the first bit in the measurement eqauls $1$?\n",
        "\n",
        "* One measures the system in a state $|b\\rangle$. Whar is the probability that the first bit in the measurement equals $0$?"
      ]
    },
    {
      "cell_type": "code",
      "execution_count": 4,
      "metadata": {
        "colab": {
          "base_uri": "https://localhost:8080/"
        },
        "id": "R8o9BYqkj_fO",
        "outputId": "b4043123-ab0f-406d-ac1a-1cc6a90cadef"
      },
      "outputs": [
        {
          "name": "stdout",
          "output_type": "stream",
          "text": [
            "Probability that the first qubit is measured as 1:  0.7071067811865475\n",
            "Probability that the first qubit is measured as 1:  (0.8944271909999159+0j)\n"
          ]
        }
      ],
      "source": [
        "# Two components of the state vector 10 and 11 contain the outcome that the first qubit is 1:\n",
        "# |10> when a = 1 and b = 0 and |10> when a = 1 and b = 1\n",
        "# Hence the probability is the projection of the vector a onto the state 10 squared\n",
        "# plus the projection of the vector a onto the state 11 squared, square root\n",
        "\n",
        "with np.printoptions(precision=3, suppress=True):\n",
        "  Prob_a1 = np.sqrt((np.transpose(a) @ state1a0b)[0][0]**2 + (np.transpose(a) @ state1a1b)[0][0]**2 )\n",
        "\n",
        "  print(\"Probability that the first qubit is measured as 1: \", Prob_a1)\n",
        "\n",
        "  Prob_b0 = np.sqrt((np.transpose(b) @ state0a0b)[0][0]**2 + (np.transpose(b) @ state0a1b)[0][0]**2 )\n",
        "\n",
        "  print(\"Probability that the first qubit is measured as 1: \", Prob_b0)"
      ]
    },
    {
      "cell_type": "markdown",
      "metadata": {
        "id": "ZiP6vPTxPfBD"
      },
      "source": [
        "* We want to build a new quantum state as a superposition. Is the state  $|c\\rangle = 3|a\\rangle-2|b\\rangle$ allowed?  \n",
        "\n",
        "* What should one do to make this state a proper superposition state?"
      ]
    },
    {
      "cell_type": "code",
      "execution_count": 5,
      "metadata": {
        "colab": {
          "base_uri": "https://localhost:8080/"
        },
        "id": "bLdRXrWfKQIg",
        "outputId": "61429790-a3ae-41a6-ee60-4ea681a9f0f9"
      },
      "outputs": [
        {
          "name": "stdout",
          "output_type": "stream",
          "text": [
            "|c> = \n",
            " [[-1.549+0.j   ]\n",
            " [ 1.227+0.j   ]\n",
            " [ 0.   +0.j   ]\n",
            " [-2.121-0.894j]]\n",
            "The norm of c = 3.03\n",
            "The normalized |c> = \n",
            " [[-0.511+0.j   ]\n",
            " [ 0.404+0.j   ]\n",
            " [ 0.   +0.j   ]\n",
            " [-0.699-0.295j]]\n"
          ]
        }
      ],
      "source": [
        "with np.printoptions(precision=3, suppress=True):\n",
        "  # Let us build the superposition vector c:\n",
        "  c = 3*a - 2*b\n",
        "  print(\"|c> = \\n\",c)\n",
        "\n",
        "  # Check the norm ofthe vector c:\n",
        "  print(\"The norm of c = %.2f\"%np.linalg.norm(c))\n",
        "\n",
        "  # To get a valid quantum state, we normalise the vector c:\n",
        "  c = c/np.linalg.norm(c)\n",
        "  print(\"The normalized |c> = \\n\",c)\n"
      ]
    },
    {
      "cell_type": "markdown",
      "metadata": {
        "id": "fccDRqRKSPfg"
      },
      "source": [
        "* Calculate the projection of the vector b onto the vector l $\\langle b|a \\rangle$."
      ]
    },
    {
      "cell_type": "code",
      "execution_count": 6,
      "metadata": {
        "colab": {
          "base_uri": "https://localhost:8080/"
        },
        "id": "QU6-hGEzRURx",
        "outputId": "a8780142-c4a9-4f8e-a650-433050d5fcac"
      },
      "outputs": [
        {
          "name": "stdout",
          "output_type": "stream",
          "text": [
            "<b|a> = 0.32 + i0.32\n"
          ]
        },
        {
          "name": "stderr",
          "output_type": "stream",
          "text": [
            "/tmp/ipykernel_81224/2901170411.py:2: DeprecationWarning: Conversion of an array with ndim > 0 to a scalar is deprecated, and will error in future. Ensure you extract a single element from your array before performing this operation. (Deprecated NumPy 1.25.)\n",
            "  print(\"<b|a> = %.2f + i%.2f\"%(np.real(ba), np.imag(ba)))\n"
          ]
        }
      ],
      "source": [
        "ba = np.dot(np.conjugate(b.T),a)\n",
        "print(\"<b|a> = %.2f + i%.2f\"%(np.real(ba), np.imag(ba)))"
      ]
    },
    {
      "cell_type": "code",
      "execution_count": null,
      "metadata": {
        "id": "zRS9AHgJn7Xq"
      },
      "outputs": [],
      "source": []
    },
    {
      "cell_type": "markdown",
      "metadata": {
        "id": "XBW0mgQJUSw2"
      },
      "source": [
        "* Calculate the transformation $|a\\rangle \\otimes \\langle b|$:"
      ]
    },
    {
      "cell_type": "code",
      "execution_count": 7,
      "metadata": {
        "colab": {
          "base_uri": "https://localhost:8080/"
        },
        "id": "FQ-KkVVeUCiv",
        "outputId": "ba334efd-5eaa-4de1-9cc1-e85fa31b8561"
      },
      "outputs": [
        {
          "name": "stdout",
          "output_type": "stream",
          "text": [
            "|a> <b| = \n",
            " [[ 0.   +0.j     0.   +0.j     0.   +0.j     0.   +0.j   ]\n",
            " [ 0.548+0.j     0.316+0.j     0.   +0.j     0.   -0.316j]\n",
            " [ 0.   +0.j     0.   +0.j     0.   +0.j     0.   +0.j   ]\n",
            " [-0.548+0.j    -0.316+0.j     0.   +0.j     0.   +0.316j]]\n"
          ]
        }
      ],
      "source": [
        "ab = np.kron(a,np.conjugate(b.T))\n",
        "with np.printoptions(precision=3, suppress=True):\n",
        "  print(\"|a> <b| = \\n\",ab)"
      ]
    },
    {
      "cell_type": "markdown",
      "metadata": {
        "id": "OJAWqGHpX3qr"
      },
      "source": [
        "* Assuming the Hamiltonian:\n",
        "$$\n",
        "H = \\left[\\begin{matrix}\n",
        "1 & 0 & 0 & 0 \\\\\n",
        "0 & 1 & 0 & 0 \\\\\n",
        "0 & 0 & 0 & i \\\\\n",
        "0 & 0 & -i& 0\n",
        "\\end{matrix}\\right]\n",
        "$$\n",
        "Calculate the average value: $\\langle a|H|a\\rangle$"
      ]
    },
    {
      "cell_type": "code",
      "execution_count": 8,
      "metadata": {
        "id": "OtwM4V-1WalV"
      },
      "outputs": [],
      "source": [
        "H = np.array([[1, 0, 0, 0], [0, 1, 0, 0], [0, 0, 0, 1j], [0, 0, -1j, 0]])\n",
        "aHa = np.matmul(np.conjugate(a.T),np.matmul(H, a))"
      ]
    },
    {
      "cell_type": "code",
      "execution_count": 9,
      "metadata": {
        "colab": {
          "base_uri": "https://localhost:8080/"
        },
        "id": "tkzrlvvXau3w",
        "outputId": "1e774ab9-2f03-4b88-fb1a-d3e15d0a54a5"
      },
      "outputs": [
        {
          "name": "stdout",
          "output_type": "stream",
          "text": [
            "<a|H|a> = 0.50 + i0.00\n"
          ]
        },
        {
          "name": "stderr",
          "output_type": "stream",
          "text": [
            "/tmp/ipykernel_81224/562401028.py:1: DeprecationWarning: Conversion of an array with ndim > 0 to a scalar is deprecated, and will error in future. Ensure you extract a single element from your array before performing this operation. (Deprecated NumPy 1.25.)\n",
            "  print(\"<a|H|a> = %.2f + i%.2f\"%(np.real(aHa), np.imag(aHa)))\n"
          ]
        }
      ],
      "source": [
        "print(\"<a|H|a> = %.2f + i%.2f\"%(np.real(aHa), np.imag(aHa)))"
      ]
    },
    {
      "cell_type": "markdown",
      "metadata": {
        "id": "AzgtZ8ftbQvu"
      },
      "source": [
        "### Problem 2\n",
        "\n",
        "Given operator $H$:\n",
        "$$\n",
        "H = \\left[\\begin{matrix}\n",
        "1 & 0 & 0 & 0 \\\\\n",
        "0 & 1 & 0 & 0 \\\\\n",
        "0 & 0 & 0 & i \\\\\n",
        "0 & 0 & -i& 0\n",
        "\\end{matrix}\\right]\n",
        "$$\n",
        "\n",
        "* Check if $H$ is Hermitian ($H^{\\dagger} = H$)"
      ]
    },
    {
      "cell_type": "code",
      "execution_count": 10,
      "metadata": {
        "colab": {
          "base_uri": "https://localhost:8080/"
        },
        "id": "Uwc8-BaEavjo",
        "outputId": "08070adf-7c43-47a9-cd66-af18801dbab4"
      },
      "outputs": [
        {
          "name": "stdout",
          "output_type": "stream",
          "text": [
            "H = \n",
            " [[ 1.+0.j  0.+0.j  0.+0.j  0.+0.j]\n",
            " [ 0.+0.j  1.+0.j  0.+0.j  0.+0.j]\n",
            " [ 0.+0.j  0.+0.j  0.+0.j  0.+1.j]\n",
            " [ 0.+0.j  0.+0.j -0.-1.j  0.+0.j]]\n"
          ]
        }
      ],
      "source": [
        "print(\"H = \\n\",H)"
      ]
    },
    {
      "cell_type": "code",
      "execution_count": 11,
      "metadata": {
        "colab": {
          "base_uri": "https://localhost:8080/"
        },
        "id": "8tHoiE3nb1yS",
        "outputId": "186b3130-1a35-4df7-8ac2-6e5ef6291bac"
      },
      "outputs": [
        {
          "name": "stdout",
          "output_type": "stream",
          "text": [
            "H+ = \n",
            " [[ 1.-0.j  0.-0.j  0.-0.j  0.-0.j]\n",
            " [ 0.-0.j  1.-0.j  0.-0.j  0.-0.j]\n",
            " [ 0.-0.j  0.-0.j  0.-0.j -0.+1.j]\n",
            " [ 0.-0.j  0.-0.j  0.-1.j  0.-0.j]]\n"
          ]
        }
      ],
      "source": [
        "print(\"H+ = \\n\",np.conjugate(H.T))"
      ]
    },
    {
      "cell_type": "markdown",
      "metadata": {
        "id": "h6Soq3NWcU81"
      },
      "source": [
        "* Calculate the eigenvalues of $H$:"
      ]
    },
    {
      "cell_type": "code",
      "execution_count": 12,
      "metadata": {
        "id": "SaBlYdxbcJ3y"
      },
      "outputs": [],
      "source": [
        "eval, evec = np.linalg.eig(H)"
      ]
    },
    {
      "cell_type": "code",
      "execution_count": 13,
      "metadata": {
        "colab": {
          "base_uri": "https://localhost:8080/"
        },
        "id": "MZu-w9EQc1Bq",
        "outputId": "68bd75e4-3a05-49e7-81da-e831face7b8a"
      },
      "outputs": [
        {
          "name": "stdout",
          "output_type": "stream",
          "text": [
            "[ 1.+0.j -1.+0.j  1.+0.j  1.+0.j]\n"
          ]
        }
      ],
      "source": [
        "print(eval)"
      ]
    },
    {
      "cell_type": "markdown",
      "metadata": {
        "id": "1EKnXoISutBC"
      },
      "source": [
        "### Problem 3\n",
        "\n",
        "Check the eigenvalues of H remain unchanged after unitary transformation in Tutorial problem 4\n",
        "\n"
      ]
    },
    {
      "cell_type": "code",
      "execution_count": 14,
      "metadata": {
        "colab": {
          "base_uri": "https://localhost:8080/"
        },
        "id": "xxRAAPPuc2Xb",
        "outputId": "9915025f-1c32-4a24-fe96-ed3f89e36899"
      },
      "outputs": [
        {
          "name": "stdout",
          "output_type": "stream",
          "text": [
            "[1.6 6. ]\n",
            "[6.  1.6]\n"
          ]
        }
      ],
      "source": [
        "H_psi = np.array([[1.6, 0], [0, 6]])\n",
        "H_phi = np.array([[3.8, -2.2], [-2.2, 3.8]])\n",
        "\n",
        "eval_psi, evec_psi = np.linalg.eig(H_psi)\n",
        "eval_phi, evec_phi = np.linalg.eig(H_phi)\n",
        "\n",
        "print(eval_psi)\n",
        "print(eval_phi)"
      ]
    },
    {
      "cell_type": "code",
      "execution_count": null,
      "metadata": {
        "id": "N9vE7YRjvbEH"
      },
      "outputs": [],
      "source": []
    }
  ],
  "metadata": {
    "colab": {
      "provenance": []
    },
    "kernelspec": {
      "display_name": "Python 3",
      "name": "python3"
    },
    "language_info": {
      "codemirror_mode": {
        "name": "ipython",
        "version": 3
      },
      "file_extension": ".py",
      "mimetype": "text/x-python",
      "name": "python",
      "nbconvert_exporter": "python",
      "pygments_lexer": "ipython3",
      "version": "3.10.12"
    }
  },
  "nbformat": 4,
  "nbformat_minor": 0
}

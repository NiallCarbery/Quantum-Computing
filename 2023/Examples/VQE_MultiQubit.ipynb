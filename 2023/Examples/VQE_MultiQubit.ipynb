{
  "cells": [
    {
      "cell_type": "markdown",
      "metadata": {
        "id": "BEJU1uAzK1U4"
      },
      "source": [
        "# Variational Circuits in Qiskit\n",
        "\n",
        "This notebook is an introduction to how to create variational circuits in Qiskit and how we can connnect it to a classical optimizer to prepare a target state vector. This is based on the variational method in quantum mechanics for finding an upper bound on the minimum eigenvalue, however here will just be measuring state fidelity.\n",
        "\n",
        "Further information can be found at the following links:\n",
        "\n",
        "\n",
        "*   https://qiskit.org/documentation/stubs/qiskit.algorithms.VQE.html\n",
        "*   https://qiskit.org/ecosystem/ibm-runtime/tutorials/vqe_with_estimator.html\n",
        "*   https://qiskit.org/documentation/stubs/qiskit.circuit.library.EfficientSU2.html\n",
        "*   https://qiskit.org/documentation/stubs/qiskit.circuit.library.TwoLocal.html#qiskit.circuit.library.TwoLocal\n",
        "\n",
        "We will consider two methods for creating our variational form, one manually and one using a built-in Qiskit library.\n",
        "\n",
        "Once you've identified an appropriate variational form you then need to optimize its parameters. A whole host of optimizers are available through Qiskit here (https://qiskit.org/documentation/stubs/qiskit.algorithms.optimizers.html). We note some below:\n",
        "\n",
        "*   We focus on COBYLA in this notebook, this is a non-gradient based classical optimiser and suitable for noiseless objective functions.\n",
        "*   Gradient-descent is typically not recommened for variational problems, this optimization strategy often gets stuck at poor local optima and is relatively expensive in terms of the number of circuit evaluations performed.  \n",
        "*   SPSA is more appropriate for noisy objective functions\n"
      ]
    },
    {
      "cell_type": "markdown",
      "metadata": {
        "id": "jtyMsMzXZ90z"
      },
      "source": [
        "\n",
        "1.   **Example with 3 Qubits and repeated variational form to find circuit that creates target state vector**"
      ]
    },
    {
      "cell_type": "code",
      "execution_count": 1,
      "metadata": {
        "id": "Dr2xnXDaXVcJ"
      },
      "outputs": [
        {
          "ename": "ImportError",
          "evalue": "Qiskit is installed in an invalid environment that has both Qiskit >=1.0 and an earlier version. You should create a new virtual environment, and ensure that you do not mix dependencies between Qiskit <1.0 and >=1.0. Any packages that depend on 'qiskit-terra' are not compatible with Qiskit 1.0 and will need to be updated. Qiskit unfortunately cannot enforce this requirement during environment resolution. See https://qisk.it/packaging-1-0 for more detail.",
          "output_type": "error",
          "traceback": [
            "\u001b[0;31m---------------------------------------------------------------------------\u001b[0m",
            "\u001b[0;31mImportError\u001b[0m                               Traceback (most recent call last)",
            "Cell \u001b[0;32mIn[1], line 3\u001b[0m\n\u001b[1;32m      1\u001b[0m \u001b[38;5;66;03m# Library Imports\u001b[39;00m\n\u001b[1;32m      2\u001b[0m \u001b[38;5;28;01mimport\u001b[39;00m \u001b[38;5;21;01mnumpy\u001b[39;00m \u001b[38;5;28;01mas\u001b[39;00m \u001b[38;5;21;01mnp\u001b[39;00m\n\u001b[0;32m----> 3\u001b[0m \u001b[38;5;28;01mfrom\u001b[39;00m \u001b[38;5;21;01mqiskit\u001b[39;00m \u001b[38;5;28;01mimport\u001b[39;00m QuantumCircuit, ClassicalRegister, QuantumRegister, Aer, transpile, assemble\n\u001b[1;32m      4\u001b[0m \u001b[38;5;28;01mfrom\u001b[39;00m \u001b[38;5;21;01mqiskit\u001b[39;00m\u001b[38;5;21;01m.\u001b[39;00m\u001b[38;5;21;01mquantum_info\u001b[39;00m \u001b[38;5;28;01mimport\u001b[39;00m Statevector\n\u001b[1;32m      5\u001b[0m \u001b[38;5;28;01mfrom\u001b[39;00m \u001b[38;5;21;01mqiskit\u001b[39;00m\u001b[38;5;21;01m.\u001b[39;00m\u001b[38;5;21;01malgorithms\u001b[39;00m\u001b[38;5;21;01m.\u001b[39;00m\u001b[38;5;21;01moptimizers\u001b[39;00m \u001b[38;5;28;01mimport\u001b[39;00m COBYLA, GradientDescent\n",
            "File \u001b[0;32m~/.local/lib/python3.10/site-packages/qiskit/__init__.py:36\u001b[0m\n\u001b[1;32m     34\u001b[0m     _suppress_error \u001b[38;5;241m=\u001b[39m os\u001b[38;5;241m.\u001b[39menviron\u001b[38;5;241m.\u001b[39mget(\u001b[38;5;124m\"\u001b[39m\u001b[38;5;124mQISKIT_SUPPRESS_1_0_IMPORT_ERROR\u001b[39m\u001b[38;5;124m\"\u001b[39m, \u001b[38;5;28;01mFalse\u001b[39;00m) \u001b[38;5;241m==\u001b[39m \u001b[38;5;124m\"\u001b[39m\u001b[38;5;124m1\u001b[39m\u001b[38;5;124m\"\u001b[39m\n\u001b[1;32m     35\u001b[0m     \u001b[38;5;28;01mif\u001b[39;00m \u001b[38;5;129;01mnot\u001b[39;00m _suppress_error \u001b[38;5;129;01mand\u001b[39;00m _has_tools:\n\u001b[0;32m---> 36\u001b[0m         \u001b[38;5;28;01mraise\u001b[39;00m \u001b[38;5;167;01mImportError\u001b[39;00m(\n\u001b[1;32m     37\u001b[0m             \u001b[38;5;124m\"\u001b[39m\u001b[38;5;124mQiskit is installed in an invalid environment that has both Qiskit >=1.0\u001b[39m\u001b[38;5;124m\"\u001b[39m\n\u001b[1;32m     38\u001b[0m             \u001b[38;5;124m\"\u001b[39m\u001b[38;5;124m and an earlier version.\u001b[39m\u001b[38;5;124m\"\u001b[39m\n\u001b[1;32m     39\u001b[0m             \u001b[38;5;124m\"\u001b[39m\u001b[38;5;124m You should create a new virtual environment, and ensure that you do not mix\u001b[39m\u001b[38;5;124m\"\u001b[39m\n\u001b[1;32m     40\u001b[0m             \u001b[38;5;124m\"\u001b[39m\u001b[38;5;124m dependencies between Qiskit <1.0 and >=1.0.\u001b[39m\u001b[38;5;124m\"\u001b[39m\n\u001b[1;32m     41\u001b[0m             \u001b[38;5;124m\"\u001b[39m\u001b[38;5;124m Any packages that depend on \u001b[39m\u001b[38;5;124m'\u001b[39m\u001b[38;5;124mqiskit-terra\u001b[39m\u001b[38;5;124m'\u001b[39m\u001b[38;5;124m are not compatible with Qiskit 1.0 and\u001b[39m\u001b[38;5;124m\"\u001b[39m\n\u001b[1;32m     42\u001b[0m             \u001b[38;5;124m\"\u001b[39m\u001b[38;5;124m will need to be updated.\u001b[39m\u001b[38;5;124m\"\u001b[39m\n\u001b[1;32m     43\u001b[0m             \u001b[38;5;124m\"\u001b[39m\u001b[38;5;124m Qiskit unfortunately cannot enforce this requirement during environment resolution.\u001b[39m\u001b[38;5;124m\"\u001b[39m\n\u001b[1;32m     44\u001b[0m             \u001b[38;5;124m\"\u001b[39m\u001b[38;5;124m See https://qisk.it/packaging-1-0 for more detail.\u001b[39m\u001b[38;5;124m\"\u001b[39m\n\u001b[1;32m     45\u001b[0m         )\n\u001b[1;32m     47\u001b[0m \u001b[38;5;28;01mimport\u001b[39;00m \u001b[38;5;21;01mqiskit\u001b[39;00m\u001b[38;5;21;01m.\u001b[39;00m\u001b[38;5;21;01m_accelerate\u001b[39;00m\n\u001b[1;32m     50\u001b[0m \u001b[38;5;66;03m# Globally define compiled submodules. The normal import mechanism will not find compiled submodules\u001b[39;00m\n\u001b[1;32m     51\u001b[0m \u001b[38;5;66;03m# in _accelerate because it relies on file paths, but PyO3 generates only one shared library file.\u001b[39;00m\n\u001b[1;32m     52\u001b[0m \u001b[38;5;66;03m# We manually define them on import so people can directly import qiskit._accelerate.* submodules\u001b[39;00m\n\u001b[1;32m     53\u001b[0m \u001b[38;5;66;03m# and not have to rely on attribute access.  No action needed for top-level extension packages.\u001b[39;00m\n",
            "\u001b[0;31mImportError\u001b[0m: Qiskit is installed in an invalid environment that has both Qiskit >=1.0 and an earlier version. You should create a new virtual environment, and ensure that you do not mix dependencies between Qiskit <1.0 and >=1.0. Any packages that depend on 'qiskit-terra' are not compatible with Qiskit 1.0 and will need to be updated. Qiskit unfortunately cannot enforce this requirement during environment resolution. See https://qisk.it/packaging-1-0 for more detail."
          ]
        }
      ],
      "source": [
        "# Library Imports\n",
        "import numpy as np\n",
        "from qiskit import QuantumCircuit, ClassicalRegister, QuantumRegister, Aer, transpile, assemble\n",
        "from qiskit.quantum_info import Statevector\n",
        "from qiskit.algorithms.optimizers import COBYLA, GradientDescent\n",
        "from qiskit.quantum_info import state_fidelity\n",
        "from qiskit.circuit.library import EfficientSU2\n"
      ]
    },
    {
      "cell_type": "markdown",
      "metadata": {
        "id": "rCH85k9dMp5x"
      },
      "source": [
        "Create a random 3 Qubit state vector that we want to prepare. Choosing the seed to start with will always choose the same random state vector."
      ]
    },
    {
      "cell_type": "code",
      "execution_count": null,
      "metadata": {
        "id": "FfWU058laaC7"
      },
      "outputs": [],
      "source": [
        "num_qbits = 3\n",
        "\n",
        "# Create random probability vector\n",
        "np.random.seed(999999)\n",
        "target_dist = np.random.rand(2**num_qbits)\n",
        "# Now convert the random vector into a valid state vector\n",
        "target_state = target_dist/np.sqrt(sum(np.abs(target_dist)**2))\n",
        "#target_state = (1/(2*np.sqrt(2)))*np.array([1, 1, 1, 1, 1, 1, 1, 1])\n",
        "Statevector(target_state).draw('latex')\n"
      ]
    },
    {
      "cell_type": "markdown",
      "metadata": {
        "id": "Aj_6BbIZNOpn"
      },
      "source": [
        "First we show a manual method for creating our variational circuit given a set of parameters. Ensure you follow how parameters are mapped to a given quantum gate.\n"
      ]
    },
    {
      "cell_type": "code",
      "execution_count": null,
      "metadata": {
        "id": "d3EzMq37ciPZ"
      },
      "outputs": [],
      "source": [
        "# Create Single 3 Qubit variational form given a QuantumCircuit\n",
        "def add_var_form(qc, current_rep, params):\n",
        "  num_qubits = len(qc.qubits)\n",
        "  for current_qubit_index in range(num_qubits):\n",
        "    qc.rx(params[2*(current_qubit_index) + 6*current_rep], current_qubit_index)\n",
        "    qc.rz(params[2*(current_qubit_index) + 6*current_rep + 1], current_qubit_index)\n",
        "  for current_qubit_index in range(num_qubits):\n",
        "    if(current_qubit_index + 1 < num_qubits):\n",
        "      qc.cx(current_qubit_index, current_qubit_index + 1)\n",
        "\n",
        "# Create the entire variational form circuit with repetitions\n",
        "## Returns a quantumcircuit\n",
        "## params[rep][0-5 for each single qubit gate]\n",
        "def create_var_form_circuit(num_qubits, num_cbits, num_reps, params):\n",
        "  qc = QuantumCircuit(num_qubits, num_cbits)\n",
        "  for current_rep in range(num_reps):\n",
        "    add_var_form(qc, current_rep, params)\n",
        "  qc.measure_all(add_bits=False)\n",
        "  return qc"
      ]
    },
    {
      "cell_type": "markdown",
      "metadata": {
        "id": "tyD26B6WNezr"
      },
      "source": [
        "For example, we can create the full circuit with 3 qubits, 3 classical bits, and 4 variational form repetitions. This variational form has a particular entanglement pattern known as \"linear\". We also pass a set of parameters to set the angles for all of the Rx and Rz gates, generated randomly as an initial set of parameters."
      ]
    },
    {
      "cell_type": "code",
      "execution_count": null,
      "metadata": {
        "id": "vnywdnCtSD9I"
      },
      "outputs": [],
      "source": [
        "num_reps   = 1\n",
        "num_1qg    = 2 #number of 1 qubit gates per qubit per rep\n",
        "num_cbits  = num_qbits\n",
        "\n",
        "params = np.random.rand(num_reps*num_1qg*num_qbits)\n",
        "qc = create_var_form_circuit(num_qbits, num_cbits, num_reps, params)\n",
        "\n",
        "qc.draw('mpl', style='iqp')"
      ]
    },
    {
      "cell_type": "markdown",
      "metadata": {
        "id": "VNTrJBJKN_bc"
      },
      "source": [
        "Next we note the quantum backend we will run our circuit on. You could also choose a noisy backend such as one based on an actual IBMQ device or even the actual IBMQ device itself."
      ]
    },
    {
      "cell_type": "code",
      "execution_count": null,
      "metadata": {
        "id": "HeyvaR1LcjWf"
      },
      "outputs": [],
      "source": [
        "# Specify objective function and return cost associated with parameter choice\n",
        "backend = Aer.get_backend(\"qasm_simulator\")\n",
        "NUM_SHOTS = 1000\n",
        "# Initial parameters for all single qubit rotation gates\n",
        "num_reps   = 1\n",
        "num_1qg    = 2 #number of 1 qubit gates per qubit per rep\n",
        "num_cbits  = num_qbits\n",
        "basis_states = [format(current_value, '0'+str(num_qbits)+'b') for current_value in range(0,2**num_qbits)]\n",
        "use_qiskit_function_flag = True\n",
        "\n",
        "# Given the set of counts measured for each basis state return a vector of probabilities\n",
        "def get_probability_distribution(counts):\n",
        "  output_dist = []\n",
        "  for current_key in basis_states:\n",
        "    output_dist.append(counts.get(current_key, 0)/NUM_SHOTS)\n",
        "  if (len(output_dist) == 1):\n",
        "    output_dist.append(1 - output_dist[0])\n",
        "  return output_dist\n",
        "\n",
        "def objective_function(params):\n",
        "  if use_qiskit_function_flag:\n",
        "    #Qiskit built in function\n",
        "    qc = EfficientSU2(num_qubits=num_qbits, entanglement=\"linear\", su2_gates=['rx', 'rz'], reps=num_reps, skip_final_rotation_layer=True)\n",
        "    qc = qc.bind_parameters(params)\n",
        "    qc.measure_all()\n",
        "  else:\n",
        "    #Manually create variational form\n",
        "    qc = create_var_form_circuit(num_qbits, num_cbits, num_reps, params)\n",
        "  #Execute the quantum circuit to obtain the probability distribution associated with the current parameters\n",
        "  trans_qc = transpile(qc, backend)\n",
        "  qobj     = assemble(trans_qc, shots=NUM_SHOTS)\n",
        "  result   = backend.run(qobj, shots=NUM_SHOTS).result()\n",
        "  #Obtain the counts for each measured state, and convert those counts into a probability vector\n",
        "  output_dist  = get_probability_distribution(result.get_counts(qc))\n",
        "  #Then create a valid quantum state vector\n",
        "  output_state = output_dist/(np.sqrt(sum(np.abs(output_dist)**2)))\n",
        "  #Calculate the cost using state fidelity\n",
        "  #cost = sum([np.abs(output_state[i] - target_dist[i]) for i in range(len(target_dist))])\n",
        "  cost = state_fidelity(Statevector(target_state), Statevector(output_state))\n",
        "  return (1-cost)"
      ]
    },
    {
      "cell_type": "markdown",
      "metadata": {
        "id": "n13RDD6hPbzt"
      },
      "source": [
        "Initialise the COBYLA optimizer and run the algorithm"
      ]
    },
    {
      "cell_type": "code",
      "execution_count": null,
      "metadata": {
        "id": "9FrwKZRvfg23"
      },
      "outputs": [],
      "source": [
        "# Initialise COBYLA\n",
        "optimizer = COBYLA(maxiter=10, tol=0.000001)\n",
        "#optimizer  = GradientDescent(maxiter=10)\n",
        "\n",
        "#Run Optimisation here\n",
        "params     = np.random.rand(num_reps*num_1qg*num_qbits)\n",
        "result_op  = optimizer.minimize(fun = objective_function, x0 = params)\n",
        "\n",
        "#Obtain optimized circuit\n",
        "if use_qiskit_function_flag:\n",
        "  qc = EfficientSU2(num_qubits=num_qbits, entanglement=\"linear\", su2_gates=['rx', 'rz'], reps=num_reps, skip_final_rotation_layer=True)\n",
        "  qc = qc.bind_parameters(result_op.x)\n",
        "  qc.measure_all()\n",
        "else:\n",
        "  qc = create_var_form_circuit(num_qbits, num_cbits, num_reps, result_op.x)\n",
        "\n",
        "trans_qc     = transpile(qc, backend)\n",
        "qobj         = assemble(trans_qc, shots=1000)\n",
        "counts       = backend.run(trans_qc).result().get_counts()\n",
        "output_dist  = get_probability_distribution(counts)\n",
        "output_state = output_dist/np.sqrt(sum(np.abs(output_dist)**2))\n",
        "\n",
        "print(\"Target State:\", target_state)\n",
        "print(\"Obtained State:\", output_state)\n",
        "print(\"State Fidelity:\", state_fidelity(Statevector(target_state), Statevector(output_state)))\n",
        "print(\"Parameters Found:\", result_op.x)\n",
        "\n",
        "\n",
        "qc.decompose().draw('mpl', fold=-1, style='iqp')\n",
        "#qc.draw('mpl', style='iqp')"
      ]
    },
    {
      "cell_type": "markdown",
      "metadata": {
        "id": "p_yP5F3KTGhM"
      },
      "source": [
        "# Questions to consider\n",
        "\n",
        "*   How does the number of shots in the quantum circuit affect the outcome?\n",
        "*   How does the number of classical iterations for the optimizer affect the outcome?\n",
        "*   How does the number of variational form repetitions affect the outcome?\n",
        "*   What about the choice of classical optimizer?\n",
        "*   Can you run this on a noisy backend and compare the performance of classical optimizers?"
      ]
    },
    {
      "cell_type": "code",
      "execution_count": null,
      "metadata": {
        "id": "dpubll_vTEnq"
      },
      "outputs": [],
      "source": []
    },
    {
      "cell_type": "code",
      "execution_count": null,
      "metadata": {
        "id": "16W0wsNzMgdx"
      },
      "outputs": [],
      "source": []
    }
  ],
  "metadata": {
    "colab": {
      "provenance": []
    },
    "kernelspec": {
      "display_name": "Python 3",
      "name": "python3"
    },
    "language_info": {
      "codemirror_mode": {
        "name": "ipython",
        "version": 3
      },
      "file_extension": ".py",
      "mimetype": "text/x-python",
      "name": "python",
      "nbconvert_exporter": "python",
      "pygments_lexer": "ipython3",
      "version": "3.10.12"
    }
  },
  "nbformat": 4,
  "nbformat_minor": 0
}

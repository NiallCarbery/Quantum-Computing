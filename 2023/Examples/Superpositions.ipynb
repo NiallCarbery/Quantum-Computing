{
  "cells": [
    {
      "cell_type": "code",
      "execution_count": 1,
      "metadata": {
        "id": "p2ZBwItH8cq8"
      },
      "outputs": [],
      "source": [
        "#The function that provides the Bernoulli distribution\n",
        "from scipy.stats import bernoulli\n",
        "#The numpy library\n",
        "import numpy as np\n",
        "#The graphical tool\n",
        "import matplotlib.pyplot as plt\n"
      ]
    },
    {
      "cell_type": "code",
      "execution_count": 2,
      "metadata": {
        "colab": {
          "base_uri": "https://localhost:8080/"
        },
        "id": "wNBMh2U6KNO1",
        "outputId": "3ee4ee33-19e8-489d-feea-47b0b7f8e3c8"
      },
      "outputs": [
        {
          "name": "stdout",
          "output_type": "stream",
          "text": [
            "[]\n",
            "[1]\n",
            "1\n",
            "{}\n",
            "{'a': 1}\n",
            "1\n",
            "['a']\n",
            "4\n"
          ]
        }
      ],
      "source": [
        "# Recap of some important Python concepts\n",
        "\n",
        "## List\n",
        "# We can create an empty list like so:\n",
        "example_list  = []\n",
        "print(example_list)\n",
        "# We can add items to the list\n",
        "example_list.append(1)\n",
        "print(example_list)\n",
        "# We can index into the list starting from index 0\n",
        "print(example_list[0])\n",
        "\n",
        "## Dictionaries\n",
        "# A dictionary is an unordered collection of key/value pairs. Let's create an empty dictionary:\n",
        "example_dict = {}\n",
        "print(example_dict)\n",
        "# Let's add a key/value pair to the example\n",
        "example_dict['a'] = 1\n",
        "print(example_dict)\n",
        "# Let's access the value stored at key 'a'\n",
        "print(example_dict['a'])\n",
        "# We can list all of the available keys\n",
        "print(list(example_dict.keys()))\n",
        "\n",
        "## Lambda Function\n",
        "# These are short functions we can use to carry out common operations\n",
        "# Let's write a lambda function to take a number and return its square\n",
        "square_number = lambda number : number**2\n",
        "# We can call the lambda function like so\n",
        "print(square_number(2))"
      ]
    },
    {
      "cell_type": "markdown",
      "metadata": {
        "id": "sKXZ3a3HJnOi"
      },
      "source": [
        "### Problem 1:\n",
        "A qubit is in a superposition state with:\n",
        "\n",
        "1. $a = \\frac{1}{\\sqrt{2}}$ and $b = \\frac{1}{\\sqrt{2}}$\n",
        "2. $a = i \\sqrt{\\frac{2}{5}}$ and $b = \\sqrt{\\frac{3}{5}}$\n",
        "3. $a = \\sqrt{\\frac{2}{5}}$ and $b = i \\sqrt{\\frac{3}{5}}$\n",
        "4. $\\theta = \\frac{\\pi}{4}$ and $\\phi = \\frac{\\pi}{6}$\n",
        "5. $\\theta = \\frac{\\pi}{4}$ and $\\phi = 0$\n",
        "6. $a = \\frac{1}{2}$  and $b =\\frac{1}{3}$\n",
        "\n",
        "Find the result of the measurement of this qubit and interpret it.\n",
        "\n",
        "In order to find the result, we find $|a|^2$ and $|b|^2$\n",
        "\n",
        "These are probability amplitudes. To interpret it, we must generate a random Bernoulli process with $p$ and $(1-p)$ and we plot histogram to make sure that they give $|a|^2$ and $|b|^2$.  \n",
        "\n",
        "\n"
      ]
    },
    {
      "cell_type": "code",
      "execution_count": 3,
      "metadata": {
        "id": "pq975n_ZiOhg"
      },
      "outputs": [],
      "source": [
        "#Let's write a lambda function to return a probability from a probability amplitude\n",
        "probability = lambda amplitude : np.abs(amplitude)**2"
      ]
    },
    {
      "cell_type": "code",
      "execution_count": 4,
      "metadata": {
        "colab": {
          "base_uri": "https://localhost:8080/"
        },
        "id": "sCv9_JSrjOP8",
        "outputId": "68d86012-2f0a-4d43-9d32-5e3b0eb7d796"
      },
      "outputs": [
        {
          "name": "stdout",
          "output_type": "stream",
          "text": [
            "State normalised?: True\n"
          ]
        }
      ],
      "source": [
        "#Problem 1 Part 1\n",
        "\n",
        "## Some questions to consider:\n",
        "##  Does the relative phase affect the probability outcomes at the end?\n",
        "##  Is every state properly normalised?\n",
        "\n",
        "## Define our probability amplitudes\n",
        "amplitudes = [{'a': 1/np.sqrt(2), 'b': 1/np.sqrt(2)}, {'a': 1j*np.sqrt(2/5), 'b': np.sqrt(3/5)}, {'a': np.sqrt(2/5), 'b': 1j*np.sqrt(3/5)},\\\n",
        "              {'a': np.cos((np.pi/4)/2), 'b': np.exp(1j*np.pi/6)*np.sin((np.pi/4)/2)}, {'a': np.cos((np.pi/4)/2), 'b': np.exp(1j*0)*np.sin((np.pi/4)/2)}, {'a': 1/2, 'b': 1/3}]\n",
        "\n",
        "## Calculate our probabilities\n",
        "state_index   = 0\n",
        "probability_a = probability(amplitudes[state_index]['a'])\n",
        "probability_b = probability(amplitudes[state_index]['b'])\n",
        "\n",
        "## Confirm that our state is normalised, that our probabilities sum to 1\n",
        "probablity_sum = probability_a + probability_b\n",
        "norm_check     = np.isclose([probablity_sum], [1.0])\n",
        "print(\"State normalised?: \" + str(norm_check[0]))"
      ]
    },
    {
      "cell_type": "code",
      "execution_count": 5,
      "metadata": {
        "colab": {
          "base_uri": "https://localhost:8080/",
          "height": 524
        },
        "id": "waJmBe_Ykv-2",
        "outputId": "d9a5f8e7-d375-4364-8e94-099fb93de626"
      },
      "outputs": [
        {
          "data": {
            "image/png": "[encoded data removed]",
            "text/plain": [
              "<Figure size 640x480 with 1 Axes>"
            ]
          },
          "metadata": {},
          "output_type": "display_data"
        },
        {
          "name": "stdout",
          "output_type": "stream",
          "text": [
            "{0: 5024, 1: 4976}\n",
            "p1 = 49.76 %\n",
            "p0 = 50.24 %\n"
          ]
        }
      ],
      "source": [
        "## Recall that a is the amplitude associated with the state 0 and b is the amplitude associated with state 1\n",
        "## So the probability to get the state 1 is np.abs(b)**2\n",
        "## Let's generate a bernoulli distribution using this probability to get the state 1\n",
        "\n",
        "## The Bernoulli process with 10000 instances and probability to receive \"1\" equal to probabiliy_b\n",
        "bernoulli_process = bernoulli.rvs(probability_b, size=10000)\n",
        "\n",
        "#The histogram that gives states probability:\n",
        "plt.hist(bernoulli_process, bins=[0,1,2], color=\"g\")\n",
        "plt.xticks([0.5,1.5],[0,1])\n",
        "plt.xlabel(\"State\")\n",
        "plt.ylabel(\"Number of counts\")\n",
        "plt.title(\"State Index: \" + str(state_index))\n",
        "plt.show()\n",
        "\n",
        "## Count the number of unique counts:\n",
        "unique, counts = np.unique(bernoulli_process, return_counts=True)\n",
        "## Creating the dictionary:\n",
        "c = dict(zip(unique, counts))\n",
        "#Output:\n",
        "print(c)\n",
        "\n",
        "#Calculating probability:\n",
        "print(\"p1 = %.2f %%\"%(100*c[1]/len(bernoulli_process)))\n",
        "print(\"p0 = %.2f %%\"%(100*c[0]/len(bernoulli_process)))\n"
      ]
    },
    {
      "cell_type": "markdown",
      "metadata": {
        "id": "EggkZPdQiG7Z"
      },
      "source": [
        "### Problem 2:\n",
        "A probabilistic bit is characterised by a probability $p$. How do we observe the bit, what is its distribution and how it is different from a qubit?"
      ]
    },
    {
      "cell_type": "code",
      "execution_count": 6,
      "metadata": {
        "id": "Yw78tQKU8mc3"
      },
      "outputs": [],
      "source": [
        "#Probability to get \"1\"\n",
        "p = 0.3"
      ]
    },
    {
      "cell_type": "code",
      "execution_count": 7,
      "metadata": {
        "id": "0pP7iwGb9RUF"
      },
      "outputs": [],
      "source": [
        "#The Bernoulli process with 1000 instances and probability to receive \"1\" equal to p\n",
        "r = bernoulli.rvs(p, size=10000)"
      ]
    },
    {
      "cell_type": "code",
      "execution_count": 8,
      "metadata": {
        "colab": {
          "base_uri": "https://localhost:8080/"
        },
        "id": "2S2KDMAr9Zqf",
        "outputId": "f1edd1b6-c610-449a-8d9f-cbabf30c78f8"
      },
      "outputs": [
        {
          "name": "stdout",
          "output_type": "stream",
          "text": [
            "[1 1 0 ... 1 0 0]\n"
          ]
        }
      ],
      "source": [
        "#Printing the process\n",
        "print(r)"
      ]
    },
    {
      "cell_type": "code",
      "execution_count": 9,
      "metadata": {
        "colab": {
          "base_uri": "https://localhost:8080/",
          "height": 279
        },
        "id": "eZ-w51Dk45Sk",
        "outputId": "e953f7d4-62c3-4210-b9d0-34e3c320d359"
      },
      "outputs": [
        {
          "data": {
            "image/png": "[encoded data removed]",
            "text/plain": [
              "<Figure size 640x480 with 1 Axes>"
            ]
          },
          "metadata": {},
          "output_type": "display_data"
        }
      ],
      "source": [
        "plt.plot(r[:90],'.')\n",
        "plt.xlabel(\"Number of count\")\n",
        "plt.ylabel(\"Value\")\n",
        "plt.show()"
      ]
    },
    {
      "cell_type": "code",
      "execution_count": 10,
      "metadata": {
        "colab": {
          "base_uri": "https://localhost:8080/",
          "height": 279
        },
        "id": "mhgdrH1a9aSi",
        "outputId": "daca7f2e-aed0-49d7-a4bd-27f0a93e3c3e"
      },
      "outputs": [
        {
          "data": {
            "image/png": "[encoded data removed]",
            "text/plain": [
              "<Figure size 640x480 with 1 Axes>"
            ]
          },
          "metadata": {},
          "output_type": "display_data"
        }
      ],
      "source": [
        "#The histogram that gives states probability:\n",
        "plt.hist(r, bins=[0,1,2], color=\"g\")\n",
        "plt.xticks([0.5,1.5],[0,1])\n",
        "plt.xlabel(\"State\")\n",
        "plt.ylabel(\"Number of counts\")\n",
        "plt.show()"
      ]
    },
    {
      "cell_type": "code",
      "execution_count": 11,
      "metadata": {
        "colab": {
          "base_uri": "https://localhost:8080/"
        },
        "id": "1HJo6B1S9lMa",
        "outputId": "e3824526-bba6-41ca-8d3f-468609345bc2"
      },
      "outputs": [
        {
          "name": "stdout",
          "output_type": "stream",
          "text": [
            "{0: 7009, 1: 2991}\n"
          ]
        }
      ],
      "source": [
        "#Count the number of unique counts:\n",
        "unique, counts = np.unique(r, return_counts=True)\n",
        "#Creating the dictionary:\n",
        "c = dict(zip(unique, counts))\n",
        "#Output:\n",
        "print(c)"
      ]
    },
    {
      "cell_type": "code",
      "execution_count": 12,
      "metadata": {
        "colab": {
          "base_uri": "https://localhost:8080/"
        },
        "id": "LnNHIWSK3xO_",
        "outputId": "0851eef1-8382-4f1a-9534-b8b9f3c2e9b1"
      },
      "outputs": [
        {
          "name": "stdout",
          "output_type": "stream",
          "text": [
            "p1 = 29.91 %\n",
            "p0 = 70.09 %\n"
          ]
        }
      ],
      "source": [
        "#Calculating probability:\n",
        "print(\"p1 = %.2f %%\"%(100*c[1]/len(r)))\n",
        "print(\"p0 = %.2f %%\"%(100*c[0]/len(r)))"
      ]
    },
    {
      "cell_type": "code",
      "execution_count": null,
      "metadata": {
        "id": "G7jLUPHT4Gcu"
      },
      "outputs": [],
      "source": []
    }
  ],
  "metadata": {
    "colab": {
      "provenance": []
    },
    "kernelspec": {
      "display_name": "Python 3",
      "name": "python3"
    },
    "language_info": {
      "codemirror_mode": {
        "name": "ipython",
        "version": 3
      },
      "file_extension": ".py",
      "mimetype": "text/x-python",
      "name": "python",
      "nbconvert_exporter": "python",
      "pygments_lexer": "ipython3",
      "version": "3.10.12"
    }
  },
  "nbformat": 4,
  "nbformat_minor": 0
}

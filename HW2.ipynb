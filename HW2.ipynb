{
 "cells": [
  {
   "cell_type": "markdown",
   "metadata": {},
   "source": [
    "Niall Carbery -- 22380966"
   ]
  },
  {
   "cell_type": "markdown",
   "metadata": {},
   "source": [
    "1) Figure 1 shows a quantum circuit. This quantum circuit is known as the qubit encoding stage used, in\n",
    "particular, in repetition quantum error correction codes to mitigate phase flipping errors. Assume that\n",
    "the input state of the data qubit is √3/2 |0⟩ + 1/2 |1⟩. Consider the circuit to be ideal."
   ]
  },
  {
   "cell_type": "markdown",
   "metadata": {},
   "source": [
    "(a) What is the density matrix of the 3-qubit state at the output of the circuit?"
   ]
  },
  {
   "cell_type": "code",
   "execution_count": 187,
   "metadata": {},
   "outputs": [],
   "source": [
    "from qiskit import QuantumRegister, ClassicalRegister, QuantumCircuit\n",
    "import numpy as np\n",
    "import quimb as qu\n",
    "\n",
    "np.set_printoptions(formatter={'float': lambda x: \"{0:0.3f}\".format(x)})"
   ]
  },
  {
   "cell_type": "code",
   "execution_count": 188,
   "metadata": {},
   "outputs": [
    {
     "data": {
      "image/png": "[encoded data removed]",
      "text/plain": [
       "<Figure size 538.33x367.889 with 1 Axes>"
      ]
     },
     "execution_count": 188,
     "metadata": {},
     "output_type": "execute_result"
    }
   ],
   "source": [
    "qreg_q = QuantumRegister(3, 'q')\n",
    "creg_c = ClassicalRegister(4, 'c')\n",
    "circuit = QuantumCircuit(qreg_q, creg_c)\n",
    "\n",
    "intial_state = np.array([np.sqrt(3)/2, 1/2])\n",
    "\n",
    "circuit.initialize(intial_state, qreg_q[0])\n",
    "circuit.cx(qreg_q[0], qreg_q[1])\n",
    "circuit.cx(qreg_q[0], qreg_q[2])\n",
    "circuit.h(qreg_q[0])\n",
    "circuit.h(qreg_q[2])\n",
    "circuit.h(qreg_q[1])\n",
    "circuit.draw(output='mpl')"
   ]
  },
  {
   "cell_type": "markdown",
   "metadata": {},
   "source": [
    "Image generated through Qiskit, Output state found numerically while apply swap gates about the 2nd CNOT gate. "
   ]
  },
  {
   "cell_type": "code",
   "execution_count": 189,
   "metadata": {},
   "outputs": [
    {
     "name": "stdout",
     "output_type": "stream",
     "text": [
      "Psi Out > =  \n",
      " [[0.483]\n",
      " [0.129]\n",
      " [0.129]\n",
      " [0.483]\n",
      " [0.129]\n",
      " [0.483]\n",
      " [0.483]\n",
      " [0.129]]\n"
     ]
    }
   ],
   "source": [
    "initial_state = np.array([[np.sqrt(3)/2], [1/2]])\n",
    "\n",
    "indentity = np.array([[1,0],[0,1]])\n",
    "zero = np.array([[1], [0]])\n",
    "H_gate = (1/np.sqrt(2))*np.array([[1 ,1], [1, -1]])\n",
    "swap_gate = np.array([[1, 0, 0, 0], [0, 0, 1, 0], [0, 1, 0, 0], [0, 0, 0, 1]])\n",
    "\n",
    "cnot_gate = np.array([[1, 0, 0, 0], [0, 1, 0, 0], [0, 0, 0, 1], [0, 0, 1, 0]])\n",
    "cnot_gate13 = np.kron(indentity, swap_gate)@np.kron(cnot_gate, indentity)@np.kron(indentity, swap_gate)\n",
    "triple_H  = np.kron(np.kron(H_gate, H_gate), H_gate)\n",
    "\n",
    "psi_initial = np.kron(np.kron(initial_state, zero), zero)\n",
    "\n",
    "psi_out = triple_H@cnot_gate13@np.kron(cnot_gate, indentity)@psi_initial\n",
    "\n",
    "print('Psi Out > =  \\n', psi_out)\n"
   ]
  },
  {
   "cell_type": "code",
   "execution_count": 190,
   "metadata": {},
   "outputs": [
    {
     "name": "stdout",
     "output_type": "stream",
     "text": [
      "Denisty Matrix of Output State: \n",
      " [[0.233 0.062 0.062 0.233 0.062 0.233 0.233 0.062]\n",
      " [0.062 0.017 0.017 0.062 0.017 0.062 0.062 0.017]\n",
      " [0.062 0.017 0.017 0.062 0.017 0.062 0.062 0.017]\n",
      " [0.233 0.062 0.062 0.233 0.062 0.233 0.233 0.062]\n",
      " [0.062 0.017 0.017 0.062 0.017 0.062 0.062 0.017]\n",
      " [0.233 0.062 0.062 0.233 0.062 0.233 0.233 0.062]\n",
      " [0.233 0.062 0.062 0.233 0.062 0.233 0.233 0.062]\n",
      " [0.062 0.017 0.017 0.062 0.017 0.062 0.062 0.017]]\n",
      "Valid Denisty Matrix Test: \n",
      " True\n"
     ]
    }
   ],
   "source": [
    "def dagger(state):\n",
    "    return np.transpose(np.conj(state))\n",
    "\n",
    "rho = psi_out@dagger(psi_out)\n",
    "\n",
    "print('Denisty Matrix of Output State: \\n', rho)\n",
    "\n",
    "def is_valid_rho(rho):\n",
    "    # Check if Hermitian\n",
    "    is_hermitian   = np.array_equal(dagger(rho), rho)\n",
    "\n",
    "    # Calculate the trace and check if equal to 1\n",
    "    trace_rho      = np.isclose(qu.trace(rho), 1)\n",
    "\n",
    "    # Calculate eigenvalues and check if non-negative\n",
    "    eigvals_rho    = np.linalg.eigvals(rho)\n",
    "    eigvals_nonneg = all(eigval > 0 or np.isclose(eigval, 0) for eigval in eigvals_rho)\n",
    "\n",
    "    # Condition for valid density matrix\n",
    "    return (is_hermitian and trace_rho and eigvals_nonneg)\n",
    "\n",
    "\n",
    "print('Valid Denisty Matrix Test: \\n', is_valid_rho(rho))"
   ]
  },
  {
   "cell_type": "markdown",
   "metadata": {},
   "source": [
    "(b) What is the expected value of the observable operator Z (measuring the qubit in the calculation\n",
    "basis, along the z-axis of the Bloch sphere) of the first qubit."
   ]
  },
  {
   "cell_type": "code",
   "execution_count": 191,
   "metadata": {},
   "outputs": [
    {
     "name": "stdout",
     "output_type": "stream",
     "text": [
      "Initial Denisty Matrix: \n",
      " [[0.750 0.433]\n",
      " [0.433 0.250]]\n",
      "Expected Value of the Observable Opertaor Z: 0.4999999999999999\n"
     ]
    }
   ],
   "source": [
    "#Expected value of observable Z on first quibit\n",
    "\n",
    "rho_initial = initial_state@dagger(initial_state)\n",
    "\n",
    "print('Initial Denisty Matrix: \\n', rho_initial)\n",
    "\n",
    "Z_gate = np.array([[1 ,0], [0, -1]])\n",
    "\n",
    "expected = np.trace(rho_initial@Z_gate)\n",
    "\n",
    "print('Expected Value of the Observable Opertaor Z:', expected)"
   ]
  },
  {
   "cell_type": "markdown",
   "metadata": {},
   "source": [
    "(c) What is the state of qubit 1 if you cannot measure qubits 2 and 3?"
   ]
  },
  {
   "cell_type": "code",
   "execution_count": 192,
   "metadata": {},
   "outputs": [
    {
     "name": "stdout",
     "output_type": "stream",
     "text": [
      "Partial Trace over Quibit 2 and 3 to find state of Quibit 1:\n",
      " [[0.5  0.25]\n",
      " [0.25 0.5 ]]\n",
      "State of quibit 1: \n",
      " [[0.707]\n",
      " [0.707]]\n"
     ]
    }
   ],
   "source": [
    "partial_trace_q1 = qu.ptr(rho, [2,2,2], [0])\n",
    "print('Partial Trace over Quibit 2 and 3 to find state of Quibit 1:\\n', partial_trace_q1)\n",
    "print('State of quibit 1: \\n', np.array([[np.sqrt(partial_trace_q1[0,0])], [np.sqrt(partial_trace_q1[1,1])]]))"
   ]
  },
  {
   "cell_type": "markdown",
   "metadata": {},
   "source": [
    "State of Qubit 1 (Subsystem A):\n",
    "\n",
    "(d) If we cannot measure qubits 2 and 3 (i.e., we trace out subsystems B and C), we focus only on the reduced density matrix for subsystem A.\n",
    "Where we get equal probabilties of finding |0> and |1>"
   ]
  },
  {
   "cell_type": "code",
   "execution_count": 193,
   "metadata": {},
   "outputs": [
    {
     "name": "stdout",
     "output_type": "stream",
     "text": [
      "Partial Trace over Quibit 2 and 3 to find state of Quibit 3:\n",
      " [[0.5  0.25]\n",
      " [0.25 0.5 ]]\n",
      "State of quibit 1: \n",
      " [[0.707]\n",
      " [0.707]]\n"
     ]
    }
   ],
   "source": [
    "partial_trace_q3 = qu.ptr(rho, [2,2,2], [2])\n",
    "print('Partial Trace over Quibit 2 and 3 to find state of Quibit 3:\\n', partial_trace_q3)\n",
    "print('State of quibit 1: \\n', np.array([[np.sqrt(partial_trace_q3[0,0])], [np.sqrt(partial_trace_q3[1,1])]]))"
   ]
  },
  {
   "cell_type": "markdown",
   "metadata": {},
   "source": [
    "If we cannot measure qubits 1 and 2 (i.e., we trace out subsystems A and B), we focus only on the reduced density matrix for subsystem C.\n",
    "Where we get equal probabilties of finding |0> and |1> again"
   ]
  },
  {
   "cell_type": "markdown",
   "metadata": {},
   "source": [
    "(e) Suppose that we applied the measurement from part (b) of this problem on the first qubit at the\n",
    "output. What is the state of the system after the measurement? What can you say about the\n",
    "system after the measurement?"
   ]
  },
  {
   "cell_type": "code",
   "execution_count": 194,
   "metadata": {},
   "outputs": [
    {
     "name": "stdout",
     "output_type": "stream",
     "text": [
      "Psi Out with X gate applied: \n",
      " [[0.483]\n",
      " [0.129]\n",
      " [0.129]\n",
      " [0.483]\n",
      " [-0.129]\n",
      " [-0.483]\n",
      " [-0.483]\n",
      " [-0.129]]\n"
     ]
    }
   ],
   "source": [
    "z_psi_out = np.kron(np.kron(Z_gate, indentity), indentity)@psi_out\n",
    "print('Psi Out with Z gate applied: \\n', z_psi_out)"
   ]
  },
  {
   "cell_type": "markdown",
   "metadata": {},
   "source": [
    "The signs of state |1 .. ..> changed i.e. introducing a phase change. However after encoding, the state of the main qubit is spread across all three qubits.Applying the Z gate to the first qubit modifies the encoded state.The three-qubit code can still correct bit-flip errors even after applying the Z gate. But our |0 .. ..> state of first quibit still preserves the full state."
   ]
  },
  {
   "cell_type": "code",
   "execution_count": 195,
   "metadata": {},
   "outputs": [
    {
     "name": "stdout",
     "output_type": "stream",
     "text": [
      "[[0.233 0.062 0.062 0.233 -0.062 -0.233 -0.233 -0.062]\n",
      " [0.062 0.017 0.017 0.062 -0.017 -0.062 -0.062 -0.017]\n",
      " [0.062 0.017 0.017 0.062 -0.017 -0.062 -0.062 -0.017]\n",
      " [0.233 0.062 0.062 0.233 -0.062 -0.233 -0.233 -0.062]\n",
      " [-0.062 -0.017 -0.017 -0.062 0.017 0.062 0.062 0.017]\n",
      " [-0.233 -0.062 -0.062 -0.233 0.062 0.233 0.233 0.062]\n",
      " [-0.233 -0.062 -0.062 -0.233 0.062 0.233 0.233 0.062]\n",
      " [-0.062 -0.017 -0.017 -0.062 0.017 0.062 0.062 0.017]]\n"
     ]
    }
   ],
   "source": [
    "print(z_psi_out@dagger(z_psi_out))"
   ]
  },
  {
   "cell_type": "markdown",
   "metadata": {},
   "source": [
    "The probabilites are preserved along the population diagonal however the coherence have all acquired a sign change in the desnity matrix."
   ]
  }
 ],
 "metadata": {
  "kernelspec": {
   "display_name": "Python 3",
   "language": "python",
   "name": "python3"
  },
  "language_info": {
   "codemirror_mode": {
    "name": "ipython",
    "version": 3
   },
   "file_extension": ".py",
   "mimetype": "text/x-python",
   "name": "python",
   "nbconvert_exporter": "python",
   "pygments_lexer": "ipython3",
   "version": "3.10.12"
  }
 },
 "nbformat": 4,
 "nbformat_minor": 2
}
